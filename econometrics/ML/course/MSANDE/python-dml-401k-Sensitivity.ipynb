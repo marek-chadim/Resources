{
 "cells": [
  {
   "cell_type": "markdown",
   "id": "narrative-sailing",
   "metadata": {
    "papermill": {
     "duration": 0.040767,
     "end_time": "2021-03-24T14:13:51.082088",
     "exception": false,
     "start_time": "2021-03-24T14:13:51.041321",
     "status": "completed"
    },
    "tags": []
   },
   "source": [
    "# Inference on Predictive and Causal Effects in High-Dimensional Nonlinear Models"
   ]
  },
  {
   "cell_type": "markdown",
   "id": "ready-appearance",
   "metadata": {
    "papermill": {
     "duration": 0.036878,
     "end_time": "2021-03-24T14:13:51.155414",
     "exception": false,
     "start_time": "2021-03-24T14:13:51.118536",
     "status": "completed"
    },
    "tags": []
   },
   "source": [
    "## Impact of 401(k) on  Financial Wealth\n",
    "\n",
    "As a practical illustration of the methods developed in this lecture, we consider estimation of the effect of 401(k) eligibility and participation \n",
    "on accumulated assets. 401(k) plans are pension accounts sponsored by employers. The key problem in determining the effect of participation in 401(k) plans on accumulated assets is saver heterogeneity coupled with the fact that the decision to enroll in a 401(k) is non-random. It is generally recognized that some people have a higher preference for saving than others. It also seems likely that those individuals with high unobserved preference for saving would be most likely to choose to participate in tax-advantaged retirement savings plans and would tend to have otherwise high amounts of accumulated assets. The presence of unobserved savings preferences with these properties then implies that conventional estimates that do not account for saver heterogeneity and endogeneity of participation will be biased upward, tending to overstate the savings effects of 401(k) participation.\n",
    "\n",
    "One can argue that eligibility for enrolling in a 401(k) plan in this data can be taken as exogenous after conditioning on a few observables of which the most important for their argument is income. The basic idea is that, at least around the time 401(k)’s initially became available, people were unlikely to be basing their employment decisions on whether an employer offered a 401(k) but would instead focus on income and other aspects of the job. "
   ]
  },
  {
   "cell_type": "markdown",
   "id": "divine-phoenix",
   "metadata": {
    "papermill": {
     "duration": 0.036497,
     "end_time": "2021-03-24T14:13:51.229370",
     "exception": false,
     "start_time": "2021-03-24T14:13:51.192873",
     "status": "completed"
    },
    "tags": []
   },
   "source": [
    "### Data\n",
    "\n",
    "The data set can be downloaded from the github repo\n"
   ]
  },
  {
   "cell_type": "code",
   "execution_count": 1,
   "id": "75662e18",
   "metadata": {},
   "outputs": [],
   "source": [
    "# Import relevant packages\n",
    "import pandas as pd\n",
    "import numpy as np\n",
    "import matplotlib.pyplot as plt\n",
    "from sklearn.model_selection import train_test_split\n",
    "from sklearn.model_selection import cross_val_score, cross_val_predict, KFold\n",
    "from sklearn.pipeline import make_pipeline\n",
    "from sklearn.linear_model import LassoCV, RidgeCV, ElasticNetCV, LinearRegression, Ridge, Lasso, LogisticRegressionCV\n",
    "from sklearn.preprocessing import StandardScaler\n",
    "from sklearn.ensemble import GradientBoostingRegressor, GradientBoostingClassifier\n",
    "from sklearn.ensemble import RandomForestRegressor, RandomForestClassifier\n",
    "from sklearn.tree import DecisionTreeRegressor, DecisionTreeClassifier\n",
    "import patsy\n",
    "import warnings\n",
    "from sklearn.base import BaseEstimator, clone\n",
    "import statsmodels.api as sm\n",
    "from IPython.display import Markdown\n",
    "import wget\n",
    "import os\n",
    "import seaborn as sns\n",
    "warnings.simplefilter('ignore')\n",
    "np.random.seed(1234)"
   ]
  },
  {
   "cell_type": "code",
   "execution_count": 2,
   "id": "6e66e77f",
   "metadata": {},
   "outputs": [],
   "source": [
    "file = \"https://raw.githubusercontent.com/CausalAIBook/MetricsMLNotebooks/main/data/401k.csv\"\n",
    "data = pd.read_csv(file)"
   ]
  },
  {
   "cell_type": "code",
   "execution_count": 3,
   "id": "65a2d086",
   "metadata": {},
   "outputs": [
    {
     "data": {
      "text/html": [
       "<div>\n",
       "<style scoped>\n",
       "    .dataframe tbody tr th:only-of-type {\n",
       "        vertical-align: middle;\n",
       "    }\n",
       "\n",
       "    .dataframe tbody tr th {\n",
       "        vertical-align: top;\n",
       "    }\n",
       "\n",
       "    .dataframe thead th {\n",
       "        text-align: right;\n",
       "    }\n",
       "</style>\n",
       "<table border=\"1\" class=\"dataframe\">\n",
       "  <thead>\n",
       "    <tr style=\"text-align: right;\">\n",
       "      <th></th>\n",
       "      <th>ira</th>\n",
       "      <th>a401</th>\n",
       "      <th>hval</th>\n",
       "      <th>hmort</th>\n",
       "      <th>hequity</th>\n",
       "      <th>nifa</th>\n",
       "      <th>net_nifa</th>\n",
       "      <th>tfa</th>\n",
       "      <th>net_tfa</th>\n",
       "      <th>tfa_he</th>\n",
       "      <th>...</th>\n",
       "      <th>i3</th>\n",
       "      <th>i4</th>\n",
       "      <th>i5</th>\n",
       "      <th>i6</th>\n",
       "      <th>i7</th>\n",
       "      <th>a1</th>\n",
       "      <th>a2</th>\n",
       "      <th>a3</th>\n",
       "      <th>a4</th>\n",
       "      <th>a5</th>\n",
       "    </tr>\n",
       "  </thead>\n",
       "  <tbody>\n",
       "    <tr>\n",
       "      <th>count</th>\n",
       "      <td>9915.000000</td>\n",
       "      <td>9915.000000</td>\n",
       "      <td>9915.000000</td>\n",
       "      <td>9915.000000</td>\n",
       "      <td>9915.000000</td>\n",
       "      <td>9.915000e+03</td>\n",
       "      <td>9.915000e+03</td>\n",
       "      <td>9.915000e+03</td>\n",
       "      <td>9.915000e+03</td>\n",
       "      <td>9.915000e+03</td>\n",
       "      <td>...</td>\n",
       "      <td>9915.000000</td>\n",
       "      <td>9915.000000</td>\n",
       "      <td>9915.000000</td>\n",
       "      <td>9915.000000</td>\n",
       "      <td>9915.000000</td>\n",
       "      <td>9915.000000</td>\n",
       "      <td>9915.000000</td>\n",
       "      <td>9915.000000</td>\n",
       "      <td>9915.000000</td>\n",
       "      <td>9915.000000</td>\n",
       "    </tr>\n",
       "    <tr>\n",
       "      <th>mean</th>\n",
       "      <td>3462.871609</td>\n",
       "      <td>3990.459304</td>\n",
       "      <td>63595.865759</td>\n",
       "      <td>30022.505093</td>\n",
       "      <td>33573.360666</td>\n",
       "      <td>1.392864e+04</td>\n",
       "      <td>1.041415e+04</td>\n",
       "      <td>2.156603e+04</td>\n",
       "      <td>1.805153e+04</td>\n",
       "      <td>5.162490e+04</td>\n",
       "      <td>...</td>\n",
       "      <td>0.209178</td>\n",
       "      <td>0.172668</td>\n",
       "      <td>0.121432</td>\n",
       "      <td>0.158548</td>\n",
       "      <td>0.077358</td>\n",
       "      <td>0.144024</td>\n",
       "      <td>0.209682</td>\n",
       "      <td>0.297428</td>\n",
       "      <td>0.215431</td>\n",
       "      <td>0.133434</td>\n",
       "    </tr>\n",
       "    <tr>\n",
       "      <th>std</th>\n",
       "      <td>9648.027853</td>\n",
       "      <td>12825.840676</td>\n",
       "      <td>73679.374267</td>\n",
       "      <td>40056.879558</td>\n",
       "      <td>51830.770524</td>\n",
       "      <td>5.490488e+04</td>\n",
       "      <td>5.602886e+04</td>\n",
       "      <td>6.256504e+04</td>\n",
       "      <td>6.352250e+04</td>\n",
       "      <td>9.325339e+04</td>\n",
       "      <td>...</td>\n",
       "      <td>0.406742</td>\n",
       "      <td>0.377979</td>\n",
       "      <td>0.326645</td>\n",
       "      <td>0.365272</td>\n",
       "      <td>0.267171</td>\n",
       "      <td>0.351132</td>\n",
       "      <td>0.407102</td>\n",
       "      <td>0.457150</td>\n",
       "      <td>0.411142</td>\n",
       "      <td>0.340061</td>\n",
       "    </tr>\n",
       "    <tr>\n",
       "      <th>min</th>\n",
       "      <td>0.000000</td>\n",
       "      <td>0.000000</td>\n",
       "      <td>0.000000</td>\n",
       "      <td>0.000000</td>\n",
       "      <td>-40000.000000</td>\n",
       "      <td>0.000000e+00</td>\n",
       "      <td>-5.023020e+05</td>\n",
       "      <td>0.000000e+00</td>\n",
       "      <td>-5.023020e+05</td>\n",
       "      <td>-5.023020e+05</td>\n",
       "      <td>...</td>\n",
       "      <td>0.000000</td>\n",
       "      <td>0.000000</td>\n",
       "      <td>0.000000</td>\n",
       "      <td>0.000000</td>\n",
       "      <td>0.000000</td>\n",
       "      <td>0.000000</td>\n",
       "      <td>0.000000</td>\n",
       "      <td>0.000000</td>\n",
       "      <td>0.000000</td>\n",
       "      <td>0.000000</td>\n",
       "    </tr>\n",
       "    <tr>\n",
       "      <th>25%</th>\n",
       "      <td>0.000000</td>\n",
       "      <td>0.000000</td>\n",
       "      <td>0.000000</td>\n",
       "      <td>0.000000</td>\n",
       "      <td>0.000000</td>\n",
       "      <td>2.000000e+02</td>\n",
       "      <td>-1.350000e+03</td>\n",
       "      <td>3.750000e+02</td>\n",
       "      <td>-5.000000e+02</td>\n",
       "      <td>2.000000e+02</td>\n",
       "      <td>...</td>\n",
       "      <td>0.000000</td>\n",
       "      <td>0.000000</td>\n",
       "      <td>0.000000</td>\n",
       "      <td>0.000000</td>\n",
       "      <td>0.000000</td>\n",
       "      <td>0.000000</td>\n",
       "      <td>0.000000</td>\n",
       "      <td>0.000000</td>\n",
       "      <td>0.000000</td>\n",
       "      <td>0.000000</td>\n",
       "    </tr>\n",
       "    <tr>\n",
       "      <th>50%</th>\n",
       "      <td>0.000000</td>\n",
       "      <td>0.000000</td>\n",
       "      <td>48000.000000</td>\n",
       "      <td>7000.000000</td>\n",
       "      <td>10000.000000</td>\n",
       "      <td>1.635000e+03</td>\n",
       "      <td>2.700000e+02</td>\n",
       "      <td>3.325000e+03</td>\n",
       "      <td>1.499000e+03</td>\n",
       "      <td>1.850000e+04</td>\n",
       "      <td>...</td>\n",
       "      <td>0.000000</td>\n",
       "      <td>0.000000</td>\n",
       "      <td>0.000000</td>\n",
       "      <td>0.000000</td>\n",
       "      <td>0.000000</td>\n",
       "      <td>0.000000</td>\n",
       "      <td>0.000000</td>\n",
       "      <td>0.000000</td>\n",
       "      <td>0.000000</td>\n",
       "      <td>0.000000</td>\n",
       "    </tr>\n",
       "    <tr>\n",
       "      <th>75%</th>\n",
       "      <td>0.000000</td>\n",
       "      <td>200.000000</td>\n",
       "      <td>95000.000000</td>\n",
       "      <td>50000.000000</td>\n",
       "      <td>46650.000000</td>\n",
       "      <td>8.765500e+03</td>\n",
       "      <td>6.543500e+03</td>\n",
       "      <td>1.908450e+04</td>\n",
       "      <td>1.652450e+04</td>\n",
       "      <td>6.920000e+04</td>\n",
       "      <td>...</td>\n",
       "      <td>0.000000</td>\n",
       "      <td>0.000000</td>\n",
       "      <td>0.000000</td>\n",
       "      <td>0.000000</td>\n",
       "      <td>0.000000</td>\n",
       "      <td>0.000000</td>\n",
       "      <td>0.000000</td>\n",
       "      <td>1.000000</td>\n",
       "      <td>0.000000</td>\n",
       "      <td>0.000000</td>\n",
       "    </tr>\n",
       "    <tr>\n",
       "      <th>max</th>\n",
       "      <td>100000.000000</td>\n",
       "      <td>153000.000000</td>\n",
       "      <td>300000.000000</td>\n",
       "      <td>150000.000000</td>\n",
       "      <td>300000.000000</td>\n",
       "      <td>1.430298e+06</td>\n",
       "      <td>1.430298e+06</td>\n",
       "      <td>1.536798e+06</td>\n",
       "      <td>1.536798e+06</td>\n",
       "      <td>1.687115e+06</td>\n",
       "      <td>...</td>\n",
       "      <td>1.000000</td>\n",
       "      <td>1.000000</td>\n",
       "      <td>1.000000</td>\n",
       "      <td>1.000000</td>\n",
       "      <td>1.000000</td>\n",
       "      <td>1.000000</td>\n",
       "      <td>1.000000</td>\n",
       "      <td>1.000000</td>\n",
       "      <td>1.000000</td>\n",
       "      <td>1.000000</td>\n",
       "    </tr>\n",
       "  </tbody>\n",
       "</table>\n",
       "<p>8 rows × 44 columns</p>\n",
       "</div>"
      ],
      "text/plain": [
       "                 ira           a401           hval          hmort  \\\n",
       "count    9915.000000    9915.000000    9915.000000    9915.000000   \n",
       "mean     3462.871609    3990.459304   63595.865759   30022.505093   \n",
       "std      9648.027853   12825.840676   73679.374267   40056.879558   \n",
       "min         0.000000       0.000000       0.000000       0.000000   \n",
       "25%         0.000000       0.000000       0.000000       0.000000   \n",
       "50%         0.000000       0.000000   48000.000000    7000.000000   \n",
       "75%         0.000000     200.000000   95000.000000   50000.000000   \n",
       "max    100000.000000  153000.000000  300000.000000  150000.000000   \n",
       "\n",
       "             hequity          nifa      net_nifa           tfa       net_tfa  \\\n",
       "count    9915.000000  9.915000e+03  9.915000e+03  9.915000e+03  9.915000e+03   \n",
       "mean    33573.360666  1.392864e+04  1.041415e+04  2.156603e+04  1.805153e+04   \n",
       "std     51830.770524  5.490488e+04  5.602886e+04  6.256504e+04  6.352250e+04   \n",
       "min    -40000.000000  0.000000e+00 -5.023020e+05  0.000000e+00 -5.023020e+05   \n",
       "25%         0.000000  2.000000e+02 -1.350000e+03  3.750000e+02 -5.000000e+02   \n",
       "50%     10000.000000  1.635000e+03  2.700000e+02  3.325000e+03  1.499000e+03   \n",
       "75%     46650.000000  8.765500e+03  6.543500e+03  1.908450e+04  1.652450e+04   \n",
       "max    300000.000000  1.430298e+06  1.430298e+06  1.536798e+06  1.536798e+06   \n",
       "\n",
       "             tfa_he  ...           i3           i4           i5           i6  \\\n",
       "count  9.915000e+03  ...  9915.000000  9915.000000  9915.000000  9915.000000   \n",
       "mean   5.162490e+04  ...     0.209178     0.172668     0.121432     0.158548   \n",
       "std    9.325339e+04  ...     0.406742     0.377979     0.326645     0.365272   \n",
       "min   -5.023020e+05  ...     0.000000     0.000000     0.000000     0.000000   \n",
       "25%    2.000000e+02  ...     0.000000     0.000000     0.000000     0.000000   \n",
       "50%    1.850000e+04  ...     0.000000     0.000000     0.000000     0.000000   \n",
       "75%    6.920000e+04  ...     0.000000     0.000000     0.000000     0.000000   \n",
       "max    1.687115e+06  ...     1.000000     1.000000     1.000000     1.000000   \n",
       "\n",
       "                i7           a1           a2           a3           a4  \\\n",
       "count  9915.000000  9915.000000  9915.000000  9915.000000  9915.000000   \n",
       "mean      0.077358     0.144024     0.209682     0.297428     0.215431   \n",
       "std       0.267171     0.351132     0.407102     0.457150     0.411142   \n",
       "min       0.000000     0.000000     0.000000     0.000000     0.000000   \n",
       "25%       0.000000     0.000000     0.000000     0.000000     0.000000   \n",
       "50%       0.000000     0.000000     0.000000     0.000000     0.000000   \n",
       "75%       0.000000     0.000000     0.000000     1.000000     0.000000   \n",
       "max       1.000000     1.000000     1.000000     1.000000     1.000000   \n",
       "\n",
       "                a5  \n",
       "count  9915.000000  \n",
       "mean      0.133434  \n",
       "std       0.340061  \n",
       "min       0.000000  \n",
       "25%       0.000000  \n",
       "50%       0.000000  \n",
       "75%       0.000000  \n",
       "max       1.000000  \n",
       "\n",
       "[8 rows x 44 columns]"
      ]
     },
     "execution_count": 3,
     "metadata": {},
     "output_type": "execute_result"
    }
   ],
   "source": [
    "data.describe()"
   ]
  },
  {
   "cell_type": "code",
   "execution_count": 4,
   "id": "00884061",
   "metadata": {},
   "outputs": [
    {
     "data": {
      "text/html": [
       "<div>\n",
       "<style scoped>\n",
       "    .dataframe tbody tr th:only-of-type {\n",
       "        vertical-align: middle;\n",
       "    }\n",
       "\n",
       "    .dataframe tbody tr th {\n",
       "        vertical-align: top;\n",
       "    }\n",
       "\n",
       "    .dataframe thead th {\n",
       "        text-align: right;\n",
       "    }\n",
       "</style>\n",
       "<table border=\"1\" class=\"dataframe\">\n",
       "  <thead>\n",
       "    <tr style=\"text-align: right;\">\n",
       "      <th></th>\n",
       "      <th>ira</th>\n",
       "      <th>a401</th>\n",
       "      <th>hval</th>\n",
       "      <th>hmort</th>\n",
       "      <th>hequity</th>\n",
       "      <th>nifa</th>\n",
       "      <th>net_nifa</th>\n",
       "      <th>tfa</th>\n",
       "      <th>net_tfa</th>\n",
       "      <th>tfa_he</th>\n",
       "      <th>...</th>\n",
       "      <th>i3</th>\n",
       "      <th>i4</th>\n",
       "      <th>i5</th>\n",
       "      <th>i6</th>\n",
       "      <th>i7</th>\n",
       "      <th>a1</th>\n",
       "      <th>a2</th>\n",
       "      <th>a3</th>\n",
       "      <th>a4</th>\n",
       "      <th>a5</th>\n",
       "    </tr>\n",
       "  </thead>\n",
       "  <tbody>\n",
       "    <tr>\n",
       "      <th>0</th>\n",
       "      <td>0</td>\n",
       "      <td>0</td>\n",
       "      <td>69000</td>\n",
       "      <td>60150</td>\n",
       "      <td>8850</td>\n",
       "      <td>100</td>\n",
       "      <td>-3300</td>\n",
       "      <td>100</td>\n",
       "      <td>-3300</td>\n",
       "      <td>5550</td>\n",
       "      <td>...</td>\n",
       "      <td>1</td>\n",
       "      <td>0</td>\n",
       "      <td>0</td>\n",
       "      <td>0</td>\n",
       "      <td>0</td>\n",
       "      <td>0</td>\n",
       "      <td>1</td>\n",
       "      <td>0</td>\n",
       "      <td>0</td>\n",
       "      <td>0</td>\n",
       "    </tr>\n",
       "    <tr>\n",
       "      <th>1</th>\n",
       "      <td>0</td>\n",
       "      <td>0</td>\n",
       "      <td>78000</td>\n",
       "      <td>20000</td>\n",
       "      <td>58000</td>\n",
       "      <td>61010</td>\n",
       "      <td>61010</td>\n",
       "      <td>61010</td>\n",
       "      <td>61010</td>\n",
       "      <td>119010</td>\n",
       "      <td>...</td>\n",
       "      <td>0</td>\n",
       "      <td>1</td>\n",
       "      <td>0</td>\n",
       "      <td>0</td>\n",
       "      <td>0</td>\n",
       "      <td>0</td>\n",
       "      <td>0</td>\n",
       "      <td>0</td>\n",
       "      <td>1</td>\n",
       "      <td>0</td>\n",
       "    </tr>\n",
       "    <tr>\n",
       "      <th>2</th>\n",
       "      <td>1800</td>\n",
       "      <td>0</td>\n",
       "      <td>200000</td>\n",
       "      <td>15900</td>\n",
       "      <td>184100</td>\n",
       "      <td>7549</td>\n",
       "      <td>7049</td>\n",
       "      <td>9349</td>\n",
       "      <td>8849</td>\n",
       "      <td>192949</td>\n",
       "      <td>...</td>\n",
       "      <td>0</td>\n",
       "      <td>0</td>\n",
       "      <td>0</td>\n",
       "      <td>1</td>\n",
       "      <td>0</td>\n",
       "      <td>0</td>\n",
       "      <td>0</td>\n",
       "      <td>0</td>\n",
       "      <td>1</td>\n",
       "      <td>0</td>\n",
       "    </tr>\n",
       "    <tr>\n",
       "      <th>3</th>\n",
       "      <td>0</td>\n",
       "      <td>0</td>\n",
       "      <td>0</td>\n",
       "      <td>0</td>\n",
       "      <td>0</td>\n",
       "      <td>2487</td>\n",
       "      <td>-6013</td>\n",
       "      <td>2487</td>\n",
       "      <td>-6013</td>\n",
       "      <td>-6013</td>\n",
       "      <td>...</td>\n",
       "      <td>0</td>\n",
       "      <td>0</td>\n",
       "      <td>1</td>\n",
       "      <td>0</td>\n",
       "      <td>0</td>\n",
       "      <td>1</td>\n",
       "      <td>0</td>\n",
       "      <td>0</td>\n",
       "      <td>0</td>\n",
       "      <td>0</td>\n",
       "    </tr>\n",
       "    <tr>\n",
       "      <th>4</th>\n",
       "      <td>0</td>\n",
       "      <td>0</td>\n",
       "      <td>300000</td>\n",
       "      <td>90000</td>\n",
       "      <td>210000</td>\n",
       "      <td>10625</td>\n",
       "      <td>-2375</td>\n",
       "      <td>10625</td>\n",
       "      <td>-2375</td>\n",
       "      <td>207625</td>\n",
       "      <td>...</td>\n",
       "      <td>0</td>\n",
       "      <td>1</td>\n",
       "      <td>0</td>\n",
       "      <td>0</td>\n",
       "      <td>0</td>\n",
       "      <td>0</td>\n",
       "      <td>0</td>\n",
       "      <td>1</td>\n",
       "      <td>0</td>\n",
       "      <td>0</td>\n",
       "    </tr>\n",
       "  </tbody>\n",
       "</table>\n",
       "<p>5 rows × 44 columns</p>\n",
       "</div>"
      ],
      "text/plain": [
       "    ira  a401    hval  hmort  hequity   nifa  net_nifa    tfa  net_tfa  \\\n",
       "0     0     0   69000  60150     8850    100     -3300    100    -3300   \n",
       "1     0     0   78000  20000    58000  61010     61010  61010    61010   \n",
       "2  1800     0  200000  15900   184100   7549      7049   9349     8849   \n",
       "3     0     0       0      0        0   2487     -6013   2487    -6013   \n",
       "4     0     0  300000  90000   210000  10625     -2375  10625    -2375   \n",
       "\n",
       "   tfa_he  ...  i3  i4  i5  i6  i7  a1  a2  a3  a4  a5  \n",
       "0    5550  ...   1   0   0   0   0   0   1   0   0   0  \n",
       "1  119010  ...   0   1   0   0   0   0   0   0   1   0  \n",
       "2  192949  ...   0   0   0   1   0   0   0   0   1   0  \n",
       "3   -6013  ...   0   0   1   0   0   1   0   0   0   0  \n",
       "4  207625  ...   0   1   0   0   0   0   0   1   0   0  \n",
       "\n",
       "[5 rows x 44 columns]"
      ]
     },
     "execution_count": 4,
     "metadata": {},
     "output_type": "execute_result"
    }
   ],
   "source": [
    "data.head()"
   ]
  },
  {
   "cell_type": "code",
   "execution_count": 5,
   "id": "1d3dc85c",
   "metadata": {},
   "outputs": [
    {
     "name": "stdout",
     "output_type": "stream",
     "text": [
      "\r",
      "  0% [                                                                                ]    0 / 2314\r",
      "100% [................................................................................] 2314 / 2314"
     ]
    },
    {
     "data": {
      "text/markdown": [
       "# Pension 401(k) data set\n",
       "\n",
       "## Description\n",
       "Data set on financial wealth and 401(k) plan participation. The source of this data set is the `hdm` package in `R`. It was created on 2/20/2023, by calling the `data(pension)` command in `R` after loading the `hdm` package and then writing the created dataframe to a csv file.\n",
       "\n",
       "## Format\n",
       "Dataframe with the following variables (amongst others):\n",
       "\n",
       "**p401**\n",
       "\n",
       "participation in 401(k)\n",
       "\n",
       "**e401**\n",
       "\n",
       "eligibility for 401(k)\n",
       "\n",
       "**a401**\n",
       "\n",
       "401(k) assets\n",
       "\n",
       "**tw**\n",
       "\n",
       "total wealth (in US $)\n",
       "\n",
       "**tfa**\n",
       "\n",
       "financial assets (in US $)\n",
       "\n",
       "**net_tfa**\n",
       "\n",
       "net financial assets (in US $)\n",
       "\n",
       "**nifa**\n",
       "\n",
       "non-401k financial assets (in US $)\n",
       "\n",
       "**net_nifa**\n",
       "\n",
       "net non-401k financial assets\n",
       "\n",
       "**net_n401**\n",
       "\n",
       "net non-401(k) assets (in US $)\n",
       "\n",
       "**ira**\n",
       "\n",
       "individual retirement account (IRA)\n",
       "\n",
       "**inc**\n",
       "\n",
       "income (in US $)\n",
       "\n",
       "**age**\n",
       "\n",
       "age\n",
       "\n",
       "**fsize**\n",
       "\n",
       "family size\n",
       "\n",
       "**marr**\n",
       "\n",
       "married\n",
       "\n",
       "**pira**\n",
       "\n",
       "participation in IRA\n",
       "\n",
       "**db**\n",
       "\n",
       "defined benefit pension\n",
       "\n",
       "**hown**\n",
       "\n",
       "home owner\n",
       "\n",
       "**educ**\n",
       "\n",
       "education (in years)\n",
       "\n",
       "**male**\n",
       "\n",
       "male\n",
       "\n",
       "**twoearn**\n",
       "\n",
       "two earners\n",
       "\n",
       "**nohs, hs, smcol, col**\n",
       "\n",
       "dummies for education: no high-school, high-school, some college, college\n",
       "\n",
       "**hmort**\n",
       "\n",
       "home mortage (in US $)\n",
       "\n",
       "**hequity**\n",
       "\n",
       "home equity (in US $)\n",
       "\n",
       "**hval**\n",
       "\n",
       "home value (in US $)\n",
       "\n",
       "## Details\n",
       "The sample is drawn from the 1991 Survey of Income and Program Participation (SIPP) and consists of 9,915 observations. The observational units are household reference persons aged 25-64 and spouse if present. Households are included in the sample if at least one person is employed and no one is self-employed. The data set was analysed in Chernozhukov and Hansen (2004) and Belloni et al. (2014) where further details can be found. They examine the effects of 401(k) plans on wealth using data from the Survey of Income and Program Participation using 401(k) eligibility as an instrument for 401(k) participation.\n",
       "\n",
       "## References\n",
       "V. Chernohukov, C. Hansen (2004). The impact of 401(k) participation on the wealth distribution: An instrumental quantile regression analysis. The Review of Economic and Statistics 86 (3), 735â€“751.\n",
       "\n",
       "A. Belloni, V. Chernozhukov, I. Fernandez-Val, and C. Hansen (2014). Program evaluation with high-dimensional data. Working Paper."
      ],
      "text/plain": [
       "<IPython.core.display.Markdown object>"
      ]
     },
     "metadata": {},
     "output_type": "display_data"
    }
   ],
   "source": [
    "readme = \"https://raw.githubusercontent.com/CausalAIBook/MetricsMLNotebooks/main/data/401k.md\"\n",
    "filename = wget.download(readme)\n",
    "display(Markdown(open(filename, 'r').read()))"
   ]
  },
  {
   "cell_type": "markdown",
   "id": "looking-invention",
   "metadata": {
    "papermill": {
     "duration": 0.037509,
     "end_time": "2021-03-24T14:13:52.250583",
     "exception": false,
     "start_time": "2021-03-24T14:13:52.213074",
     "status": "completed"
    },
    "tags": []
   },
   "source": [
    "The data consist of 9,915 observations at the household level drawn from the 1991 Survey of Income and Program Participation (SIPP).  All the variables are referred to 1990. We use net financial assets (*net\\_tfa*) as the outcome variable, $Y$,  in our analysis. The net financial assets are computed as the sum of IRA balances, 401(k) balances, checking accounts, saving bonds, other interest-earning accounts, other interest-earning assets, stocks, and mutual funds less non mortgage debts. "
   ]
  },
  {
   "cell_type": "markdown",
   "id": "received-nutrition",
   "metadata": {
    "papermill": {
     "duration": 0.038843,
     "end_time": "2021-03-24T14:13:52.327055",
     "exception": false,
     "start_time": "2021-03-24T14:13:52.288212",
     "status": "completed"
    },
    "tags": []
   },
   "source": [
    "Among the $9915$ individuals, $3682$ are eligible to participate in the program. The variable *e401* indicates eligibility and *p401* indicates participation, respectively."
   ]
  },
  {
   "cell_type": "code",
   "execution_count": 6,
   "id": "0d26d552",
   "metadata": {},
   "outputs": [
    {
     "data": {
      "image/png": "[encoded data removed]",
      "text/plain": [
       "<Figure size 640x480 with 1 Axes>"
      ]
     },
     "metadata": {},
     "output_type": "display_data"
    }
   ],
   "source": [
    "sns.countplot(data['e401'],)\n",
    "plt.show()"
   ]
  },
  {
   "cell_type": "markdown",
   "id": "material-sending",
   "metadata": {
    "papermill": {
     "duration": 0.039406,
     "end_time": "2021-03-24T14:13:53.435306",
     "exception": false,
     "start_time": "2021-03-24T14:13:53.395900",
     "status": "completed"
    },
    "tags": []
   },
   "source": [
    "Eligibility is highly associated with financial wealth:"
   ]
  },
  {
   "cell_type": "code",
   "execution_count": 7,
   "id": "a7741bb6",
   "metadata": {},
   "outputs": [
    {
     "data": {
      "image/png": "[encoded data removed]",
      "text/plain": [
       "<Figure size 1058.88x500 with 2 Axes>"
      ]
     },
     "metadata": {},
     "output_type": "display_data"
    }
   ],
   "source": [
    "sns.displot(data=data, x='net_tfa', kind='kde', col='e401', hue='e401', fill=True)\n",
    "plt.show()"
   ]
  },
  {
   "cell_type": "markdown",
   "id": "awful-antigua",
   "metadata": {
    "papermill": {
     "duration": 0.040645,
     "end_time": "2021-03-24T14:13:54.245822",
     "exception": false,
     "start_time": "2021-03-24T14:13:54.205177",
     "status": "completed"
    },
    "tags": []
   },
   "source": [
    "The unconditional APE of e401 is about $19559$:"
   ]
  },
  {
   "cell_type": "code",
   "execution_count": 8,
   "id": "ef070d79",
   "metadata": {},
   "outputs": [
    {
     "name": "stdout",
     "output_type": "stream",
     "text": [
      "19559\n"
     ]
    }
   ],
   "source": [
    "e1 = data[data['e401'] == 1]['net_tfa']\n",
    "e0 = data[data['e401'] == 0]['net_tfa']\n",
    "print(f'{np.mean(e1) - np.mean(e0):.0f}')"
   ]
  },
  {
   "cell_type": "markdown",
   "id": "cross-priority",
   "metadata": {
    "papermill": {
     "duration": 0.041187,
     "end_time": "2021-03-24T14:13:54.437695",
     "exception": false,
     "start_time": "2021-03-24T14:13:54.396508",
     "status": "completed"
    },
    "tags": []
   },
   "source": [
    "Among the $3682$ individuals that  are eligible, $2594$ decided to participate in the program. The unconditional APE of p401 is about $27372$:"
   ]
  },
  {
   "cell_type": "code",
   "execution_count": 9,
   "id": "33cd014e",
   "metadata": {},
   "outputs": [
    {
     "name": "stdout",
     "output_type": "stream",
     "text": [
      "27372\n"
     ]
    }
   ],
   "source": [
    "e1 = data[data['p401'] == 1]['net_tfa']\n",
    "e0 = data[data['p401'] == 0]['net_tfa']\n",
    "print(f'{np.mean(e1) - np.mean(e0):.0f}')"
   ]
  },
  {
   "cell_type": "markdown",
   "id": "suitable-vulnerability",
   "metadata": {
    "papermill": {
     "duration": 0.041678,
     "end_time": "2021-03-24T14:13:54.640532",
     "exception": false,
     "start_time": "2021-03-24T14:13:54.598854",
     "status": "completed"
    },
    "tags": []
   },
   "source": [
    "As discussed, these estimates are biased since they do not account for saver heterogeneity and endogeneity of participation."
   ]
  },
  {
   "cell_type": "code",
   "execution_count": 10,
   "id": "a9354414",
   "metadata": {},
   "outputs": [
    {
     "data": {
      "text/plain": [
       "Index(['age', 'inc', 'fsize', 'educ', 'db', 'marr', 'male', 'twoearn', 'pira',\n",
       "       'nohs', 'hs', 'smcol', 'col', 'hown'],\n",
       "      dtype='object')"
      ]
     },
     "execution_count": 10,
     "metadata": {},
     "output_type": "execute_result"
    }
   ],
   "source": [
    "y = data['net_tfa'].values\n",
    "D = data['e401'].values\n",
    "D2 = data['p401'].values\n",
    "D3 = data['a401'].values\n",
    "X = data.drop(['e401', 'p401', 'a401', 'tw', 'tfa', 'net_tfa', 'tfa_he',\n",
    "               'hval', 'hmort', 'hequity',\n",
    "               'nifa', 'net_nifa', 'net_n401', 'ira',\n",
    "               'dum91', 'icat', 'ecat', 'zhat',\n",
    "               'i1', 'i2', 'i3', 'i4', 'i5', 'i6', 'i7',\n",
    "               'a1', 'a2', 'a3', 'a4', 'a5'], axis=1)\n",
    "X.columns"
   ]
  },
  {
   "cell_type": "markdown",
   "id": "c4c3e489",
   "metadata": {},
   "source": [
    "### We define a transformer that constructs the engineered features for controls"
   ]
  },
  {
   "cell_type": "code",
   "execution_count": 11,
   "id": "a2cfdf4c",
   "metadata": {},
   "outputs": [
    {
     "name": "stdout",
     "output_type": "stream",
     "text": [
      "Defaulting to user installation because normal site-packages is not writeable\n",
      "Requirement already satisfied: formulaic in c:\\programdata\\anaconda3\\lib\\site-packages (0.5.2)\n",
      "Requirement already satisfied: interface-meta>=1.2.0 in c:\\programdata\\anaconda3\\lib\\site-packages (from formulaic) (1.3.0)\n",
      "Requirement already satisfied: numpy>=1.16.5 in c:\\programdata\\anaconda3\\lib\\site-packages (from formulaic) (1.21.5)\n",
      "Requirement already satisfied: typing-extensions>=4.2.0 in c:\\programdata\\anaconda3\\lib\\site-packages (from formulaic) (4.3.0)\n",
      "Requirement already satisfied: pandas>=1.0 in c:\\programdata\\anaconda3\\lib\\site-packages (from formulaic) (1.4.4)\n",
      "Requirement already satisfied: wrapt>=1.0 in c:\\programdata\\anaconda3\\lib\\site-packages (from formulaic) (1.14.1)\n",
      "Requirement already satisfied: scipy>=1.6 in c:\\programdata\\anaconda3\\lib\\site-packages (from formulaic) (1.9.1)\n",
      "Requirement already satisfied: astor>=0.8 in c:\\programdata\\anaconda3\\lib\\site-packages (from formulaic) (0.8.1)\n",
      "Requirement already satisfied: python-dateutil>=2.8.1 in c:\\programdata\\anaconda3\\lib\\site-packages (from pandas>=1.0->formulaic) (2.8.2)\n",
      "Requirement already satisfied: pytz>=2020.1 in c:\\programdata\\anaconda3\\lib\\site-packages (from pandas>=1.0->formulaic) (2022.1)\n",
      "Requirement already satisfied: six>=1.5 in c:\\programdata\\anaconda3\\lib\\site-packages (from python-dateutil>=2.8.1->pandas>=1.0->formulaic) (1.16.0)\n"
     ]
    }
   ],
   "source": [
    "!pip install formulaic"
   ]
  },
  {
   "cell_type": "code",
   "execution_count": 12,
   "id": "53b1283d",
   "metadata": {},
   "outputs": [],
   "source": [
    "from sklearn.base import TransformerMixin, BaseEstimator\n",
    "from formulaic import Formula\n",
    "\n",
    "class FormulaTransformer(TransformerMixin, BaseEstimator):\n",
    "    \n",
    "    def __init__(self, formula, array=False):\n",
    "        self.formula = formula\n",
    "        self.array = array\n",
    "    \n",
    "    def fit(self, X, y=None):\n",
    "        return self\n",
    "    \n",
    "    def transform(self, X, y=None):\n",
    "        df = Formula(self.formula).get_model_matrix(X)\n",
    "        if self.array:\n",
    "            return df.values\n",
    "        return df"
   ]
  },
  {
   "cell_type": "code",
   "execution_count": 13,
   "id": "824ee320",
   "metadata": {},
   "outputs": [],
   "source": [
    "transformer = FormulaTransformer(\"0 + poly(age, degree=6, raw=True) + poly(inc, degree=8, raw=True) \"\n",
    "                                 \"+ poly(educ, degree=4, raw=True) + poly(fsize, degree=2, raw=True) \"\n",
    "                                 \"+ male + marr + twoearn + db + pira + hown\")"
   ]
  },
  {
   "cell_type": "code",
   "execution_count": 14,
   "id": "b35bbd34",
   "metadata": {},
   "outputs": [
    {
     "data": {
      "text/html": [
       "<div>\n",
       "<style scoped>\n",
       "    .dataframe tbody tr th:only-of-type {\n",
       "        vertical-align: middle;\n",
       "    }\n",
       "\n",
       "    .dataframe tbody tr th {\n",
       "        vertical-align: top;\n",
       "    }\n",
       "\n",
       "    .dataframe thead th {\n",
       "        text-align: right;\n",
       "    }\n",
       "</style>\n",
       "<table border=\"1\" class=\"dataframe\">\n",
       "  <thead>\n",
       "    <tr style=\"text-align: right;\">\n",
       "      <th></th>\n",
       "      <th>db</th>\n",
       "      <th>hown</th>\n",
       "      <th>male</th>\n",
       "      <th>marr</th>\n",
       "      <th>pira</th>\n",
       "      <th>poly(age, degree=6, raw=True)[0]</th>\n",
       "      <th>poly(age, degree=6, raw=True)[1]</th>\n",
       "      <th>poly(age, degree=6, raw=True)[2]</th>\n",
       "      <th>poly(age, degree=6, raw=True)[3]</th>\n",
       "      <th>poly(age, degree=6, raw=True)[4]</th>\n",
       "      <th>...</th>\n",
       "      <th>poly(fsize, degree=2, raw=True)[1]</th>\n",
       "      <th>poly(inc, degree=8, raw=True)[0]</th>\n",
       "      <th>poly(inc, degree=8, raw=True)[1]</th>\n",
       "      <th>poly(inc, degree=8, raw=True)[2]</th>\n",
       "      <th>poly(inc, degree=8, raw=True)[3]</th>\n",
       "      <th>poly(inc, degree=8, raw=True)[4]</th>\n",
       "      <th>poly(inc, degree=8, raw=True)[5]</th>\n",
       "      <th>poly(inc, degree=8, raw=True)[6]</th>\n",
       "      <th>poly(inc, degree=8, raw=True)[7]</th>\n",
       "      <th>twoearn</th>\n",
       "    </tr>\n",
       "  </thead>\n",
       "  <tbody>\n",
       "    <tr>\n",
       "      <th>count</th>\n",
       "      <td>9915.000000</td>\n",
       "      <td>9915.000000</td>\n",
       "      <td>9915.000000</td>\n",
       "      <td>9915.000000</td>\n",
       "      <td>9915.000000</td>\n",
       "      <td>9915.000000</td>\n",
       "      <td>9915.000000</td>\n",
       "      <td>9915.000000</td>\n",
       "      <td>9.915000e+03</td>\n",
       "      <td>9.915000e+03</td>\n",
       "      <td>...</td>\n",
       "      <td>9915.000000</td>\n",
       "      <td>9915.000000</td>\n",
       "      <td>9.915000e+03</td>\n",
       "      <td>9.915000e+03</td>\n",
       "      <td>9.915000e+03</td>\n",
       "      <td>9.915000e+03</td>\n",
       "      <td>9.915000e+03</td>\n",
       "      <td>9.915000e+03</td>\n",
       "      <td>9.915000e+03</td>\n",
       "      <td>9915.000000</td>\n",
       "    </tr>\n",
       "    <tr>\n",
       "      <th>mean</th>\n",
       "      <td>0.271004</td>\n",
       "      <td>0.635199</td>\n",
       "      <td>0.205951</td>\n",
       "      <td>0.604841</td>\n",
       "      <td>0.242158</td>\n",
       "      <td>41.060212</td>\n",
       "      <td>1792.938981</td>\n",
       "      <td>82850.255371</td>\n",
       "      <td>4.022991e+06</td>\n",
       "      <td>2.036867e+08</td>\n",
       "      <td>...</td>\n",
       "      <td>10.581241</td>\n",
       "      <td>37200.623197</td>\n",
       "      <td>1.997590e+09</td>\n",
       "      <td>1.437534e+14</td>\n",
       "      <td>9.104568e+17</td>\n",
       "      <td>-1.945721e+16</td>\n",
       "      <td>-9.132838e+16</td>\n",
       "      <td>1.934747e+16</td>\n",
       "      <td>2.234841e+16</td>\n",
       "      <td>0.380837</td>\n",
       "    </tr>\n",
       "    <tr>\n",
       "      <th>std</th>\n",
       "      <td>0.444500</td>\n",
       "      <td>0.481399</td>\n",
       "      <td>0.404415</td>\n",
       "      <td>0.488909</td>\n",
       "      <td>0.428411</td>\n",
       "      <td>10.344505</td>\n",
       "      <td>899.134499</td>\n",
       "      <td>61725.701911</td>\n",
       "      <td>3.939869e+06</td>\n",
       "      <td>2.448502e+08</td>\n",
       "      <td>...</td>\n",
       "      <td>11.391608</td>\n",
       "      <td>24774.288006</td>\n",
       "      <td>3.026128e+09</td>\n",
       "      <td>4.129207e+14</td>\n",
       "      <td>3.249753e+18</td>\n",
       "      <td>5.290488e+18</td>\n",
       "      <td>5.317962e+18</td>\n",
       "      <td>5.317873e+18</td>\n",
       "      <td>5.262071e+18</td>\n",
       "      <td>0.485617</td>\n",
       "    </tr>\n",
       "    <tr>\n",
       "      <th>min</th>\n",
       "      <td>0.000000</td>\n",
       "      <td>0.000000</td>\n",
       "      <td>0.000000</td>\n",
       "      <td>0.000000</td>\n",
       "      <td>0.000000</td>\n",
       "      <td>25.000000</td>\n",
       "      <td>625.000000</td>\n",
       "      <td>15625.000000</td>\n",
       "      <td>3.906250e+05</td>\n",
       "      <td>9.765625e+06</td>\n",
       "      <td>...</td>\n",
       "      <td>1.000000</td>\n",
       "      <td>-2652.000000</td>\n",
       "      <td>0.000000e+00</td>\n",
       "      <td>-1.865179e+10</td>\n",
       "      <td>-9.222694e+18</td>\n",
       "      <td>-9.221958e+18</td>\n",
       "      <td>-9.221276e+18</td>\n",
       "      <td>-9.223372e+18</td>\n",
       "      <td>-9.221563e+18</td>\n",
       "      <td>0.000000</td>\n",
       "    </tr>\n",
       "    <tr>\n",
       "      <th>25%</th>\n",
       "      <td>0.000000</td>\n",
       "      <td>0.000000</td>\n",
       "      <td>0.000000</td>\n",
       "      <td>0.000000</td>\n",
       "      <td>0.000000</td>\n",
       "      <td>32.000000</td>\n",
       "      <td>1024.000000</td>\n",
       "      <td>32768.000000</td>\n",
       "      <td>1.048576e+06</td>\n",
       "      <td>3.355443e+07</td>\n",
       "      <td>...</td>\n",
       "      <td>4.000000</td>\n",
       "      <td>19413.000000</td>\n",
       "      <td>3.768646e+08</td>\n",
       "      <td>7.316072e+12</td>\n",
       "      <td>3.677463e+16</td>\n",
       "      <td>-4.537058e+18</td>\n",
       "      <td>-4.603302e+18</td>\n",
       "      <td>-4.539584e+18</td>\n",
       "      <td>-4.508422e+18</td>\n",
       "      <td>0.000000</td>\n",
       "    </tr>\n",
       "    <tr>\n",
       "      <th>50%</th>\n",
       "      <td>0.000000</td>\n",
       "      <td>1.000000</td>\n",
       "      <td>0.000000</td>\n",
       "      <td>1.000000</td>\n",
       "      <td>0.000000</td>\n",
       "      <td>40.000000</td>\n",
       "      <td>1600.000000</td>\n",
       "      <td>64000.000000</td>\n",
       "      <td>2.560000e+06</td>\n",
       "      <td>1.024000e+08</td>\n",
       "      <td>...</td>\n",
       "      <td>9.000000</td>\n",
       "      <td>31476.000000</td>\n",
       "      <td>9.907386e+08</td>\n",
       "      <td>3.118449e+13</td>\n",
       "      <td>4.226261e+17</td>\n",
       "      <td>3.660147e+16</td>\n",
       "      <td>-2.199258e+17</td>\n",
       "      <td>3.665403e+16</td>\n",
       "      <td>4.447478e+16</td>\n",
       "      <td>0.000000</td>\n",
       "    </tr>\n",
       "    <tr>\n",
       "      <th>75%</th>\n",
       "      <td>1.000000</td>\n",
       "      <td>1.000000</td>\n",
       "      <td>0.000000</td>\n",
       "      <td>1.000000</td>\n",
       "      <td>0.000000</td>\n",
       "      <td>48.000000</td>\n",
       "      <td>2304.000000</td>\n",
       "      <td>110592.000000</td>\n",
       "      <td>5.308416e+06</td>\n",
       "      <td>2.548040e+08</td>\n",
       "      <td>...</td>\n",
       "      <td>16.000000</td>\n",
       "      <td>48583.500000</td>\n",
       "      <td>2.360356e+09</td>\n",
       "      <td>1.146744e+14</td>\n",
       "      <td>2.117477e+18</td>\n",
       "      <td>4.485390e+18</td>\n",
       "      <td>4.471642e+18</td>\n",
       "      <td>4.613388e+18</td>\n",
       "      <td>4.509509e+18</td>\n",
       "      <td>1.000000</td>\n",
       "    </tr>\n",
       "    <tr>\n",
       "      <th>max</th>\n",
       "      <td>1.000000</td>\n",
       "      <td>1.000000</td>\n",
       "      <td>1.000000</td>\n",
       "      <td>1.000000</td>\n",
       "      <td>1.000000</td>\n",
       "      <td>64.000000</td>\n",
       "      <td>4096.000000</td>\n",
       "      <td>262144.000000</td>\n",
       "      <td>1.677722e+07</td>\n",
       "      <td>1.073742e+09</td>\n",
       "      <td>...</td>\n",
       "      <td>169.000000</td>\n",
       "      <td>242124.000000</td>\n",
       "      <td>5.862403e+10</td>\n",
       "      <td>1.419428e+16</td>\n",
       "      <td>9.222042e+18</td>\n",
       "      <td>9.218801e+18</td>\n",
       "      <td>9.219035e+18</td>\n",
       "      <td>9.223289e+18</td>\n",
       "      <td>9.220028e+18</td>\n",
       "      <td>1.000000</td>\n",
       "    </tr>\n",
       "  </tbody>\n",
       "</table>\n",
       "<p>8 rows × 26 columns</p>\n",
       "</div>"
      ],
      "text/plain": [
       "                db         hown         male         marr         pira  \\\n",
       "count  9915.000000  9915.000000  9915.000000  9915.000000  9915.000000   \n",
       "mean      0.271004     0.635199     0.205951     0.604841     0.242158   \n",
       "std       0.444500     0.481399     0.404415     0.488909     0.428411   \n",
       "min       0.000000     0.000000     0.000000     0.000000     0.000000   \n",
       "25%       0.000000     0.000000     0.000000     0.000000     0.000000   \n",
       "50%       0.000000     1.000000     0.000000     1.000000     0.000000   \n",
       "75%       1.000000     1.000000     0.000000     1.000000     0.000000   \n",
       "max       1.000000     1.000000     1.000000     1.000000     1.000000   \n",
       "\n",
       "       poly(age, degree=6, raw=True)[0]  poly(age, degree=6, raw=True)[1]  \\\n",
       "count                       9915.000000                       9915.000000   \n",
       "mean                          41.060212                       1792.938981   \n",
       "std                           10.344505                        899.134499   \n",
       "min                           25.000000                        625.000000   \n",
       "25%                           32.000000                       1024.000000   \n",
       "50%                           40.000000                       1600.000000   \n",
       "75%                           48.000000                       2304.000000   \n",
       "max                           64.000000                       4096.000000   \n",
       "\n",
       "       poly(age, degree=6, raw=True)[2]  poly(age, degree=6, raw=True)[3]  \\\n",
       "count                       9915.000000                      9.915000e+03   \n",
       "mean                       82850.255371                      4.022991e+06   \n",
       "std                        61725.701911                      3.939869e+06   \n",
       "min                        15625.000000                      3.906250e+05   \n",
       "25%                        32768.000000                      1.048576e+06   \n",
       "50%                        64000.000000                      2.560000e+06   \n",
       "75%                       110592.000000                      5.308416e+06   \n",
       "max                       262144.000000                      1.677722e+07   \n",
       "\n",
       "       poly(age, degree=6, raw=True)[4]  ...  \\\n",
       "count                      9.915000e+03  ...   \n",
       "mean                       2.036867e+08  ...   \n",
       "std                        2.448502e+08  ...   \n",
       "min                        9.765625e+06  ...   \n",
       "25%                        3.355443e+07  ...   \n",
       "50%                        1.024000e+08  ...   \n",
       "75%                        2.548040e+08  ...   \n",
       "max                        1.073742e+09  ...   \n",
       "\n",
       "       poly(fsize, degree=2, raw=True)[1]  poly(inc, degree=8, raw=True)[0]  \\\n",
       "count                         9915.000000                       9915.000000   \n",
       "mean                            10.581241                      37200.623197   \n",
       "std                             11.391608                      24774.288006   \n",
       "min                              1.000000                      -2652.000000   \n",
       "25%                              4.000000                      19413.000000   \n",
       "50%                              9.000000                      31476.000000   \n",
       "75%                             16.000000                      48583.500000   \n",
       "max                            169.000000                     242124.000000   \n",
       "\n",
       "       poly(inc, degree=8, raw=True)[1]  poly(inc, degree=8, raw=True)[2]  \\\n",
       "count                      9.915000e+03                      9.915000e+03   \n",
       "mean                       1.997590e+09                      1.437534e+14   \n",
       "std                        3.026128e+09                      4.129207e+14   \n",
       "min                        0.000000e+00                     -1.865179e+10   \n",
       "25%                        3.768646e+08                      7.316072e+12   \n",
       "50%                        9.907386e+08                      3.118449e+13   \n",
       "75%                        2.360356e+09                      1.146744e+14   \n",
       "max                        5.862403e+10                      1.419428e+16   \n",
       "\n",
       "       poly(inc, degree=8, raw=True)[3]  poly(inc, degree=8, raw=True)[4]  \\\n",
       "count                      9.915000e+03                      9.915000e+03   \n",
       "mean                       9.104568e+17                     -1.945721e+16   \n",
       "std                        3.249753e+18                      5.290488e+18   \n",
       "min                       -9.222694e+18                     -9.221958e+18   \n",
       "25%                        3.677463e+16                     -4.537058e+18   \n",
       "50%                        4.226261e+17                      3.660147e+16   \n",
       "75%                        2.117477e+18                      4.485390e+18   \n",
       "max                        9.222042e+18                      9.218801e+18   \n",
       "\n",
       "       poly(inc, degree=8, raw=True)[5]  poly(inc, degree=8, raw=True)[6]  \\\n",
       "count                      9.915000e+03                      9.915000e+03   \n",
       "mean                      -9.132838e+16                      1.934747e+16   \n",
       "std                        5.317962e+18                      5.317873e+18   \n",
       "min                       -9.221276e+18                     -9.223372e+18   \n",
       "25%                       -4.603302e+18                     -4.539584e+18   \n",
       "50%                       -2.199258e+17                      3.665403e+16   \n",
       "75%                        4.471642e+18                      4.613388e+18   \n",
       "max                        9.219035e+18                      9.223289e+18   \n",
       "\n",
       "       poly(inc, degree=8, raw=True)[7]      twoearn  \n",
       "count                      9.915000e+03  9915.000000  \n",
       "mean                       2.234841e+16     0.380837  \n",
       "std                        5.262071e+18     0.485617  \n",
       "min                       -9.221563e+18     0.000000  \n",
       "25%                       -4.508422e+18     0.000000  \n",
       "50%                        4.447478e+16     0.000000  \n",
       "75%                        4.509509e+18     1.000000  \n",
       "max                        9.220028e+18     1.000000  \n",
       "\n",
       "[8 rows x 26 columns]"
      ]
     },
     "execution_count": 14,
     "metadata": {},
     "output_type": "execute_result"
    }
   ],
   "source": [
    "transformer.fit_transform(X).describe()"
   ]
  },
  {
   "cell_type": "code",
   "execution_count": 15,
   "id": "8c5e20e7",
   "metadata": {},
   "outputs": [],
   "source": [
    "transformer = FormulaTransformer(\"0 + poly(age, degree=6, raw=True) + poly(inc, degree=8, raw=True) \"\n",
    "                                 \"+ poly(educ, degree=4, raw=True) + poly(fsize, degree=2, raw=True) \"\n",
    "                                 \"+ male + marr + twoearn + db + pira + hown\", array=True)"
   ]
  },
  {
   "cell_type": "markdown",
   "id": "957a6d85",
   "metadata": {},
   "source": [
    "# Semi-Synthetic Data Generation"
   ]
  },
  {
   "cell_type": "code",
   "execution_count": 16,
   "id": "39483bf1",
   "metadata": {},
   "outputs": [],
   "source": [
    "class semisynth:\n",
    "    \n",
    "    def fit(self, X, D, y):\n",
    "        self.X_ = X.copy()\n",
    "        self.est0_ = make_pipeline(transformer,\n",
    "                                   RandomForestRegressor(min_samples_leaf=20, ccp_alpha=0.001)).fit(X[D==0], y[D==0])\n",
    "        self.res0_ = y[D==0] - self.est0_.predict(X[D==0])\n",
    "        self.res0_ -= np.mean(self.res0_)\n",
    "        self.est1_ = make_pipeline(transformer,\n",
    "                                   RandomForestRegressor(min_samples_leaf=20, ccp_alpha=0.001)).fit(X[D==1], y[D==1])\n",
    "        self.res1_ = y[D==1] - self.est1_.predict(X[D==1])\n",
    "        self.res1_ -= np.mean(self.res1_)\n",
    "        self.prop_ = make_pipeline(transformer,\n",
    "                                   RandomForestClassifier(min_samples_leaf=20, ccp_alpha=0.001)).fit(X, D)\n",
    "        return self\n",
    "\n",
    "    def generate(self, n):\n",
    "        X = self.X_.iloc[np.random.choice(self.X_.shape[0], n, replace=True)]\n",
    "        D = np.random.binomial(1, self.prop_.predict_proba(X)[:, 1])\n",
    "        y0 = self.est0_.predict(X) + self.res0_[np.random.choice(self.res0_.shape[0], n, replace=True)]\n",
    "        y1 = self.est1_.predict(X) + self.res1_[np.random.choice(self.res1_.shape[0], n, replace=True)]\n",
    "        y = y0 * (1 - D) + y1 * D\n",
    "        return X, D, y, y1, y0\n",
    "    \n",
    "    def generate_with_confounding(self, n, gamma, delta):\n",
    "        X = self.X_.iloc[np.random.choice(self.X_.shape[0], n, replace=True)]\n",
    "        A = np.random.uniform(-np.sqrt(3), np.sqrt(3), size=n)\n",
    "        prop = self.prop_.predict_proba(X)[:, 1] + gamma * A\n",
    "        D = np.random.binomial(1, np.clip(prop, 0, 1))\n",
    "        y0 = self.est0_.predict(X) + self.res0_[np.random.choice(self.res0_.shape[0], n, replace=True)]\n",
    "        y1 = self.est1_.predict(X) + self.res1_[np.random.choice(self.res1_.shape[0], n, replace=True)]\n",
    "        y = y0 * (1 - D) + y1 * D + delta * A\n",
    "        return X, D, y, y1, y0, A\n",
    "    \n",
    "    def y_cef(self, X, D):\n",
    "        return self.est1_.predict(X) * D + self.est0_.predict(X) * (1 - D)\n",
    "    \n",
    "    def D_cef(self, X):\n",
    "        return self.prop_.predict_proba(X)[:, 1]\n",
    "\n",
    "    @property\n",
    "    def true_ate(self):\n",
    "        return np.mean(self.est1_.predict(self.X_) - self.est0_.predict(self.X_))"
   ]
  },
  {
   "cell_type": "code",
   "execution_count": 17,
   "id": "e38d8ffb",
   "metadata": {},
   "outputs": [],
   "source": [
    "synth = semisynth().fit(X, D, y)"
   ]
  },
  {
   "cell_type": "code",
   "execution_count": 18,
   "id": "a04c998c",
   "metadata": {},
   "outputs": [
    {
     "data": {
      "text/plain": [
       "7531.0676100128085"
      ]
     },
     "execution_count": 18,
     "metadata": {},
     "output_type": "execute_result"
    }
   ],
   "source": [
    "synth.true_ate"
   ]
  },
  {
   "cell_type": "code",
   "execution_count": 19,
   "id": "b1d121fe",
   "metadata": {},
   "outputs": [],
   "source": [
    "X, D, y, y1, y0 = synth.generate(20000)"
   ]
  },
  {
   "cell_type": "code",
   "execution_count": 20,
   "id": "9ffb0bc7",
   "metadata": {},
   "outputs": [
    {
     "data": {
      "text/plain": [
       "7261.916568708302"
      ]
     },
     "execution_count": 20,
     "metadata": {},
     "output_type": "execute_result"
    }
   ],
   "source": [
    "np.mean(y1 - y0)"
   ]
  },
  {
   "cell_type": "markdown",
   "id": "a745a6f2",
   "metadata": {},
   "source": [
    "## Estimating the ATE of 401(k) Eligibility on Net Financial Assets"
   ]
  },
  {
   "cell_type": "markdown",
   "id": "10538ad3",
   "metadata": {},
   "source": [
    "We are interested in valid estimators of the average treatment effect of `e401` and `p401` on `net_tfa`. We start using ML approaches to estimate the function $g_0$ and $m_0$ in the following PLR model:"
   ]
  },
  {
   "cell_type": "markdown",
   "id": "6fcf3165",
   "metadata": {},
   "source": [
    "\\begin{eqnarray}\n",
    " &  Y = D\\theta_0 + g_0(X) + \\zeta,  &  E[\\zeta \\mid D,X]= 0,\\\\\n",
    " & D = m_0(X) +  V,   &  E[V \\mid X] = 0.\n",
    "\\end{eqnarray}"
   ]
  },
  {
   "cell_type": "markdown",
   "id": "42354b51",
   "metadata": {},
   "source": [
    "### Double Lasso without Sample Splitting"
   ]
  },
  {
   "cell_type": "markdown",
   "id": "f1e3c38b",
   "metadata": {},
   "source": [
    "We first look at the treatment effect of e401 on net total financial assets. We give estimates of the ATE and ATT that corresponds to the linear model\n",
    "\n",
    "\\begin{equation*}\n",
    "Y = D \\alpha + f(X)'\\beta+ \\epsilon,\n",
    "\\end{equation*}\n",
    "\n",
    "where $f(X)$ includes indicators of marital status, two-earner status, defined benefit pension status, IRA participation status, and home ownership status, and  orthogonal polynomials of degrees 2, 4, 6 and 8 in family size, education, age and  income, respectively. The dimensions of $f(X)$ is 25. \n",
    "\n",
    "In the first step, we report estimates of the average treatment effect (ATE) of 401(k) eligibility on net financial assets both in the partially linear regression (PLR) model and in the interactive regression model (IRM) allowing for heterogeneous treatment effects. \n"
   ]
  },
  {
   "cell_type": "code",
   "execution_count": 21,
   "id": "051af0ae",
   "metadata": {},
   "outputs": [],
   "source": [
    "modely = make_pipeline(transformer, StandardScaler(), LassoCV())\n",
    "modeld = make_pipeline(transformer, StandardScaler(), LassoCV())"
   ]
  },
  {
   "cell_type": "code",
   "execution_count": 22,
   "id": "53bc1c83",
   "metadata": {},
   "outputs": [],
   "source": [
    "resy = y - modely.fit(X, y).predict(X)\n",
    "resD = D - modeld.fit(X, D).predict(X)"
   ]
  },
  {
   "cell_type": "code",
   "execution_count": 23,
   "id": "51244ab4",
   "metadata": {},
   "outputs": [
    {
     "data": {
      "text/plain": [
       "7775.63821483496"
      ]
     },
     "execution_count": 23,
     "metadata": {},
     "output_type": "execute_result"
    }
   ],
   "source": [
    "np.mean(resy * resD) / np.mean(resD**2)"
   ]
  },
  {
   "cell_type": "markdown",
   "id": "625b9c67",
   "metadata": {},
   "source": [
    "## Let's add some confounding to our data"
   ]
  },
  {
   "cell_type": "code",
   "execution_count": 67,
   "id": "2a1730a3",
   "metadata": {},
   "outputs": [],
   "source": [
    "X, D, y, y1, y0, A = synth.generate_with_confounding(20000, .1, 7000)"
   ]
  },
  {
   "cell_type": "code",
   "execution_count": 76,
   "id": "0da9e208",
   "metadata": {},
   "outputs": [],
   "source": [
    "modely = make_pipeline(transformer, StandardScaler(), LassoCV())\n",
    "modeld = make_pipeline(transformer, StandardScaler(), LassoCV())"
   ]
  },
  {
   "cell_type": "code",
   "execution_count": 77,
   "id": "5221a251",
   "metadata": {},
   "outputs": [],
   "source": [
    "resy = y - modely.fit(X, y).predict(X)\n",
    "resD = D - modeld.fit(X, D).predict(X)"
   ]
  },
  {
   "cell_type": "code",
   "execution_count": 78,
   "id": "198e5511",
   "metadata": {},
   "outputs": [
    {
     "data": {
      "text/plain": [
       "10850.120017713394"
      ]
     },
     "execution_count": 78,
     "metadata": {},
     "output_type": "execute_result"
    }
   ],
   "source": [
    "theta = np.mean(resy * resD) / np.mean(resD**2)\n",
    "theta"
   ]
  },
  {
   "cell_type": "markdown",
   "id": "67e98f1c",
   "metadata": {},
   "source": [
    "### Understanding Degree of Confounding"
   ]
  },
  {
   "cell_type": "code",
   "execution_count": 71,
   "id": "8348bc61",
   "metadata": {},
   "outputs": [],
   "source": [
    "modelA = make_pipeline(transformer, StandardScaler(), LassoCV())"
   ]
  },
  {
   "cell_type": "code",
   "execution_count": 72,
   "id": "22323f23",
   "metadata": {},
   "outputs": [],
   "source": [
    "resA = A - modelA.fit(X, A).predict(X)"
   ]
  },
  {
   "cell_type": "code",
   "execution_count": 73,
   "id": "bf392b63",
   "metadata": {},
   "outputs": [
    {
     "data": {
      "text/plain": [
       "0.04734637615348802"
      ]
     },
     "execution_count": 73,
     "metadata": {},
     "output_type": "execute_result"
    }
   ],
   "source": [
    "resDhat = LinearRegression().fit(resA.reshape(-1, 1), resD).predict(resA.reshape(-1, 1))\n",
    "etaD = 1 - np.mean((resD - resDhat)**2) / np.var(resD)\n",
    "etaD"
   ]
  },
  {
   "cell_type": "code",
   "execution_count": 80,
   "id": "9e1a0344",
   "metadata": {},
   "outputs": [
    {
     "data": {
      "text/plain": [
       "0.018897848649871762"
      ]
     },
     "execution_count": 80,
     "metadata": {},
     "output_type": "execute_result"
    }
   ],
   "source": [
    "partialresy = resy - theta * resD\n",
    "partialresA = resA - LinearRegression().fit(resD.reshape(-1, 1), resA).predict(resD.reshape(-1, 1))\n",
    "partialresyhat = LinearRegression().fit(partialresA.reshape(-1, 1), partialresy).predict(partialresA.reshape(-1, 1))\n",
    "etaY = 1 - np.mean((partialresy - partialresyhat)**2) / np.var(partialresy)\n",
    "etaY"
   ]
  },
  {
   "cell_type": "markdown",
   "id": "938c0610",
   "metadata": {},
   "source": [
    "### Sensitivity Bounds"
   ]
  },
  {
   "cell_type": "code",
   "execution_count": 83,
   "id": "dad9b796",
   "metadata": {},
   "outputs": [],
   "source": [
    "def bounds(etaD, etaY):\n",
    "    nusq = np.mean(resD ** 2)\n",
    "    theta = np.mean(resy * resD) / nusq\n",
    "    sigmasq = np.mean((resy - resD * theta)**2)\n",
    "    S = np.sqrt(sigmasq / nusq)\n",
    "    CD = etaD / (1 - etaD)\n",
    "    CY = etaY\n",
    "    error = S * np.sqrt(CD * CY)\n",
    "    return theta - error, theta + error"
   ]
  },
  {
   "cell_type": "code",
   "execution_count": 84,
   "id": "779c6c3c",
   "metadata": {},
   "outputs": [
    {
     "data": {
      "text/plain": [
       "(7307.083629513094, 14393.156405913694)"
      ]
     },
     "execution_count": 84,
     "metadata": {},
     "output_type": "execute_result"
    }
   ],
   "source": [
    "bounds(0.05, 0.02)"
   ]
  },
  {
   "cell_type": "code",
   "execution_count": 87,
   "id": "dfa371a2",
   "metadata": {},
   "outputs": [],
   "source": [
    "def contour(etaD, error):\n",
    "    nusq = np.mean(resD ** 2)\n",
    "    theta = np.mean(resy * resD) / nusq\n",
    "    sigmasq = np.mean((resy - resD * theta)**2)\n",
    "    S = np.sqrt(sigmasq / nusq)\n",
    "    CD = etaD / (1 - etaD)\n",
    "    etaY = error**2 / (CD * S**2)\n",
    "    return etaY"
   ]
  },
  {
   "cell_type": "code",
   "execution_count": 106,
   "id": "678b0adf",
   "metadata": {},
   "outputs": [
    {
     "data": {
      "image/png": "[encoded data removed]",
      "text/plain": [
       "<Figure size 640x480 with 1 Axes>"
      ]
     },
     "metadata": {},
     "output_type": "display_data"
    }
   ],
   "source": [
    "etaDgrid = np.linspace(0.05, .99, 100)\n",
    "for level in [3000, 5000, 7000, 15000]:\n",
    "    etaYgrid = [contour(t, level) for t in etaDgrid]\n",
    "    plt.plot(etaDgrid, etaYgrid, label=f'{level}')\n",
    "etaYgrid = [contour(t, theta) for t in etaDgrid]\n",
    "plt.plot(etaDgrid, etaYgrid, '--', label=f'{level}')\n",
    "plt.legend()\n",
    "plt.show()"
   ]
  },
  {
   "cell_type": "code",
   "execution_count": 102,
   "id": "7a7313ba",
   "metadata": {},
   "outputs": [
    {
     "name": "stdout",
     "output_type": "stream",
     "text": [
      "-4.723336120010572\n",
      "Robustness value = 0.0946\n"
     ]
    }
   ],
   "source": [
    "# Find the \"robustness value\" such that if both partial R^2 for D and Y are larger\n",
    "# than this value, then the effect is zero\n",
    "for t in np.linspace(0.01, .99, 10000):\n",
    "    if bounds(t, t)[0] <= 0:\n",
    "        print(bounds(t, t)[0])\n",
    "        break\n",
    "print(f\"Robustness value = {t:.4f}\")"
   ]
  },
  {
   "cell_type": "code",
   "execution_count": null,
   "id": "bd7a8e80",
   "metadata": {},
   "outputs": [],
   "source": []
  }
 ],
 "metadata": {
  "kernelspec": {
   "display_name": "Python 3 (ipykernel)",
   "language": "python",
   "name": "python3"
  },
  "language_info": {
   "codemirror_mode": {
    "name": "ipython",
    "version": 3
   },
   "file_extension": ".py",
   "mimetype": "text/x-python",
   "name": "python",
   "nbconvert_exporter": "python",
   "pygments_lexer": "ipython3",
   "version": "3.9.13"
  },
  "papermill": {
   "default_parameters": {},
   "duration": 537.547458,
   "end_time": "2021-03-24T14:22:44.931595",
   "environment_variables": {},
   "exception": null,
   "input_path": "__notebook__.ipynb",
   "output_path": "__notebook__.ipynb",
   "parameters": {},
   "start_time": "2021-03-24T14:13:47.384137",
   "version": "2.3.2"
  }
 },
 "nbformat": 4,
 "nbformat_minor": 5
}
