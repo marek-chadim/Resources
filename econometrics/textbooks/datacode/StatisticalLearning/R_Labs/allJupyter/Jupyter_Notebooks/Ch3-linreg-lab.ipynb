{
 "cells": [
  {
   "cell_type": "code",
   "execution_count": null,
   "id": "9491610b",
   "metadata": {
    "name": "setup",
    "tags": [
     "remove_input"
    ]
   },
   "outputs": [],
   "source": [
    "knitr::opts_chunk$set(error = TRUE)"
   ]
  },
  {
   "cell_type": "markdown",
   "id": "6a3491e2",
   "metadata": {},
   "source": [
    "# Linear Regression"
   ]
  },
  {
   "cell_type": "markdown",
   "id": "77f860af",
   "metadata": {},
   "source": [
    "## Libraries\n",
    "\n",
    "The `library()` function is used to load *libraries*, or groups of  functions and data sets that are not included in the base `R` distribution. Basic functions that perform least squares linear regression and other simple analyses\n",
    "come standard with the base distribution,  but more exotic functions require additional libraries.\n",
    " Here we load the `MASS` package, which is a very large collection of data sets and functions. We  also load the `ISLR2` package, which includes the data sets associated with this book.\n"
   ]
  },
  {
   "cell_type": "code",
   "execution_count": null,
   "id": "15114cc3",
   "metadata": {
    "lines_to_next_cell": 2,
    "name": "chunk1"
   },
   "outputs": [],
   "source": [
    "library(MASS)\n",
    "library(ISLR2)"
   ]
  },
  {
   "cell_type": "markdown",
   "id": "945faef2",
   "metadata": {},
   "source": [
    "If you receive an error message when loading any of these libraries, it\n",
    "likely indicates that the corresponding library has not yet been\n",
    "installed on your system. Some libraries, such as `MASS`, come with `R`\n",
    "and do not need to be separately installed on your computer. However,\n",
    "other packages, such as `ISLR2`, must be downloaded the first time they\n",
    "are used. This can be done directly from within `R`. For example, on a\n",
    "Windows system,  select the `Install package` option\n",
    "under the `Packages` tab.  After you select any mirror site, a\n",
    "list of available packages will appear. Simply select the package you\n",
    "wish to install and `R` will automatically download the\n",
    "package. Alternatively, this can be done at the `R` command line\n",
    "via `install.packages(\"ISLR2\")`. This installation only needs\n",
    "to be done the first time you use a package. However, the\n",
    "`library()` function must be called within each `R` session.\n",
    "\n",
    "## Simple Linear Regression\n",
    "\n",
    "The `ISLR2` library contains the `Boston`  data set, which\n",
    "records `medv` (median house value) for $506$ census tracts in Boston. We will seek to predict `medv` using $12$ predictors such as `rmvar` (average number of  rooms per house), `age` (proportion of owner-occupied units built prior to 1940) and `lstat` (percent of households with low socioeconomic status)."
   ]
  },
  {
   "cell_type": "code",
   "execution_count": null,
   "id": "d45269d5",
   "metadata": {
    "name": "chunk2"
   },
   "outputs": [],
   "source": [
    "head(Boston)"
   ]
  },
  {
   "cell_type": "markdown",
   "id": "45401a5b",
   "metadata": {},
   "source": [
    "To find out more about the data set, we can type `?Boston`.\n",
    "\n",
    "We will start by using the `lm()` function to fit a simple  linear regression model, with `medv` as the response and `lstat`  as the predictor. The basic syntax is `lm(y ~ x, data)`, where `y` is the response, `x` is the predictor, and `data` is the data set in which these two variables are kept."
   ]
  },
  {
   "cell_type": "code",
   "execution_count": null,
   "id": "7b9427e3",
   "metadata": {
    "name": "chunk3"
   },
   "outputs": [],
   "source": [
    "lm.fit <- lm(medv ~ lstat)"
   ]
  },
  {
   "cell_type": "markdown",
   "id": "5dd3d49a",
   "metadata": {},
   "source": [
    "The command causes an error because `R` does not know where to find the variables `medv` and `lstat`. The next line tells `R` that the variables are in `Boston`. If we attach `Boston`, the first line works fine because `R` now recognizes the variables."
   ]
  },
  {
   "cell_type": "code",
   "execution_count": null,
   "id": "e35aaf51",
   "metadata": {
    "lines_to_next_cell": 2,
    "name": "chunk4"
   },
   "outputs": [],
   "source": [
    "lm.fit <- lm(medv ~ lstat, data = Boston)\n",
    "attach(Boston)\n",
    "lm.fit <- lm(medv ~ lstat)"
   ]
  },
  {
   "cell_type": "markdown",
   "id": "17b930b6",
   "metadata": {},
   "source": [
    "If we type `lm.fit`,  some basic information about the model is output. For more detailed information, we use `summary(lm.fit)`. This gives us $p$-values and standard errors for the coefficients, as well as the $R^2$ statistic and $F$-statistic for the model.\n"
   ]
  },
  {
   "cell_type": "code",
   "execution_count": null,
   "id": "4dfc2322",
   "metadata": {
    "name": "chunk5"
   },
   "outputs": [],
   "source": [
    "lm.fit\n",
    "summary(lm.fit)"
   ]
  },
  {
   "cell_type": "markdown",
   "id": "9976307f",
   "metadata": {},
   "source": [
    "We can use the `names()` function in order to find out what other pieces of information  are stored in `lm.fit`.\n",
    "Although we can extract these quantities by name---e.g. `lm.fit$coefficients`---it is safer to use the extractor functions like `coef()` to access them."
   ]
  },
  {
   "cell_type": "code",
   "execution_count": null,
   "id": "f8162ed3",
   "metadata": {
    "name": "chunk6"
   },
   "outputs": [],
   "source": [
    "names(lm.fit)\n",
    "coef(lm.fit)"
   ]
  },
  {
   "cell_type": "markdown",
   "id": "ce116fc7",
   "metadata": {},
   "source": [
    "In order to obtain a confidence interval for the coefficient estimates, we can use the `confint()` command."
   ]
  },
  {
   "cell_type": "code",
   "execution_count": null,
   "id": "8f625c0f",
   "metadata": {
    "name": "chunk7"
   },
   "outputs": [],
   "source": [
    "confint(lm.fit)"
   ]
  },
  {
   "cell_type": "markdown",
   "id": "5a27654f",
   "metadata": {},
   "source": [
    "The `predict()` function can be used to produce confidence intervals and prediction intervals for the prediction of `medv` for a given value of `lstat`."
   ]
  },
  {
   "cell_type": "code",
   "execution_count": null,
   "id": "f2b349a0",
   "metadata": {
    "name": "chunk8"
   },
   "outputs": [],
   "source": [
    "predict(lm.fit, data.frame(lstat = (c(5, 10, 15))),\n",
    "    interval = \"confidence\")\n",
    "predict(lm.fit, data.frame(lstat = (c(5, 10, 15))),\n",
    "    interval = \"prediction\")"
   ]
  },
  {
   "cell_type": "markdown",
   "id": "a9d1b204",
   "metadata": {},
   "source": [
    "For instance, the 95 \\% confidence interval associated with a `lstat` value of 10 is $(24.47, 25.63)$, and the 95 \\% prediction interval is $(12.828, 37.28)$.\n",
    "As expected, the confidence and prediction intervals are centered around the same point (a predicted value of $25.05$ for `medv` when `lstat` equals 10), but the latter are substantially wider.\n",
    "\n",
    "We will now plot `medv` and `lstat` along with the least squares regression line using the `plot()` and `abline()` functions."
   ]
  },
  {
   "cell_type": "code",
   "execution_count": null,
   "id": "0fded73c",
   "metadata": {
    "name": "chunk9"
   },
   "outputs": [],
   "source": [
    "plot(lstat, medv)\n",
    "abline(lm.fit)"
   ]
  },
  {
   "cell_type": "markdown",
   "id": "17cf7800",
   "metadata": {},
   "source": [
    "There is some evidence for non-linearity in the relationship between `lstat` and `medv`. We will explore this issue  later in this lab.\n",
    "\n",
    "The `abline()` function can be used to draw any line, not just the least squares regression line.\n",
    "To draw a line with intercept `a` and slope `b`, we  type `abline(a, b)`. Below we experiment with some additional settings for plotting lines and points.\n",
    " The `lwd = 3` command causes the width of the regression line to be increased by a factor of 3;  this works for the `plot()` and `lines()` functions also. We can also use the `pch` option to create different plotting symbols."
   ]
  },
  {
   "cell_type": "code",
   "execution_count": null,
   "id": "ec37b0fc",
   "metadata": {
    "lines_to_next_cell": 2,
    "name": "chunk10"
   },
   "outputs": [],
   "source": [
    "abline(lm.fit, lwd = 3)\n",
    "abline(lm.fit, lwd = 3, col = \"red\")\n",
    "plot(lstat, medv, col = \"red\")\n",
    "plot(lstat, medv, pch = 20)\n",
    "plot(lstat, medv, pch = \"+\")\n",
    "plot(1:20, 1:20, pch = 1:20)"
   ]
  },
  {
   "cell_type": "markdown",
   "id": "8e571a3a",
   "metadata": {},
   "source": [
    "Next we examine some diagnostic plots, several of which were discussed\n",
    "in Section 3.3.3. Four diagnostic plots are automatically\n",
    "produced by applying the `plot()` function directly to the output\n",
    "from `lm()`. In general, this command will produce one plot at a\n",
    "time, and hitting *Enter* will generate the next plot. However,\n",
    "it is often convenient to view all four plots together. We can achieve\n",
    "this by using the `par()` and `mfrow()` functions, which tell `R` to split\n",
    "the display screen into separate panels so that multiple plots can be\n",
    "viewed simultaneously. For example,  `par(mfrow = c(2, 2))` divides the plotting\n",
    "region into a $2 \\times 2$ grid of panels."
   ]
  },
  {
   "cell_type": "code",
   "execution_count": null,
   "id": "7687aa2d",
   "metadata": {
    "name": "chunk11"
   },
   "outputs": [],
   "source": [
    "par(mfrow = c(2, 2))\n",
    "plot(lm.fit)"
   ]
  },
  {
   "cell_type": "markdown",
   "id": "67b33eef",
   "metadata": {},
   "source": [
    "Alternatively, we can compute the residuals from a linear regression\n",
    "fit using the `residuals()` function. The function\n",
    "`rstudent()` will return the studentized residuals, and we\n",
    "can use this function to plot the residuals against the fitted values."
   ]
  },
  {
   "cell_type": "code",
   "execution_count": null,
   "id": "e237a9c9",
   "metadata": {
    "name": "chunk12"
   },
   "outputs": [],
   "source": [
    "plot(predict(lm.fit), residuals(lm.fit))\n",
    "plot(predict(lm.fit), rstudent(lm.fit))"
   ]
  },
  {
   "cell_type": "markdown",
   "id": "7cfd796f",
   "metadata": {},
   "source": [
    "On the basis of the residual plots, there is some evidence of non-linearity.\n",
    "Leverage statistics can be computed for any number of predictors using the `hatvalues()` function."
   ]
  },
  {
   "cell_type": "code",
   "execution_count": null,
   "id": "9eb05693",
   "metadata": {
    "name": "chunk13"
   },
   "outputs": [],
   "source": [
    "plot(hatvalues(lm.fit))\n",
    "which.max(hatvalues(lm.fit))"
   ]
  },
  {
   "cell_type": "markdown",
   "id": "b919c0a1",
   "metadata": {},
   "source": [
    "The `which.max()` function identifies the index of the largest element of a vector. In this case, it tells us which observation has the largest leverage statistic.\n",
    "\n",
    "## Multiple Linear Regression\n",
    "\n",
    "In order to fit a multiple linear regression model using least squares, we again use the `lm()` function. The syntax `lm(y ~ x1 + x2 + x3)` is used to fit a model with three predictors, `x1`, `x2`, and `x3`.\n",
    "The `summary()` function now outputs the regression coefficients for all the predictors."
   ]
  },
  {
   "cell_type": "code",
   "execution_count": null,
   "id": "ab5cc24a",
   "metadata": {
    "name": "chunk14"
   },
   "outputs": [],
   "source": [
    "lm.fit <- lm(medv ~ lstat + age, data = Boston)\n",
    "summary(lm.fit)"
   ]
  },
  {
   "cell_type": "markdown",
   "id": "9b3dab62",
   "metadata": {},
   "source": [
    "The `Boston` data set contains 12 variables, and so it would be cumbersome to have to type all of these in order to perform a regression using all of the predictors.\n",
    "Instead, we can use the following short-hand:"
   ]
  },
  {
   "cell_type": "code",
   "execution_count": null,
   "id": "950d2fc3",
   "metadata": {
    "name": "chunk15"
   },
   "outputs": [],
   "source": [
    "lm.fit <- lm(medv ~ ., data = Boston)\n",
    "summary(lm.fit)"
   ]
  },
  {
   "cell_type": "markdown",
   "id": "b8eb77e3",
   "metadata": {},
   "source": [
    "We can access the individual components of a summary object by name\n",
    "(type `?summary.lm` to see what is available). Hence\n",
    "`summary(lm.fit)$r.sq` gives us the $R^2$, and\n",
    "`summary(lm.fit)$sigma` gives us the RSE. The `vif()`\n",
    "function, part of the `car` package, can be used to compute variance\n",
    "inflation factors.  Most VIF's are\n",
    "low to moderate for this data. The `car` package is not part of the base `R` installation so it must be downloaded the first time you use it via the `install.packages()` function in `R`."
   ]
  },
  {
   "cell_type": "code",
   "execution_count": null,
   "id": "456d65f6",
   "metadata": {
    "name": "chunk16"
   },
   "outputs": [],
   "source": [
    "library(car)\n",
    "vif(lm.fit)"
   ]
  },
  {
   "cell_type": "markdown",
   "id": "551ff3c0",
   "metadata": {},
   "source": [
    "What if we would like to perform a regression using all of the variables but one?  For example, in the above regression output,  `age` has a high $p$-value. So we may wish to run a regression excluding this predictor.\n",
    " The following syntax results in a regression using all predictors except `age`."
   ]
  },
  {
   "cell_type": "code",
   "execution_count": null,
   "id": "5e2148e6",
   "metadata": {
    "name": "chunk17"
   },
   "outputs": [],
   "source": [
    "lm.fit1 <- lm(medv ~ . - age, data = Boston)\n",
    "summary(lm.fit1)"
   ]
  },
  {
   "cell_type": "markdown",
   "id": "8b527e31",
   "metadata": {},
   "source": [
    "Alternatively, the `update()` function can be used."
   ]
  },
  {
   "cell_type": "code",
   "execution_count": null,
   "id": "bc565b23",
   "metadata": {
    "lines_to_next_cell": 2,
    "name": "chunk18"
   },
   "outputs": [],
   "source": [
    "lm.fit1 <- update(lm.fit, ~ . - age)"
   ]
  },
  {
   "cell_type": "markdown",
   "id": "c50ae071",
   "metadata": {},
   "source": [
    "## Interaction Terms\n",
    "\n",
    "It is easy to include interaction terms in a linear model using the `lm()` function. The syntax `lstat:age` tells `R` to include an interaction term between `lstat` and `age`.\n",
    "The syntax `lstat * age` simultaneously includes `lstat`, `age`, and the interaction term `lstat`$\\times$`age` as predictors; it is a shorthand for `lstat + age + lstat:age`.\n",
    "  %We can also pass in transformed versions of the predictors."
   ]
  },
  {
   "cell_type": "code",
   "execution_count": null,
   "id": "083aa7c9",
   "metadata": {
    "lines_to_next_cell": 2,
    "name": "chunk19"
   },
   "outputs": [],
   "source": [
    "summary(lm(medv ~ lstat * age, data = Boston))"
   ]
  },
  {
   "cell_type": "markdown",
   "id": "4b4189a0",
   "metadata": {},
   "source": [
    "## Non-linear Transformations of the Predictors\n",
    "\n",
    "The `lm()` function can also accommodate non-linear transformations of the predictors. For instance, given a predictor $X$, we can create a predictor $X^2$ using\n",
    " `I(X^2)`. The function `I()` is needed since the `^` has a special meaning in a formula object; wrapping as we do allows the standard usage in `R`, which is to raise `X` to the power `2`. We now\n",
    "perform a regression of `medv` onto `lstat` and `lstat^2`."
   ]
  },
  {
   "cell_type": "code",
   "execution_count": null,
   "id": "83d7fb05",
   "metadata": {
    "name": "chunk20"
   },
   "outputs": [],
   "source": [
    "lm.fit2 <- lm(medv ~ lstat + I(lstat^2))\n",
    "summary(lm.fit2)"
   ]
  },
  {
   "cell_type": "markdown",
   "id": "c8faef55",
   "metadata": {},
   "source": [
    "The near-zero $p$-value associated with the quadratic term suggests that it leads to an improved model.\n",
    "We use the `anova()` function  to further quantify the extent to which the quadratic fit is superior to the linear fit."
   ]
  },
  {
   "cell_type": "code",
   "execution_count": null,
   "id": "fa5ab44d",
   "metadata": {
    "name": "chunk21"
   },
   "outputs": [],
   "source": [
    "lm.fit <- lm(medv ~ lstat)\n",
    "anova(lm.fit, lm.fit2)"
   ]
  },
  {
   "cell_type": "markdown",
   "id": "6180ddd2",
   "metadata": {},
   "source": [
    "Here Model 1 represents the linear submodel containing only one predictor, `lstat`, while Model 2 corresponds to the larger quadratic model that has two predictors, `lstat` and `lstat^2`.\n",
    "The `anova()` function performs a hypothesis test\n",
    "comparing the two models. The   null hypothesis is that the two models fit the data equally well,  and the alternative hypothesis is that the full model is superior. Here the $F$-statistic is $135$\n",
    " and the associated $p$-value is virtually zero. This provides very clear evidence that the model containing the predictors `lstat` and `lstat^2` is far superior to the model that only contains the predictor `lstat`.\n",
    " This is not surprising, since earlier we saw evidence for non-linearity in the relationship between `medv` and `lstat`. If we type"
   ]
  },
  {
   "cell_type": "code",
   "execution_count": null,
   "id": "fd64c7ff",
   "metadata": {
    "name": "chunk22"
   },
   "outputs": [],
   "source": [
    "par(mfrow = c(2, 2))\n",
    "plot(lm.fit2)"
   ]
  },
  {
   "cell_type": "markdown",
   "id": "48b53e4f",
   "metadata": {},
   "source": [
    " then we see that when the `lstat^2` term is included in the model, there is little discernible pattern in the residuals.\n",
    "\n",
    "In order to create a cubic fit, we can include a predictor of the form `I(X^3)`. However, this approach can start to get cumbersome for higher-order polynomials. A better approach involves using the `poly()` function to create the polynomial within `lm()`. For example, the following command produces a\n",
    "fifth-order polynomial fit:"
   ]
  },
  {
   "cell_type": "code",
   "execution_count": null,
   "id": "d0cd60ad",
   "metadata": {
    "name": "chunk23"
   },
   "outputs": [],
   "source": [
    "lm.fit5 <- lm(medv ~ poly(lstat, 5))\n",
    "summary(lm.fit5)"
   ]
  },
  {
   "cell_type": "markdown",
   "id": "0d1fc789",
   "metadata": {},
   "source": [
    "This suggests that including additional  polynomial terms, up to fifth order, leads to an improvement in the model fit! However, further investigation of the data reveals that no polynomial terms beyond fifth order have significant $p$-values\n",
    "in a regression fit.\n",
    "\n",
    " By default, the `poly()` function orthogonalizes the predictors:\n",
    " this means that the features output by this function are not simply a\n",
    " sequence of powers of the argument. However, a linear model applied to the output of the `poly()` function will have the same fitted values as a linear model applied to the raw polynomials (although the coefficient estimates, standard errors, and p-values will differ). In order to obtain the raw polynomials from the `poly()` function,  the argument `raw = TRUE` must be used.\n",
    "\n",
    "Of course, we are in no way restricted to using polynomial transformations of the predictors. Here we try a log transformation."
   ]
  },
  {
   "cell_type": "code",
   "execution_count": null,
   "id": "0506a38d",
   "metadata": {
    "lines_to_next_cell": 2,
    "name": "chunk24"
   },
   "outputs": [],
   "source": [
    "summary(lm(medv ~ log(rm), data = Boston))"
   ]
  },
  {
   "cell_type": "markdown",
   "id": "2dbba594",
   "metadata": {},
   "source": [
    "## Qualitative Predictors\n",
    "\n",
    "We will now examine the `Carseats` data, which is part of the\n",
    "`ISLR2` library. We will  attempt to predict `Sales`\n",
    "(child car seat sales) in $400$ locations based on a number of\n",
    "predictors."
   ]
  },
  {
   "cell_type": "code",
   "execution_count": null,
   "id": "e633bf78",
   "metadata": {
    "name": "chunk25"
   },
   "outputs": [],
   "source": [
    "head(Carseats)"
   ]
  },
  {
   "cell_type": "markdown",
   "id": "324fa932",
   "metadata": {},
   "source": [
    "The `Carseats` data includes qualitative predictors such as `shelveloc`, an indicator of the quality of the shelving location---that is, the  space within a store in which the car seat is displayed---at each location. The predictor `shelveloc` takes on three possible values:  *Bad*, *Medium*, and *Good*. Given a qualitative variable such as `shelveloc`, `R` generates dummy variables automatically. Below we fit a multiple regression model that includes some interaction terms."
   ]
  },
  {
   "cell_type": "code",
   "execution_count": null,
   "id": "ae0519fd",
   "metadata": {
    "name": "chunk26"
   },
   "outputs": [],
   "source": [
    "lm.fit <- lm(Sales ~ . + Income:Advertising + Price:Age, \n",
    "    data = Carseats)\n",
    "summary(lm.fit)"
   ]
  },
  {
   "cell_type": "markdown",
   "id": "41a59987",
   "metadata": {},
   "source": [
    "The `contrasts()` function returns the coding that `R` uses for the dummy variables."
   ]
  },
  {
   "cell_type": "code",
   "execution_count": null,
   "id": "f0ffcc11",
   "metadata": {
    "name": "chunk27"
   },
   "outputs": [],
   "source": [
    "attach(Carseats)\n",
    "contrasts(ShelveLoc)"
   ]
  },
  {
   "cell_type": "markdown",
   "id": "97c8c17a",
   "metadata": {},
   "source": [
    "Use `?contrasts` to learn about other contrasts, and how to set them.\n",
    "\n",
    "`R` has created a `ShelveLocGood` dummy variable that takes on a value of 1 if the shelving location is good, and 0 otherwise. It has also created a `ShelveLocMedium` dummy variable that equals 1 if the shelving location is medium, and 0 otherwise.\n",
    "A bad shelving location corresponds to a zero for each of the two dummy variables.\n",
    "The fact that the coefficient for `ShelveLocGood` in the regression output is positive indicates that a good shelving location is associated with high sales (relative to a bad location). And `ShelveLocMedium` has a smaller positive coefficient, indicating that a medium shelving location is associated with higher sales than a bad shelving location but lower sales than a good shelving location."
   ]
  },
  {
   "cell_type": "markdown",
   "id": "acde90af",
   "metadata": {},
   "source": [
    "## Writing  Functions\n",
    "\n",
    "As we have seen, `R` comes with many useful functions, and still more functions are available by way of `R` libraries.\n",
    "However, we will often be interested in performing an operation for which no function is available. In this setting, we may want to write our own function. For instance, below we provide a simple function that reads in the `ISLR2` and `MASS` libraries, called\n",
    "`LoadLibraries()`. Before we have created the function, `R` returns an error if we try to call it."
   ]
  },
  {
   "cell_type": "code",
   "execution_count": null,
   "id": "7422f490",
   "metadata": {
    "name": "chunk28"
   },
   "outputs": [],
   "source": [
    "LoadLibraries\n",
    "LoadLibraries()"
   ]
  },
  {
   "cell_type": "markdown",
   "id": "689ae874",
   "metadata": {},
   "source": [
    "We now create the function. Note that the `+` symbols are printed by `R` and should not be typed in. The `{` symbol informs `R` that multiple commands are about to be input. Hitting *Enter* after typing `{` will cause `R` to print the `+` symbol. We can then input as many commands as we wish, hitting {*Enter*} after each one. Finally the `}` symbol informs `R` that no further commands will be entered."
   ]
  },
  {
   "cell_type": "code",
   "execution_count": null,
   "id": "cfef153d",
   "metadata": {
    "name": "chunk29"
   },
   "outputs": [],
   "source": [
    "LoadLibraries <- function() {\n",
    " library(ISLR2)\n",
    " library(MASS)\n",
    " print(\"The libraries have been loaded.\")\n",
    "}"
   ]
  },
  {
   "cell_type": "markdown",
   "id": "09d3319c",
   "metadata": {},
   "source": [
    "Now if we type in `LoadLibraries`, `R` will tell us what is in the function."
   ]
  },
  {
   "cell_type": "code",
   "execution_count": null,
   "id": "47f4414a",
   "metadata": {
    "name": "chunk30"
   },
   "outputs": [],
   "source": [
    "LoadLibraries"
   ]
  },
  {
   "cell_type": "markdown",
   "id": "2a275759",
   "metadata": {},
   "source": [
    "If we call the function, the libraries are loaded in and the print statement is output."
   ]
  },
  {
   "cell_type": "code",
   "execution_count": null,
   "id": "d31b4210",
   "metadata": {
    "lines_to_next_cell": 0,
    "name": "chunk31"
   },
   "outputs": [],
   "source": [
    "LoadLibraries()"
   ]
  },
  {
   "cell_type": "markdown",
   "id": "1b52cfc6",
   "metadata": {},
   "source": [
    "\n"
   ]
  }
 ],
 "metadata": {
  "jupytext": {
   "cell_metadata_filter": "tags,name,-all"
  },
  "kernelspec": {
   "display_name": "R",
   "language": "R",
   "name": "ir"
  }
 },
 "nbformat": 4,
 "nbformat_minor": 5
}
