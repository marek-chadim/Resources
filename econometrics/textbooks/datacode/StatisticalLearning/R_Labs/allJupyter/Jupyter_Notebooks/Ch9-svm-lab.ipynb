{
 "cells": [
  {
   "cell_type": "code",
   "execution_count": null,
   "id": "0a0d7d56",
   "metadata": {
    "lines_to_next_cell": 2,
    "name": "setup",
    "tags": [
     "remove_input"
    ]
   },
   "outputs": [],
   "source": [
    "knitr::opts_chunk$set(error = TRUE)"
   ]
  },
  {
   "cell_type": "markdown",
   "id": "ffdf01ba",
   "metadata": {},
   "source": [
    "# Support Vector Machines\n",
    "\n",
    "We use the `e1071` library in `R` to demonstrate the\n",
    "support vector classifier and the SVM. Another option is the `LiblineaR` library,  which is\n",
    "useful for very large linear problems.\n",
    "\n",
    "## Support Vector Classifier\n",
    "\n",
    "The `e1071` library contains\n",
    "implementations for a number of statistical learning methods. In\n",
    "particular, the `svm()` function can be used to fit a support\n",
    "vector classifier when the argument `kernel = \"linear\"` is used.\n",
    "This function uses a slightly different formulation from\n",
    "(9.14) and (9.25) for the support vector\n",
    "classifier.  A `cost` argument allows us to specify the cost of\n",
    "a violation to the margin.  When the `cost` argument is small,\n",
    "then the margins will be wide and many support vectors will be on the\n",
    "margin or will violate the margin.  When the `cost` argument is\n",
    "large, then the margins will be narrow and there will be few support\n",
    "vectors on the margin or violating the margin.\n",
    "\n",
    "We now use the `svm()` function to fit the support vector classifier for a given value of the `cost` parameter.\n",
    "Here we demonstrate the use of this function on a two-dimensional example so that we can plot the resulting decision boundary. We begin by generating\n",
    "the observations, which belong to two classes, and checking whether the classes are linearly separable."
   ]
  },
  {
   "cell_type": "code",
   "execution_count": null,
   "id": "5f3f43f7",
   "metadata": {
    "name": "chunk1"
   },
   "outputs": [],
   "source": [
    "set.seed(1)\n",
    "x <- matrix(rnorm(20 * 2), ncol = 2)\n",
    "y <- c(rep(-1, 10), rep(1, 10))\n",
    "x[y == 1, ] <- x[y == 1, ] + 1\n",
    "plot(x, col = (3 - y))"
   ]
  },
  {
   "cell_type": "markdown",
   "id": "4afb6e25",
   "metadata": {},
   "source": [
    "They are not. Next, we fit the support vector classifier. Note that in order for the `svm()` function to perform classification (as opposed to SVM-based regression), we must encode the response as a factor variable.\n",
    "We now create a data frame with the response coded as a factor."
   ]
  },
  {
   "cell_type": "code",
   "execution_count": null,
   "id": "2380cfa9",
   "metadata": {
    "lines_to_next_cell": 2,
    "name": "chunk2"
   },
   "outputs": [],
   "source": [
    "dat <- data.frame(x = x, y = as.factor(y))\n",
    "library(e1071)\n",
    "svmfit <- svm(y ~ ., data = dat, kernel = \"linear\", \n",
    "    cost = 10, scale = FALSE)"
   ]
  },
  {
   "cell_type": "markdown",
   "id": "ab95d422",
   "metadata": {},
   "source": [
    "The argument `scale = FALSE` tells the `svm()` function not to scale each feature to have mean zero or standard deviation one; depending on the application, one might prefer to use `scale = TRUE`.\n",
    "\n",
    "We can now plot the support vector classifier obtained:"
   ]
  },
  {
   "cell_type": "code",
   "execution_count": null,
   "id": "4dc00792",
   "metadata": {
    "name": "chunk3"
   },
   "outputs": [],
   "source": [
    "plot(svmfit, dat)"
   ]
  },
  {
   "cell_type": "markdown",
   "id": "781633ca",
   "metadata": {},
   "source": [
    "Note that the two arguments to the SVM\n",
    "`plot()` function are the output of the call to `svm()`, as well as the data used in the call to `svm()`.\n",
    "The region of feature space that will be assigned to the $-1$ class is shown in light yellow, and the region that will be assigned to the $+1$ class is shown in red.\n",
    "The decision boundary between the two classes is linear (because we used the argument `kernel = \"linear\"`), though due to the\n",
    "way in which the plotting function is implemented in this library the decision boundary looks somewhat jagged in the plot. (Note that here the second feature is plotted on the $x$-axis and the first feature is plotted on the $y$-axis, in contrast to the behavior of the usual `plot()` function in `R`.)\n",
    "The support vectors are plotted as crosses and the remaining observations are plotted as circles; we see here that there are seven support vectors. We can determine their identities as follows:"
   ]
  },
  {
   "cell_type": "code",
   "execution_count": null,
   "id": "8cc66b1d",
   "metadata": {
    "name": "chunk4"
   },
   "outputs": [],
   "source": [
    "svmfit$index"
   ]
  },
  {
   "cell_type": "markdown",
   "id": "37421875",
   "metadata": {},
   "source": [
    "We can obtain some basic information about the support vector classifier fit using the `summary()` command:"
   ]
  },
  {
   "cell_type": "code",
   "execution_count": null,
   "id": "a7cfd406",
   "metadata": {
    "name": "chunk5"
   },
   "outputs": [],
   "source": [
    "summary(svmfit)"
   ]
  },
  {
   "cell_type": "markdown",
   "id": "0e5df911",
   "metadata": {},
   "source": [
    "This tells us, for instance, that a linear kernel was used with `cost = 10`, and that there were seven support vectors, four in one class and three in the other.\n",
    "\n",
    "What if we instead used a smaller value of the cost parameter?"
   ]
  },
  {
   "cell_type": "code",
   "execution_count": null,
   "id": "78a5b915",
   "metadata": {
    "name": "chunk6"
   },
   "outputs": [],
   "source": [
    "svmfit <- svm(y ~ ., data = dat, kernel = \"linear\", \n",
    "    cost = 0.1, scale = FALSE)\n",
    "plot(svmfit, dat)\n",
    "svmfit$index"
   ]
  },
  {
   "cell_type": "markdown",
   "id": "78eebf4f",
   "metadata": {},
   "source": [
    "Now that a smaller value of the cost parameter is being used, we obtain a larger number of support vectors, because the margin is now wider. Unfortunately, the `svm()` function does not explicitly output the coefficients of the linear decision boundary obtained when the support vector classifier is fit, nor does it output the width of the margin.\n",
    "\n",
    "The `e1071` library includes a built-in function, `tune()`, to perform cross-validation. By default, `tune()` performs ten-fold cross-validation on a set of models of interest. In order to use this function, we pass in relevant information about the set of models that are under consideration. The following command indicates that we want to compare SVMs with a linear kernel, using a range of values of the `cost` parameter."
   ]
  },
  {
   "cell_type": "code",
   "execution_count": null,
   "id": "7dbc9b6d",
   "metadata": {
    "name": "chunk7"
   },
   "outputs": [],
   "source": [
    "set.seed(1)\n",
    "tune.out <- tune(svm, y ~ ., data = dat, kernel = \"linear\", \n",
    "    ranges = list(cost = c(0.001, 0.01, 0.1, 1, 5, 10, 100)))"
   ]
  },
  {
   "cell_type": "markdown",
   "id": "2a973609",
   "metadata": {},
   "source": [
    "We can easily access the cross-validation errors for each of these models using the `summary()` command:"
   ]
  },
  {
   "cell_type": "code",
   "execution_count": null,
   "id": "77b98fcf",
   "metadata": {
    "name": "chunk8"
   },
   "outputs": [],
   "source": [
    "summary(tune.out)"
   ]
  },
  {
   "cell_type": "markdown",
   "id": "59453bea",
   "metadata": {},
   "source": [
    "We see that  `cost = 0.1` results in the lowest cross-validation error rate.\n",
    "The `tune()` function stores the best model obtained, which can be accessed as follows:"
   ]
  },
  {
   "cell_type": "code",
   "execution_count": null,
   "id": "5fa080a8",
   "metadata": {
    "lines_to_next_cell": 0,
    "name": "chunk9"
   },
   "outputs": [],
   "source": [
    "bestmod <- tune.out$best.model\n",
    "summary(bestmod)"
   ]
  },
  {
   "cell_type": "markdown",
   "id": "23ea3f4d",
   "metadata": {},
   "source": []
  },
  {
   "cell_type": "markdown",
   "id": "7a21e2a6",
   "metadata": {},
   "source": [
    "The `predict()` function can be used to predict the class label on a set of test observations, at any given value of the cost parameter. We begin by generating a\n",
    "test data set."
   ]
  },
  {
   "cell_type": "code",
   "execution_count": null,
   "id": "1f8449f4",
   "metadata": {
    "name": "chunk10"
   },
   "outputs": [],
   "source": [
    "xtest <- matrix(rnorm(20 * 2), ncol = 2)\n",
    "ytest <- sample(c(-1, 1), 20, rep = TRUE)\n",
    "xtest[ytest == 1, ] <- xtest[ytest == 1, ] + 1\n",
    "testdat <- data.frame(x = xtest, y = as.factor(ytest))"
   ]
  },
  {
   "cell_type": "markdown",
   "id": "2988b26a",
   "metadata": {},
   "source": [
    "Now we predict the class labels of these test observations. Here we use the best model obtained through cross-validation in order to make predictions."
   ]
  },
  {
   "cell_type": "code",
   "execution_count": null,
   "id": "f1383eb0",
   "metadata": {
    "name": "chunk11"
   },
   "outputs": [],
   "source": [
    "ypred <- predict(bestmod, testdat)\n",
    "table(predict = ypred, truth = testdat$y)"
   ]
  },
  {
   "cell_type": "markdown",
   "id": "f58c1891",
   "metadata": {},
   "source": [
    "Thus, with this value of `cost`, 17 of the test observations are correctly classified.\n",
    "What if we had instead used `cost = 0.01`?"
   ]
  },
  {
   "cell_type": "code",
   "execution_count": null,
   "id": "af70961b",
   "metadata": {
    "name": "chunk12"
   },
   "outputs": [],
   "source": [
    "svmfit <- svm(y ~ ., data = dat, kernel = \"linear\", \n",
    "    cost = .01, scale = FALSE)\n",
    "ypred <- predict(svmfit, testdat)\n",
    "table(predict = ypred, truth = testdat$y)"
   ]
  },
  {
   "cell_type": "markdown",
   "id": "1b77cc93",
   "metadata": {},
   "source": [
    "In this case three additional observations are misclassified.\n",
    "\n",
    "Now consider a situation in which the two classes are linearly separable. Then we can\n",
    "find a separating hyperplane using the `svm()` function.\n",
    "We first further separate the two classes in our simulated data so that they are linearly separable:"
   ]
  },
  {
   "cell_type": "code",
   "execution_count": null,
   "id": "838060a1",
   "metadata": {
    "name": "chunk13"
   },
   "outputs": [],
   "source": [
    "x[y == 1, ] <- x[y == 1, ] + 0.5\n",
    "plot(x, col = (y + 5) / 2, pch = 19)"
   ]
  },
  {
   "cell_type": "markdown",
   "id": "7e074b8f",
   "metadata": {},
   "source": [
    "Now the observations are just barely linearly separable.\n",
    "We fit the support vector classifier and plot the resulting hyperplane, using a very large value of `cost` so that no observations are misclassified."
   ]
  },
  {
   "cell_type": "code",
   "execution_count": null,
   "id": "6e49034a",
   "metadata": {
    "name": "chunk14"
   },
   "outputs": [],
   "source": [
    "dat <- data.frame(x = x, y = as.factor(y))\n",
    "svmfit <- svm(y ~ ., data = dat, kernel = \"linear\", \n",
    "    cost = 1e5)\n",
    "summary(svmfit)\n",
    "plot(svmfit, dat)"
   ]
  },
  {
   "cell_type": "markdown",
   "id": "8263cf72",
   "metadata": {},
   "source": [
    "No training errors were made and only three support vectors were used.\n",
    "However, we can see from the figure that the margin is very narrow (because the observations that are not support vectors, indicated as circles, are very close to the decision boundary). It seems likely that this model will perform poorly on test data. We now try a smaller value of `cost`:"
   ]
  },
  {
   "cell_type": "code",
   "execution_count": null,
   "id": "5c9242bc",
   "metadata": {
    "name": "chunk15"
   },
   "outputs": [],
   "source": [
    "svmfit <- svm(y ~ ., data = dat, kernel = \"linear\", cost = 1)\n",
    "summary(svmfit)\n",
    "plot(svmfit, dat)"
   ]
  },
  {
   "cell_type": "markdown",
   "id": "1d3d740f",
   "metadata": {},
   "source": [
    "Using `cost = 1`, we misclassify a training observation, but we also obtain a much wider margin and make use of seven support vectors. It seems likely that this model will perform better on test data than the model with \n",
    " `cost = 1e5`.\n",
    "\n",
    "## Support Vector Machine\n",
    "\n",
    "In order to fit an SVM using a non-linear kernel, we once again use the `svm()` function. However, now we use a different value of the parameter `kernel`. To\n",
    "fit an SVM with a polynomial kernel we use `kernel = \"polynomial\"`, and to fit an SVM with a radial kernel we use `kernel = \"radial\"`.\n",
    "In the former case we also use the `degree` argument to specify a degree for the polynomial kernel (this is $d$ in (9.22)), and in the latter case we use `gamma` to specify a value of $\\gamma$ for the radial basis kernel (9.24).\n",
    "\n",
    "We first generate some data with a non-linear class boundary, as follows:"
   ]
  },
  {
   "cell_type": "code",
   "execution_count": null,
   "id": "063aee16",
   "metadata": {
    "name": "chunk16"
   },
   "outputs": [],
   "source": [
    "set.seed(1)\n",
    "x <- matrix(rnorm(200 * 2), ncol = 2)\n",
    "x[1:100, ] <- x[1:100, ] + 2\n",
    "x[101:150, ] <- x[101:150, ] - 2\n",
    "y <- c(rep(1, 150), rep(2, 50))\n",
    "dat <- data.frame(x = x, y = as.factor(y))"
   ]
  },
  {
   "cell_type": "markdown",
   "id": "9a77725f",
   "metadata": {},
   "source": [
    "Plotting the data makes it clear that the class boundary is indeed non-linear:"
   ]
  },
  {
   "cell_type": "code",
   "execution_count": null,
   "id": "f3cc59ac",
   "metadata": {
    "name": "chunk17"
   },
   "outputs": [],
   "source": [
    "plot(x, col = y)"
   ]
  },
  {
   "cell_type": "markdown",
   "id": "e5056e92",
   "metadata": {},
   "source": [
    "The data is randomly split into training and testing groups. We then fit the training data using the `svm()` function with a radial kernel and $\\gamma=1$:"
   ]
  },
  {
   "cell_type": "code",
   "execution_count": null,
   "id": "785de978",
   "metadata": {
    "name": "chunk18"
   },
   "outputs": [],
   "source": [
    "train <- sample(200, 100)\n",
    "svmfit <- svm(y ~ ., data = dat[train, ], kernel = \"radial\",  \n",
    "    gamma = 1, cost = 1)\n",
    "plot(svmfit, dat[train, ])"
   ]
  },
  {
   "cell_type": "markdown",
   "id": "f123642a",
   "metadata": {},
   "source": [
    "The plot shows that the resulting  SVM has a decidedly non-linear  boundary. The `summary()` function can be used to obtain some  information about the SVM fit:"
   ]
  },
  {
   "cell_type": "code",
   "execution_count": null,
   "id": "0e9507a0",
   "metadata": {
    "name": "chunk19"
   },
   "outputs": [],
   "source": [
    "summary(svmfit)"
   ]
  },
  {
   "cell_type": "markdown",
   "id": "a76f81e6",
   "metadata": {},
   "source": [
    "We can see from the figure that there are a fair number of training errors in this SVM fit.\n",
    "If we increase the value of `cost`, we can reduce the number of\n",
    "training errors. However, this comes at the price of a more irregular decision boundary that seems to be at risk of overfitting the data."
   ]
  },
  {
   "cell_type": "code",
   "execution_count": null,
   "id": "58d98e1c",
   "metadata": {
    "lines_to_next_cell": 0,
    "name": "chunk20"
   },
   "outputs": [],
   "source": [
    "svmfit <- svm(y ~ ., data = dat[train, ], kernel = \"radial\", \n",
    "    gamma = 1, cost = 1e5)\n",
    "plot(svmfit, dat[train, ])"
   ]
  },
  {
   "cell_type": "markdown",
   "id": "e63c87e7",
   "metadata": {},
   "source": [
    "\n"
   ]
  },
  {
   "cell_type": "markdown",
   "id": "75659e36",
   "metadata": {},
   "source": [
    "We can perform cross-validation using `tune()` to select the best choice of $\\gamma$ and `cost` for an SVM with a radial kernel:"
   ]
  },
  {
   "cell_type": "code",
   "execution_count": null,
   "id": "79ec1f18",
   "metadata": {
    "name": "chunk21"
   },
   "outputs": [],
   "source": [
    "set.seed(1)\n",
    "tune.out <- tune(svm, y ~ ., data = dat[train, ], \n",
    "    kernel = \"radial\", \n",
    "    ranges = list(\n",
    "      cost = c(0.1, 1, 10, 100, 1000),\n",
    "      gamma = c(0.5, 1, 2, 3, 4)\n",
    "    )\n",
    "  )\n",
    "summary(tune.out)"
   ]
  },
  {
   "cell_type": "markdown",
   "id": "2c240079",
   "metadata": {},
   "source": [
    "Therefore, the best choice of parameters involves `cost = 1` and `gamma = 0.5`.\n",
    "We can view the test set predictions for this model by applying the `predict()` function to the data. Notice that to do this we subset the dataframe `dat` using `-train` as an index set."
   ]
  },
  {
   "cell_type": "code",
   "execution_count": null,
   "id": "6999242a",
   "metadata": {
    "name": "chunk22"
   },
   "outputs": [],
   "source": [
    "table(\n",
    "    true = dat[-train, \"y\"], \n",
    "    pred = predict(\n",
    "      tune.out$best.model, newdata = dat[-train, ]\n",
    "      )\n",
    "    )"
   ]
  },
  {
   "cell_type": "markdown",
   "id": "2241d38d",
   "metadata": {},
   "source": [
    "$12 \\%$ of test observations are misclassified by this SVM.\n",
    "\n",
    "## ROC Curves\n",
    "\n",
    "The `ROCR` package can be used to produce ROC curves such as those in Figures 9.10 and 9.11. We first write a short function to plot an ROC curve given a vector containing a numerical score for each observation, `pred`, and\n",
    "a vector containing the class label for each observation, `truth`."
   ]
  },
  {
   "cell_type": "code",
   "execution_count": null,
   "id": "c532442b",
   "metadata": {
    "lines_to_next_cell": 0,
    "name": "chunk23"
   },
   "outputs": [],
   "source": [
    "library(ROCR)\n",
    "rocplot <- function(pred, truth, ...) {\n",
    "  predob <- prediction(pred, truth)\n",
    "  perf <- performance(predob, \"tpr\", \"fpr\")\n",
    "  plot(perf, ...)\n",
    "}"
   ]
  },
  {
   "cell_type": "markdown",
   "id": "fda987fb",
   "metadata": {},
   "source": []
  },
  {
   "cell_type": "markdown",
   "id": "726efdcf",
   "metadata": {},
   "source": [
    "SVMs and support vector classifiers output class labels for each observation. However, it is also possible to obtain *fitted values* for each observation, which are the numerical scores used to obtain the class labels. For instance, in the case of a support vector\n",
    "classifier, the fitted value for an observation $X= (X_1, X_2, \\ldots, X_p)^T$ takes the form $\\hat{\\beta}_0 + \\hat{\\beta}_1 X_1 + \\hat{\\beta}_2 X_2 + \\cdots + \\hat{\\beta}_p X_p$. For an SVM with a non-linear kernel, the equation that yields the fitted value is given in (9.23). In essence, the sign of the fitted value determines on which side of the decision boundary the observation lies. Therefore, the relationship between the fitted value and the class prediction for a given observation is simple: if the fitted value exceeds zero then the observation is assigned to one class, and if it is less than zero then it is assigned to the other.\n",
    "In order to obtain the fitted values for a given SVM model fit, we use `decision.values = TRUE` when fitting `svm()`.\n",
    "Then the `predict()` function will output the fitted values."
   ]
  },
  {
   "cell_type": "code",
   "execution_count": null,
   "id": "77d01dc0",
   "metadata": {
    "name": "chunk24"
   },
   "outputs": [],
   "source": [
    "svmfit.opt <- svm(y ~ ., data = dat[train, ], \n",
    "    kernel = \"radial\", gamma = 2, cost = 1, \n",
    "    decision.values = T)\n",
    "fitted <- attributes(\n",
    "    predict(svmfit.opt, dat[train, ], decision.values = TRUE)\n",
    "  )$decision.values"
   ]
  },
  {
   "cell_type": "markdown",
   "id": "2ecc6253",
   "metadata": {},
   "source": [
    "Now we can produce the ROC plot. Note we use the negative of the fitted values so that negative values correspond to class 1 and positive values to class 2."
   ]
  },
  {
   "cell_type": "code",
   "execution_count": null,
   "id": "7dff62a1",
   "metadata": {
    "name": "chunk25"
   },
   "outputs": [],
   "source": [
    "par(mfrow = c(1, 2))\n",
    "rocplot(-fitted, dat[train, \"y\"], main = \"Training Data\")"
   ]
  },
  {
   "cell_type": "markdown",
   "id": "aba74cc5",
   "metadata": {},
   "source": [
    "SVM appears to be producing accurate predictions. By increasing $\\gamma$ we can produce a more flexible fit and generate further improvements in accuracy."
   ]
  },
  {
   "cell_type": "code",
   "execution_count": null,
   "id": "7b2359a4",
   "metadata": {
    "lines_to_next_cell": 2,
    "name": "chunk26"
   },
   "outputs": [],
   "source": [
    "svmfit.flex <- svm(y ~ ., data = dat[train, ], \n",
    "    kernel = \"radial\", gamma = 50, cost = 1, \n",
    "    decision.values = T)\n",
    "fitted <- attributes(\n",
    "    predict(svmfit.flex, dat[train, ], decision.values = T)\n",
    "  )$decision.values\n",
    "rocplot(-fitted, dat[train, \"y\"], add = T, col = \"red\")"
   ]
  },
  {
   "cell_type": "markdown",
   "id": "1bcaf0d2",
   "metadata": {},
   "source": [
    "However, these ROC curves are all on the training data. We are really more interested in the level of prediction accuracy on the test data. When we compute the ROC curves on the test data, the model with $\\gamma=2$ appears to provide the most accurate results."
   ]
  },
  {
   "cell_type": "code",
   "execution_count": null,
   "id": "5cc50b58",
   "metadata": {
    "lines_to_next_cell": 0,
    "name": "chunk27"
   },
   "outputs": [],
   "source": [
    "fitted <- attributes(\n",
    "    predict(svmfit.opt, dat[-train, ], decision.values = T)\n",
    "  )$decision.values\n",
    "rocplot(-fitted, dat[-train, \"y\"], main = \"Test Data\")\n",
    "fitted <- attributes(\n",
    "    predict(svmfit.flex, dat[-train, ], decision.values = T)\n",
    "  )$decision.values\n",
    "rocplot(-fitted, dat[-train, \"y\"], add = T, col = \"red\")"
   ]
  },
  {
   "cell_type": "markdown",
   "id": "47b8126e",
   "metadata": {},
   "source": [
    "\n"
   ]
  },
  {
   "cell_type": "markdown",
   "id": "b2a4e1b1",
   "metadata": {},
   "source": [
    "## SVM with Multiple Classes\n",
    "\n",
    "If the response is a factor containing more than two levels, then the `svm()` function will  perform multi-class classification using the one-versus-one approach. We explore that setting here by generating a third class of observations."
   ]
  },
  {
   "cell_type": "code",
   "execution_count": null,
   "id": "d8ac05f4",
   "metadata": {
    "name": "chunk28"
   },
   "outputs": [],
   "source": [
    "set.seed(1)\n",
    "x <- rbind(x, matrix(rnorm(50 * 2), ncol = 2))\n",
    "y <- c(y, rep(0, 50))\n",
    "x[y == 0, 2] <- x[y == 0, 2] + 2\n",
    "dat <- data.frame(x = x, y = as.factor(y))\n",
    "par(mfrow = c(1, 1))\n",
    "plot(x, col = (y + 1))"
   ]
  },
  {
   "cell_type": "markdown",
   "id": "3083c87d",
   "metadata": {},
   "source": [
    "We now fit an SVM to the data:"
   ]
  },
  {
   "cell_type": "code",
   "execution_count": null,
   "id": "8b6401d0",
   "metadata": {
    "lines_to_next_cell": 0,
    "name": "chunk29"
   },
   "outputs": [],
   "source": [
    "svmfit <- svm(y ~ ., data = dat, kernel = \"radial\", \n",
    "    cost = 10, gamma = 1)\n",
    "plot(svmfit, dat)"
   ]
  },
  {
   "cell_type": "markdown",
   "id": "dcc3bf58",
   "metadata": {},
   "source": []
  },
  {
   "cell_type": "markdown",
   "id": "c7f3d97b",
   "metadata": {},
   "source": [
    "The `e1071` library can also be used to perform support vector regression, if the response vector that is passed in to `svm()` is numerical rather than a factor.\n",
    "\n",
    "## Application to Gene Expression Data\n",
    "\n",
    "We now examine the `Khan` data set, which  consists of a number of tissue samples corresponding to four distinct types of small\n",
    "round blue cell tumors. For each tissue sample, gene expression measurements are available.\n",
    "The data set consists of training data, `xtrain` and `ytrain`, and testing data, `xtest` and `ytest`."
   ]
  },
  {
   "cell_type": "markdown",
   "id": "9916baf0",
   "metadata": {},
   "source": [
    "We examine the dimension of the data:"
   ]
  },
  {
   "cell_type": "code",
   "execution_count": null,
   "id": "914170ac",
   "metadata": {
    "name": "chunk30"
   },
   "outputs": [],
   "source": [
    "library(ISLR2)\n",
    "names(Khan)\n",
    "dim(Khan$xtrain)\n",
    "dim(Khan$xtest)\n",
    "length(Khan$ytrain)\n",
    "length(Khan$ytest)"
   ]
  },
  {
   "cell_type": "markdown",
   "id": "c349176f",
   "metadata": {},
   "source": [
    "This data set consists of expression measurements for $2{,}308$  genes.  The training and test sets consist of $63$ and $20$ observations respectively."
   ]
  },
  {
   "cell_type": "code",
   "execution_count": null,
   "id": "5f189b8b",
   "metadata": {
    "name": "chunk31"
   },
   "outputs": [],
   "source": [
    "table(Khan$ytrain)\n",
    "table(Khan$ytest)"
   ]
  },
  {
   "cell_type": "markdown",
   "id": "f21cd5bd",
   "metadata": {},
   "source": [
    "We will use a support vector approach to predict cancer subtype using gene expression measurements.\n",
    "In this data set, there are a very large number of  features relative to the number of observations. This suggests that we should use a  linear kernel, because the additional flexibility that will\n",
    "result from using a polynomial or radial kernel is unnecessary.\n"
   ]
  },
  {
   "cell_type": "code",
   "execution_count": null,
   "id": "22d0d13a",
   "metadata": {
    "lines_to_next_cell": 2,
    "name": "chunk32"
   },
   "outputs": [],
   "source": [
    "dat <- data.frame(\n",
    "    x = Khan$xtrain, \n",
    "    y = as.factor(Khan$ytrain)\n",
    "  )\n",
    "out <- svm(y ~ ., data = dat, kernel = \"linear\", \n",
    "    cost = 10)\n",
    "summary(out)\n",
    "table(out$fitted, dat$y)"
   ]
  },
  {
   "cell_type": "markdown",
   "id": "93ec6352",
   "metadata": {},
   "source": [
    "We  see that there are *no* training errors. In fact, this is not surprising, because\n",
    "the large number of variables relative to the number of observations implies that it is easy to find hyperplanes that fully separate the classes. We are most interested not in the support vector classifier's performance on the training observations, but rather its performance on the test observations."
   ]
  },
  {
   "cell_type": "code",
   "execution_count": null,
   "id": "df72e527",
   "metadata": {
    "name": "chunk33"
   },
   "outputs": [],
   "source": [
    "dat.te <- data.frame(\n",
    "    x = Khan$xtest, \n",
    "    y = as.factor(Khan$ytest))\n",
    "pred.te <- predict(out, newdata = dat.te)\n",
    "table(pred.te, dat.te$y)"
   ]
  },
  {
   "cell_type": "markdown",
   "id": "f4bbf1f6",
   "metadata": {},
   "source": [
    "We see that using `cost = 10` yields two test set errors on this\n",
    "data."
   ]
  }
 ],
 "metadata": {
  "jupytext": {
   "cell_metadata_filter": "name,tags,-all"
  },
  "kernelspec": {
   "display_name": "R",
   "language": "R",
   "name": "ir"
  }
 },
 "nbformat": 4,
 "nbformat_minor": 5
}
