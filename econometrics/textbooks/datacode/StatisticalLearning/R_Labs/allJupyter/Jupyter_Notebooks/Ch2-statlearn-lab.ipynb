{
 "cells": [
  {
   "cell_type": "code",
   "execution_count": null,
   "id": "7ea73914",
   "metadata": {
    "name": "setup",
    "tags": [
     "remove_input"
    ]
   },
   "outputs": [],
   "source": [
    "knitr::opts_chunk$set(error = TRUE)"
   ]
  },
  {
   "cell_type": "markdown",
   "id": "32cd2584",
   "metadata": {},
   "source": [
    "# Introduction to R\n",
    "\n",
    "In this lab, we will introduce some simple `R` commands. The best way to learn a new language\n",
    "is to try out the commands. `R` can be downloaded from\n",
    "\n",
    "`http://cran.r-project.org/`"
   ]
  },
  {
   "cell_type": "markdown",
   "id": "280adf9c",
   "metadata": {},
   "source": [
    "We recommend that you run `R` within an integrated development environment (IDE) such as `RStudio`, which can be freely downloaded from\n",
    "\n",
    "`http://rstudio.com`\n",
    "\n",
    "The `RStudio` website also provides a cloud-based version of `R`, which does not require installing any software.\n",
    "\n",
    "## Basic Commands\n",
    "\n",
    "`R` uses *functions* to perform operations. To run a function called `funcname`, we type `funcname(input1, input2)`, where the inputs (or *arguments*) `input1` and `input2` tell `R`\n",
    " how to run the function. A function can have any number of inputs. For example, to create a vector of numbers, we use the function `c()` (for *concatenate*). Any numbers inside the parentheses are joined together. The following  command\n",
    "instructs `R` to join together the numbers 1, 3, 2, and 5, and to save them as a vector named `x`. When we type `x`, it gives us back the vector."
   ]
  },
  {
   "cell_type": "code",
   "execution_count": null,
   "id": "0881252f",
   "metadata": {
    "name": "chunk1"
   },
   "outputs": [],
   "source": [
    "x <- c(1, 3, 2, 5)\n",
    "x"
   ]
  },
  {
   "cell_type": "markdown",
   "id": "5d6eef3b",
   "metadata": {},
   "source": [
    "Note that the `>` is not part of the command; rather, it is  printed by `R` to indicate that it is ready for another command to be entered. We can also save things using `=` rather than `<-`:"
   ]
  },
  {
   "cell_type": "code",
   "execution_count": null,
   "id": "da2e321f",
   "metadata": {
    "name": "chunk2"
   },
   "outputs": [],
   "source": [
    "x = c(1, 6, 2)\n",
    "x\n",
    "y = c(1, 4, 3)"
   ]
  },
  {
   "cell_type": "markdown",
   "id": "199c07c6",
   "metadata": {},
   "source": [
    " Hitting the *up* arrow multiple times will display the previous commands, which can then be edited. This is useful since one often wishes to repeat a similar command. In addition, typing `?funcname` will always cause `R` to open a new help file window with additional information about the function `funcname()`.\n",
    "\n",
    " We can tell `R` to add two sets of numbers together. It will then add the first number from `x` to the first number from `y`, and so on. However, `x` and `y` should be the same length.\n",
    " We can check their length using the `length()` function."
   ]
  },
  {
   "cell_type": "code",
   "execution_count": null,
   "id": "32529017",
   "metadata": {
    "lines_to_next_cell": 2,
    "name": "chunk3"
   },
   "outputs": [],
   "source": [
    "length(x)\n",
    "length(y)\n",
    "x + y"
   ]
  },
  {
   "cell_type": "markdown",
   "id": "63a27628",
   "metadata": {},
   "source": [
    "The `ls()` function allows us to look at a list of all of the objects, such as data and functions, that we have saved so far. The `rm()` function can be used to delete any that we don't\n",
    "want."
   ]
  },
  {
   "cell_type": "code",
   "execution_count": null,
   "id": "a4a38b4e",
   "metadata": {
    "name": "chunk4"
   },
   "outputs": [],
   "source": [
    "ls()\n",
    "rm(x, y)\n",
    "ls()"
   ]
  },
  {
   "cell_type": "markdown",
   "id": "abefe64c",
   "metadata": {},
   "source": [
    "It's also possible to remove all objects at once:"
   ]
  },
  {
   "cell_type": "code",
   "execution_count": null,
   "id": "82103926",
   "metadata": {
    "lines_to_next_cell": 2,
    "name": "chunk5"
   },
   "outputs": [],
   "source": [
    "rm(list = ls())"
   ]
  },
  {
   "cell_type": "markdown",
   "id": "8490af2d",
   "metadata": {},
   "source": [
    "The `matrix()` function can be used to create a matrix of numbers.\n",
    "Before we use the `matrix()` function, we can learn more about it:"
   ]
  },
  {
   "cell_type": "code",
   "execution_count": null,
   "id": "aec11165",
   "metadata": {
    "name": "chunk6"
   },
   "outputs": [],
   "source": [
    "?matrix"
   ]
  },
  {
   "cell_type": "markdown",
   "id": "620f0233",
   "metadata": {},
   "source": [
    "The help file reveals that the `matrix()` function takes a number of inputs, but for now we focus on the first three: the data (the entries in the matrix), the number of rows, and the number of columns.\n",
    "First, we create a simple matrix."
   ]
  },
  {
   "cell_type": "code",
   "execution_count": null,
   "id": "25524eeb",
   "metadata": {
    "name": "chunk7"
   },
   "outputs": [],
   "source": [
    "x <- matrix(data = c(1, 2, 3, 4), nrow = 2, ncol = 2)\n",
    "x"
   ]
  },
  {
   "cell_type": "markdown",
   "id": "a7168f2d",
   "metadata": {},
   "source": [
    "Note that we could just as well omit typing `data=`, `nrow=`, and `ncol=` in the `matrix()` command above: that is, we could just type"
   ]
  },
  {
   "cell_type": "code",
   "execution_count": null,
   "id": "99305ccd",
   "metadata": {
    "name": "chunk8"
   },
   "outputs": [],
   "source": [
    "x <- matrix(c(1, 2, 3, 4), 2, 2)"
   ]
  },
  {
   "cell_type": "markdown",
   "id": "6bda423e",
   "metadata": {},
   "source": [
    "and this would have the same effect. However, it can sometimes be useful to specify the names of the arguments passed in,  since otherwise `R` will assume that the function arguments are passed into the function in the same order that is given in the function's help file. As this example illustrates, by default `R` creates matrices by successively filling in columns. Alternatively, the `byrow = TRUE` option can be used to populate the matrix in order of the rows."
   ]
  },
  {
   "cell_type": "code",
   "execution_count": null,
   "id": "eb5097c0",
   "metadata": {
    "name": "chunk9"
   },
   "outputs": [],
   "source": [
    "matrix(c(1, 2, 3, 4), 2, 2, byrow = TRUE)"
   ]
  },
  {
   "cell_type": "markdown",
   "id": "9ca778eb",
   "metadata": {},
   "source": [
    "Notice that in the above command we did not assign the matrix to a value such as `x`. In this case the matrix is printed to the screen but is not saved for future calculations.\n",
    "The `sqrt()` function returns the square root of each element of a vector or matrix. The command\n",
    "`x^2` raises each element of `x` to the power `2`; any powers are possible, including fractional or negative powers.\n"
   ]
  },
  {
   "cell_type": "code",
   "execution_count": null,
   "id": "53c11373",
   "metadata": {
    "lines_to_next_cell": 2,
    "name": "chunk10"
   },
   "outputs": [],
   "source": [
    "sqrt(x)\n",
    "x^2"
   ]
  },
  {
   "cell_type": "markdown",
   "id": "b6a833ca",
   "metadata": {},
   "source": [
    "The `rnorm()` function generates a vector of random\n",
    "normal variables, with first argument `n` the sample size.  Each\n",
    "time we call this function, we will get a different answer. Here we\n",
    "create two correlated sets of numbers, `x` and `y`, and use\n",
    "the `cor()` function to compute the correlation between\n",
    "them.\n"
   ]
  },
  {
   "cell_type": "code",
   "execution_count": null,
   "id": "d6aef8a9",
   "metadata": {
    "name": "chunk11"
   },
   "outputs": [],
   "source": [
    "x <- rnorm(50)\n",
    "y <- x + rnorm(50, mean = 50, sd = .1)\n",
    "cor(x, y)"
   ]
  },
  {
   "cell_type": "markdown",
   "id": "7c47bcdc",
   "metadata": {},
   "source": [
    "By default, `rnorm()` creates standard normal random variables with a mean of $0$ and a standard deviation of $1$. However, the mean and standard deviation can be altered using the `mean` and `sd` arguments,\n",
    "as illustrated above. Sometimes we want our code to reproduce the exact same set of random numbers; we can use the `set.seed()` function to do this. The `set.seed()` function takes an (arbitrary) integer argument."
   ]
  },
  {
   "cell_type": "code",
   "execution_count": null,
   "id": "04dbd95f",
   "metadata": {
    "name": "chunk12"
   },
   "outputs": [],
   "source": [
    "set.seed(1303)\n",
    "rnorm(50)"
   ]
  },
  {
   "cell_type": "markdown",
   "id": "c1a33797",
   "metadata": {},
   "source": [
    "We use `set.seed()` throughout the labs whenever we perform calculations involving random quantities. In general this should allow the user to reproduce our results. However,  as new versions of `R` become available,  small discrepancies may arise between this book and the output from `R`.\n",
    "\n",
    "The `mean()` and `var()` functions can be used to compute the mean and variance of a vector of numbers. Applying `sqrt()` to the output of `var()` will give the standard deviation. Or we can simply use the\n",
    "`sd()` function."
   ]
  },
  {
   "cell_type": "code",
   "execution_count": null,
   "id": "a1372fde",
   "metadata": {
    "lines_to_next_cell": 2,
    "name": "chunk13"
   },
   "outputs": [],
   "source": [
    "set.seed(3)\n",
    "y <- rnorm(100)\n",
    "mean(y)\n",
    "var(y)\n",
    "sqrt(var(y))\n",
    "sd(y)"
   ]
  },
  {
   "cell_type": "markdown",
   "id": "7df88726",
   "metadata": {},
   "source": [
    "## Graphics\n",
    "\n",
    "The `plot()` function is the primary way to plot data in `R`. For instance, `plot(x, y)` produces a scatterplot of the numbers in `x` versus the numbers in\n",
    "`y`. There are many additional options that can be passed in to the `plot()` function. For example,\n",
    "passing in the argument `xlab` will result in a label on the $x$-axis. To find out more information about the `plot()` function,\n",
    "type `?plot`."
   ]
  },
  {
   "cell_type": "code",
   "execution_count": null,
   "id": "cf00c8fd",
   "metadata": {
    "name": "chunk14"
   },
   "outputs": [],
   "source": [
    "x <- rnorm(100)\n",
    "y <- rnorm(100)\n",
    "plot(x, y)\n",
    "plot(x, y, xlab = \"this is the x-axis\",\n",
    "    ylab = \"this is the y-axis\",\n",
    "    main = \"Plot of X vs Y\")"
   ]
  },
  {
   "cell_type": "markdown",
   "id": "69d14fed",
   "metadata": {},
   "source": [
    "We will often want to save the output of an `R` plot. The command that we\n",
    "use to do this will depend on the file type that we would like to create. For instance, to create a pdf, we use the `pdf()` function, and to create a jpeg, we use the `jpeg()` function."
   ]
  },
  {
   "cell_type": "code",
   "execution_count": null,
   "id": "24abef71",
   "metadata": {
    "name": "chunk15"
   },
   "outputs": [],
   "source": [
    "pdf(\"Figure.pdf\")\n",
    "plot(x, y, col = \"green\")\n",
    "dev.off()"
   ]
  },
  {
   "cell_type": "markdown",
   "id": "c3340620",
   "metadata": {},
   "source": [
    "The function `dev.off()` indicates to `R` that we are done creating the plot.\n",
    "Alternatively, we can simply copy the plot window and paste it into an appropriate file type, such as a Word document.\n",
    "\n",
    "The function `seq()` can be used to create a sequence of numbers. For instance, `seq(a, b)` makes a vector of integers between `a` and `b`.\n",
    "There are many other options: for instance,  `seq(0, 1, length = 10)` makes a sequence of `10` numbers that are equally spaced between `0` and `1`. Typing `3:11` is a shorthand for `seq(3, 11)` for integer arguments."
   ]
  },
  {
   "cell_type": "code",
   "execution_count": null,
   "id": "2079d532",
   "metadata": {
    "lines_to_next_cell": 2,
    "name": "chunk16"
   },
   "outputs": [],
   "source": [
    "x <- seq(1, 10)\n",
    "x\n",
    "x <- 1:10\n",
    "x\n",
    "x <- seq(-pi, pi, length = 50)"
   ]
  },
  {
   "cell_type": "markdown",
   "id": "6aad3630",
   "metadata": {},
   "source": [
    "We  will now create some more sophisticated plots. The `contour()` function produces a *contour plot* in order to represent three-dimensional data; it is  like a topographical map.\n",
    " It takes three arguments:\n",
    " \n",
    " *  A vector of the `x` values (the first dimension),\n",
    " * A vector of the `y` values (the second dimension), and\n",
    " * A matrix whose elements correspond\n",
    " to the `z` value (the third dimension) for each pair of (`x`, `y`) coordinates.\n",
    "\n",
    "As with the  `plot()` function, there are many other inputs that can be used to fine-tune the output of the `contour()` function. To learn more about these, take a look at  the help file by typing `?contour`."
   ]
  },
  {
   "cell_type": "code",
   "execution_count": null,
   "id": "2cbd6faf",
   "metadata": {
    "lines_to_next_cell": 2,
    "name": "chunk17"
   },
   "outputs": [],
   "source": [
    "y <- x\n",
    "f <- outer(x, y, function(x, y) cos(y) / (1 + x^2))\n",
    "contour(x, y, f)\n",
    "contour(x, y, f, nlevels = 45, add = T)\n",
    "fa <- (f - t(f)) / 2\n",
    "contour(x, y, fa, nlevels = 15)"
   ]
  },
  {
   "cell_type": "markdown",
   "id": "5b8572cd",
   "metadata": {},
   "source": [
    "The `image()` function works the same way as `contour()`, except that it produces a color-coded plot whose colors depend on the `z` value. This is\n",
    " known as a *heatmap*, and is sometimes used to plot temperature in weather forecasts. Alternatively, `persp()` can be used to produce a three-dimensional plot.\n",
    " The arguments `theta` and `phi` control the angles at which the plot is viewed."
   ]
  },
  {
   "cell_type": "code",
   "execution_count": null,
   "id": "e64791ea",
   "metadata": {
    "lines_to_next_cell": 2,
    "name": "chunk18"
   },
   "outputs": [],
   "source": [
    "image(x, y, fa)\n",
    "persp(x, y, fa)\n",
    "persp(x, y, fa, theta = 30)\n",
    "persp(x, y, fa, theta = 30, phi = 20)\n",
    "persp(x, y, fa, theta = 30, phi = 70)\n",
    "persp(x, y, fa, theta = 30, phi = 40)"
   ]
  },
  {
   "cell_type": "markdown",
   "id": "4218d7fc",
   "metadata": {},
   "source": [
    "## Indexing Data\n",
    "\n",
    "We often wish to examine part of a set of data. Suppose that our data is stored in the matrix `A`."
   ]
  },
  {
   "cell_type": "code",
   "execution_count": null,
   "id": "f40f95ca",
   "metadata": {
    "name": "chunk19"
   },
   "outputs": [],
   "source": [
    "A <- matrix(1:16, 4, 4)\n",
    "A"
   ]
  },
  {
   "cell_type": "markdown",
   "id": "ac580cb8",
   "metadata": {},
   "source": [
    "Then, typing"
   ]
  },
  {
   "cell_type": "code",
   "execution_count": null,
   "id": "b5d61bcd",
   "metadata": {
    "name": "chunk20"
   },
   "outputs": [],
   "source": [
    "A[2, 3]"
   ]
  },
  {
   "cell_type": "markdown",
   "id": "e4d4251b",
   "metadata": {},
   "source": [
    "will select the element corresponding to the second row and the third column. The first number after the open-bracket symbol `[`\n",
    " always refers to the row, and the second number always refers to the column. We can also select multiple rows and columns at a time, by providing vectors as the indices."
   ]
  },
  {
   "cell_type": "code",
   "execution_count": null,
   "id": "bc7489e9",
   "metadata": {
    "name": "chunk21"
   },
   "outputs": [],
   "source": [
    "A[c(1, 3), c(2, 4)]\n",
    "A[1:3, 2:4]\n",
    "A[1:2, ]\n",
    "A[, 1:2]"
   ]
  },
  {
   "cell_type": "markdown",
   "id": "c4183c62",
   "metadata": {},
   "source": [
    "The last two examples include either no index for the columns or no index for the rows. These  indicate that `R` should include all columns or all rows, respectively. `R` treats a single row or column of a matrix as a vector."
   ]
  },
  {
   "cell_type": "code",
   "execution_count": null,
   "id": "1925eade",
   "metadata": {
    "name": "chunk22"
   },
   "outputs": [],
   "source": [
    "A[1, ]"
   ]
  },
  {
   "cell_type": "markdown",
   "id": "dff55090",
   "metadata": {},
   "source": [
    "The use of a negative sign `-` in the index tells `R` to keep all rows or columns except those indicated in the index."
   ]
  },
  {
   "cell_type": "code",
   "execution_count": null,
   "id": "0fcbda1f",
   "metadata": {
    "name": "chunk23"
   },
   "outputs": [],
   "source": [
    "A[-c(1, 3), ]\n",
    "A[-c(1, 3), -c(1, 3, 4)]"
   ]
  },
  {
   "cell_type": "markdown",
   "id": "d194f660",
   "metadata": {},
   "source": [
    "The `dim()` function outputs the number of rows followed by the number of columns of a given matrix."
   ]
  },
  {
   "cell_type": "code",
   "execution_count": null,
   "id": "4b9be1c9",
   "metadata": {
    "lines_to_next_cell": 2,
    "name": "chunk24"
   },
   "outputs": [],
   "source": [
    "dim(A)"
   ]
  },
  {
   "cell_type": "markdown",
   "id": "e0b19ba0",
   "metadata": {},
   "source": [
    "## Loading Data\n",
    "\n",
    "For most analyses, the first step involves importing a data set into `R`. \n",
    " The `read.table()` function is one of the primary ways to do this. The help file contains details about how to use this function.\n",
    "We can use the function `write.table()` to export data.\n",
    "\n",
    "Before attempting to load a data set, we must make sure that `R`\n",
    "knows to search for the data in the proper directory. For example,  on\n",
    "a Windows system one could select the directory using the\n",
    "`Change dir ...` option under the `File` menu. However, the details of how to do this depend on the operating system (e.g. Windows, Mac, Unix) that is being used, and so we do not give further details here.\n",
    "\n",
    "We begin by loading in the `Auto` data set. This data is part of the `ISLR2` library, discussed in Chapter 3.\n",
    "To illustrate the `read.table()` function, we load it now from a text file, `Auto.data`, which you can find on the textbook website.\n",
    " The following command will load the `Auto.data` file into `R` and store it as an object called `Auto`,  in a format referred to as a *data frame*.  Once the data has been loaded, the `View()` function can be used to view it in a spreadsheet-like window. (This function can sometimes be a bit finicky. If you have trouble using it, then try the `head()` function instead.) The `head()` function can also be used to view the first few rows of the data."
   ]
  },
  {
   "cell_type": "code",
   "execution_count": null,
   "id": "9800cf2a",
   "metadata": {
    "name": "chunk25"
   },
   "outputs": [],
   "source": [
    "Auto <- read.table(\"Auto.data\")\n",
    "View(Auto)\n",
    "head(Auto)"
   ]
  },
  {
   "cell_type": "markdown",
   "id": "2440105c",
   "metadata": {},
   "source": [
    "Note that Auto.data is simply a text file, which you could\n",
    "alternatively open on your computer using a standard text editor. It\n",
    "is often a good idea to view a data set using a text editor or other\n",
    "software such as Excel before loading it into `R`.\n",
    "\n",
    "This particular data  set has not been loaded correctly, because `R` has assumed that the variable names are part of the data and so has included them in the first row. The data set also includes a number of missing observations, indicated by\n",
    "a question mark `?`. Missing values are a common occurrence in real data sets. Using the option `header = T` (or `header = TRUE`) in the `read.table()` function\n",
    "tells `R` that the first line of the file contains the variable names, and using the option `na.strings` tells `R` that any time it sees a particular character or set of characters (such as a question mark), it should\n",
    "be treated as a missing element of the data matrix. "
   ]
  },
  {
   "cell_type": "code",
   "execution_count": null,
   "id": "b7e20066",
   "metadata": {
    "name": "chunk26"
   },
   "outputs": [],
   "source": [
    "Auto <- read.table(\"Auto.data\", header = T, na.strings = \"?\", stringsAsFactors = T)\n",
    "View(Auto)"
   ]
  },
  {
   "cell_type": "markdown",
   "id": "76323f26",
   "metadata": {},
   "source": [
    "The `stringsAsFactors = T` argument tells `R` that any variable containing character strings should be interpreted as a qualitative variable, and that each distinct character string represents a distinct level for that qualitative variable.\n",
    "An easy way to load  data from Excel into `R` is to save it as a csv (comma-separated values) file, and then use the `read.csv()` function."
   ]
  },
  {
   "cell_type": "code",
   "execution_count": null,
   "id": "a7e5b219",
   "metadata": {
    "name": "chunk27"
   },
   "outputs": [],
   "source": [
    "Auto <- read.csv(\"Auto.csv\", na.strings = \"?\", stringsAsFactors = T)\n",
    "View(Auto)\n",
    "dim(Auto)\n",
    "Auto[1:4, ]"
   ]
  },
  {
   "cell_type": "markdown",
   "id": "1d068e28",
   "metadata": {},
   "source": [
    "The `dim()` function tells us that the data has $397$ observations, or rows, and nine variables, or columns. There are various ways to deal with the missing data. In this case,   only five of the rows contain missing observations,\n",
    "and  so we choose to use the `na.omit()` function to simply remove these rows."
   ]
  },
  {
   "cell_type": "code",
   "execution_count": null,
   "id": "b8eb5e15",
   "metadata": {
    "lines_to_next_cell": 2,
    "name": "chunk28"
   },
   "outputs": [],
   "source": [
    "Auto <- na.omit(Auto)\n",
    "dim(Auto)"
   ]
  },
  {
   "cell_type": "markdown",
   "id": "f4fac765",
   "metadata": {},
   "source": [
    "Once the data are loaded correctly, we can use `names()` to check the variable names."
   ]
  },
  {
   "cell_type": "code",
   "execution_count": null,
   "id": "3c334543",
   "metadata": {
    "lines_to_next_cell": 2,
    "name": "chunk29"
   },
   "outputs": [],
   "source": [
    "names(Auto)"
   ]
  },
  {
   "cell_type": "markdown",
   "id": "6619708a",
   "metadata": {},
   "source": [
    "## Additional Graphical and Numerical Summaries\n",
    "\n",
    "We can use the `plot()` function to produce *scatterplots*  of the quantitative variables. However, simply typing the variable names will produce an error message,\n",
    " because `R` does not know to look in the `Auto` data set for those variables."
   ]
  },
  {
   "cell_type": "code",
   "execution_count": null,
   "id": "a343caa7",
   "metadata": {
    "name": "chunk30"
   },
   "outputs": [],
   "source": [
    "plot(cylinders, mpg)"
   ]
  },
  {
   "cell_type": "markdown",
   "id": "8f41bc66",
   "metadata": {},
   "source": [
    "To refer to a variable, we must type the data set and the variable name  joined with a `$` symbol.\n",
    " Alternatively, we can use the `attach()`  function in order to tell `R` to make the variables in this data frame available by name. "
   ]
  },
  {
   "cell_type": "code",
   "execution_count": null,
   "id": "453f9116",
   "metadata": {
    "name": "chunk31"
   },
   "outputs": [],
   "source": [
    "plot(Auto$cylinders, Auto$mpg)\n",
    "attach(Auto)\n",
    "plot(cylinders, mpg)"
   ]
  },
  {
   "cell_type": "markdown",
   "id": "0c69d263",
   "metadata": {},
   "source": [
    "The `cylinders` variable is stored as a numeric vector, so `R` has treated it as quantitative. However, since there are only a small number of possible values for `cylinders`,\n",
    " one may prefer to treat it as a qualitative variable. The `as.factor()` function converts quantitative variables into qualitative variables."
   ]
  },
  {
   "cell_type": "code",
   "execution_count": null,
   "id": "b83caf65",
   "metadata": {
    "name": "chunk32"
   },
   "outputs": [],
   "source": [
    "cylinders <- as.factor(cylinders)"
   ]
  },
  {
   "cell_type": "markdown",
   "id": "dca55640",
   "metadata": {},
   "source": [
    "If the variable plotted on the $x$-axis is qualitative, then  *boxplots* will  automatically be produced\n",
    "by the `plot()` function.  As usual, a number of options can be specified in order to customize the plots."
   ]
  },
  {
   "cell_type": "code",
   "execution_count": null,
   "id": "6e7cc97a",
   "metadata": {
    "name": "chunk33"
   },
   "outputs": [],
   "source": [
    "plot(cylinders, mpg)\n",
    "plot(cylinders, mpg, col = \"red\")\n",
    "plot(cylinders, mpg, col = \"red\", varwidth = T)\n",
    "plot(cylinders, mpg, col = \"red\", varwidth = T,\n",
    "    horizontal = T)\n",
    "plot(cylinders, mpg, col = \"red\", varwidth = T,\n",
    "    xlab = \"cylinders\", ylab = \"MPG\")"
   ]
  },
  {
   "cell_type": "markdown",
   "id": "cdf6df17",
   "metadata": {},
   "source": [
    "The `hist()` function can be used to plot a *histogram*. Note that `col = 2` has the same effect as `col = \"red\"`."
   ]
  },
  {
   "cell_type": "code",
   "execution_count": null,
   "id": "a45ba43a",
   "metadata": {
    "name": "chunk34"
   },
   "outputs": [],
   "source": [
    "hist(mpg)\n",
    "hist(mpg, col = 2)\n",
    "hist(mpg, col = 2, breaks = 15)"
   ]
  },
  {
   "cell_type": "markdown",
   "id": "c5e60a31",
   "metadata": {},
   "source": [
    "The `pairs()` function creates a *scatterplot matrix*, i.e. a scatterplot for every pair of variables. We can also produce scatterplots for just a subset of the variables."
   ]
  },
  {
   "cell_type": "code",
   "execution_count": null,
   "id": "d2a76f1b",
   "metadata": {
    "lines_to_next_cell": 2,
    "name": "chunk35"
   },
   "outputs": [],
   "source": [
    "pairs(Auto)\n",
    "pairs(\n",
    "    ~ mpg + displacement + horsepower + weight + acceleration,\n",
    "    data = Auto\n",
    "  )"
   ]
  },
  {
   "cell_type": "markdown",
   "id": "31f620c6",
   "metadata": {},
   "source": [
    "In conjunction with the `plot()` function,  `identify()` provides a useful interactive method for identifying the value of a particular variable for points on a plot. We pass in three arguments to `identify()`: the $x$-axis variable, the $y$-axis variable, and the variable whose values we would like to see printed for each point. Then clicking one or more  points in the plot and hitting Escape will cause `R` to print the values of the variable of interest. The numbers printed under the `identify()` function correspond to the rows for the selected points."
   ]
  },
  {
   "cell_type": "code",
   "execution_count": null,
   "id": "db38be6b",
   "metadata": {
    "name": "chunk36"
   },
   "outputs": [],
   "source": [
    "plot(horsepower, mpg)\n",
    "identify(horsepower, mpg, name)"
   ]
  },
  {
   "cell_type": "markdown",
   "id": "6bff4c31",
   "metadata": {},
   "source": [
    "The `summary()` function produces a numerical summary of each variable in a particular data set."
   ]
  },
  {
   "cell_type": "code",
   "execution_count": null,
   "id": "83fecb2c",
   "metadata": {
    "name": "chunk37"
   },
   "outputs": [],
   "source": [
    "summary(Auto)"
   ]
  },
  {
   "cell_type": "markdown",
   "id": "9b25045b",
   "metadata": {},
   "source": [
    "For qualitative variables such as `name`,  `R` will list the number of observations that fall in each category. We can also produce a summary of just a single variable."
   ]
  },
  {
   "cell_type": "code",
   "execution_count": null,
   "id": "62720513",
   "metadata": {
    "lines_to_next_cell": 0,
    "name": "chunk38"
   },
   "outputs": [],
   "source": [
    "summary(mpg)"
   ]
  },
  {
   "cell_type": "markdown",
   "id": "9941351d",
   "metadata": {},
   "source": [
    "\n"
   ]
  },
  {
   "cell_type": "markdown",
   "id": "63a1d4da",
   "metadata": {},
   "source": [
    "Once we have finished using `R`, we type `q()` in order to shut it down, or quit.\n",
    "When exiting `R`, we have the option to save the current *workspace* so that all\n",
    "objects (such as data sets)\n",
    "that we have created in this `R` session will be available next time.\n",
    " Before exiting `R`, we may want to save a record of all of the commands that we typed in the most recent session; this can be accomplished using the `savehistory()` function. Next time we enter `R`, we can load that history using\n",
    "the `loadhistory()` function, if we wish. \n",
    "\n"
   ]
  }
 ],
 "metadata": {
  "jupytext": {
   "cell_metadata_filter": "tags,name,-all"
  },
  "kernelspec": {
   "display_name": "R",
   "language": "R",
   "name": "ir"
  }
 },
 "nbformat": 4,
 "nbformat_minor": 5
}
