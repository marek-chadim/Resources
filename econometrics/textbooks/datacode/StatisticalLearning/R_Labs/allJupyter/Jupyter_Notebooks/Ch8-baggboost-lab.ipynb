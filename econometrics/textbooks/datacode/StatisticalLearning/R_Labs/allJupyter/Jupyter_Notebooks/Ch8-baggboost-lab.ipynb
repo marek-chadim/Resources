{
 "cells": [
  {
   "cell_type": "code",
   "execution_count": null,
   "id": "a7479913",
   "metadata": {
    "lines_to_next_cell": 0,
    "name": "setup",
    "tags": [
     "remove_input"
    ]
   },
   "outputs": [],
   "source": [
    "knitr::opts_chunk$set(error = TRUE)"
   ]
  },
  {
   "cell_type": "markdown",
   "id": "7ed37383",
   "metadata": {},
   "source": [
    "# Decision Trees\n",
    "## Fitting Classification Trees"
   ]
  },
  {
   "cell_type": "markdown",
   "id": "401f9d5f",
   "metadata": {},
   "source": [
    "The `tree` library is used to construct classification and regression trees."
   ]
  },
  {
   "cell_type": "code",
   "execution_count": null,
   "id": "7a035ea5",
   "metadata": {
    "name": "chunk1"
   },
   "outputs": [],
   "source": [
    "library(tree)"
   ]
  },
  {
   "cell_type": "markdown",
   "id": "0a67bc72",
   "metadata": {},
   "source": [
    "We first use classification trees  to analyze the `Carseats` data set.\n",
    "In these data, `Sales` is a continuous variable, and so we begin by recoding it  as a binary variable. We use the `ifelse()` function to create a variable, called `High`, which takes on a value of `Yes` if the `Sales` variable exceeds $8$,\n",
    "and takes on a value of `No` otherwise."
   ]
  },
  {
   "cell_type": "code",
   "execution_count": null,
   "id": "9b9295a0",
   "metadata": {
    "name": "chunk2"
   },
   "outputs": [],
   "source": [
    "library(ISLR2)\n",
    "attach(Carseats)\n",
    "High <- factor(ifelse(Sales <= 8, \"No\", \"Yes\"))"
   ]
  },
  {
   "cell_type": "markdown",
   "id": "f9f4dbc7",
   "metadata": {},
   "source": [
    "Finally, we use the `data.frame()` function to merge `High` with the rest of the `Carseats` data."
   ]
  },
  {
   "cell_type": "code",
   "execution_count": null,
   "id": "107b9cfb",
   "metadata": {
    "name": "chunk3"
   },
   "outputs": [],
   "source": [
    "Carseats <- data.frame(Carseats, High)"
   ]
  },
  {
   "cell_type": "markdown",
   "id": "115ed59b",
   "metadata": {},
   "source": [
    "We now  use the `tree()` function to fit a classification tree in order to predict `High` using all variables but `Sales`.\n",
    "The syntax of the `tree()` function is quite similar to that of the `lm()` function."
   ]
  },
  {
   "cell_type": "code",
   "execution_count": null,
   "id": "c08f524c",
   "metadata": {
    "name": "chunk4"
   },
   "outputs": [],
   "source": [
    "tree.carseats <- tree(High ~ . - Sales, Carseats)"
   ]
  },
  {
   "cell_type": "markdown",
   "id": "9337d6e0",
   "metadata": {},
   "source": [
    "The `summary()` function lists the variables that are used as internal nodes in the tree, the number of terminal nodes, and the (training) error rate."
   ]
  },
  {
   "cell_type": "code",
   "execution_count": null,
   "id": "9edccc76",
   "metadata": {
    "name": "chunk5"
   },
   "outputs": [],
   "source": [
    "summary(tree.carseats)"
   ]
  },
  {
   "cell_type": "markdown",
   "id": "b1837e4d",
   "metadata": {},
   "source": [
    "We see that the training error rate is  $9\\%$.\n",
    "For classification trees, the deviance reported in the output of `summary()` is\n",
    "given by\n",
    "\\[\n",
    "-2 \\sum_m \\sum_k n_{mk} \\log \\hat{p}_{mk},\n",
    "\\]\n",
    " where $n_{mk}$ is the number of observations in the $m$th terminal node that belong to the $k$th class. This is closely related to the entropy, defined in (8.7).\n",
    "A small deviance indicates a tree that provides a good fit to the (training) data.\n",
    "The *residual mean deviance* reported is simply the deviance divided by $n-|{T}_0|$, which in this case is $400-27=373$.\n",
    "\n",
    "One of the most attractive properties of trees is that they can be  graphically displayed. We use the `plot()` function to display the tree structure, and the `text()` function to display the node labels. The argument `pretty = 0` instructs `R` to include the category names for any qualitative predictors, rather than simply displaying a letter for each category."
   ]
  },
  {
   "cell_type": "code",
   "execution_count": null,
   "id": "d2fadb67",
   "metadata": {
    "name": "chunk6"
   },
   "outputs": [],
   "source": [
    "plot(tree.carseats)\n",
    "text(tree.carseats, pretty = 0)"
   ]
  },
  {
   "cell_type": "markdown",
   "id": "5cd78c94",
   "metadata": {},
   "source": [
    "The most important indicator of `Sales` appears to be shelving location, since the first branch differentiates `Good` locations from `Bad` and `Medium` locations.\n",
    "\n",
    "If we just type the name of the tree object,  `R` prints output corresponding to each branch of the tree. `R` displays the split criterion  (e.g. `Price < 92.5`), the number of observations in  that branch, the deviance,  the overall prediction for the branch (`Yes` or `No`),  and the fraction of observations in that branch that take on values of `Yes` and `No`. Branches that lead to terminal nodes are indicated using asterisks."
   ]
  },
  {
   "cell_type": "code",
   "execution_count": null,
   "id": "d8bd7b50",
   "metadata": {
    "lines_to_next_cell": 2,
    "name": "chunk7"
   },
   "outputs": [],
   "source": [
    "tree.carseats"
   ]
  },
  {
   "cell_type": "markdown",
   "id": "c9c3059f",
   "metadata": {},
   "source": [
    "In order to properly evaluate the performance of a classification tree\n",
    "on these data, we must estimate the test error rather than simply\n",
    "computing the training error. We split the observations into a\n",
    "training set and a test set, build the tree using the training set,\n",
    "and evaluate its performance on the test data. The `predict()`\n",
    "function can be used for this purpose. In the case of a classification\n",
    "tree, the argument `type = \"class\"` instructs `R` to return the\n",
    "actual class prediction. This approach leads to correct predictions\n",
    "for around $77 \\%$ of the locations in the test data set."
   ]
  },
  {
   "cell_type": "code",
   "execution_count": null,
   "id": "1ac04a44",
   "metadata": {
    "name": "chunk8"
   },
   "outputs": [],
   "source": [
    "set.seed(2)\n",
    "train <- sample(1:nrow(Carseats), 200)\n",
    "Carseats.test <- Carseats[-train, ]\n",
    "High.test <- High[-train]\n",
    "tree.carseats <- tree(High ~ . - Sales, Carseats,\n",
    "    subset = train)\n",
    "tree.pred <- predict(tree.carseats, Carseats.test,\n",
    "    type = \"class\")\n",
    "table(tree.pred, High.test)\n",
    "(104 + 50) / 200"
   ]
  },
  {
   "cell_type": "markdown",
   "id": "60a2bd6c",
   "metadata": {},
   "source": [
    "(If you re-run the `predict()` function then you might get slightly different results, due to \"ties\": for instance, this can happen when the training observations corresponding to a terminal node are evenly split between `Yes` and `No` response values.)\n",
    "\n",
    "Next, we consider whether pruning the tree might lead to improved  results.\n",
    "The function `cv.tree()` performs cross-validation in order to  determine the optimal level of tree complexity; cost complexity pruning is used in order to select a sequence of trees for consideration.\n",
    "We use the argument `FUN = prune.misclass` in order to indicate that we want the classification error rate to guide the cross-validation and pruning process, rather than the default for the `cv.tree()` function, which is deviance. The `cv.tree()` function reports the number of terminal nodes of each tree considered (`size`) as well as the corresponding error rate and the value of the cost-complexity parameter used (`k`, which corresponds to $\\alpha$ in (8.4))."
   ]
  },
  {
   "cell_type": "code",
   "execution_count": null,
   "id": "ae34f010",
   "metadata": {
    "name": "chunk9"
   },
   "outputs": [],
   "source": [
    "set.seed(7)\n",
    "cv.carseats <- cv.tree(tree.carseats, FUN = prune.misclass)\n",
    "names(cv.carseats)\n",
    "cv.carseats"
   ]
  },
  {
   "cell_type": "markdown",
   "id": "ace7cf54",
   "metadata": {},
   "source": [
    "Despite its name, `dev` corresponds to the number of\n",
    "cross-validation errors. The tree with 9 terminal nodes results in only 74 cross-validation errors.  We plot\n",
    "the  error rate as a function of both `size` and\n",
    "`k`."
   ]
  },
  {
   "cell_type": "code",
   "execution_count": null,
   "id": "94a805e0",
   "metadata": {
    "name": "chunk10"
   },
   "outputs": [],
   "source": [
    "par(mfrow = c(1, 2))\n",
    "plot(cv.carseats$size, cv.carseats$dev, type = \"b\")\n",
    "plot(cv.carseats$k, cv.carseats$dev, type = \"b\")"
   ]
  },
  {
   "cell_type": "markdown",
   "id": "4412782f",
   "metadata": {},
   "source": [
    "We now apply the  `prune.misclass()`  function in order to prune the tree to obtain the nine-node tree."
   ]
  },
  {
   "cell_type": "code",
   "execution_count": null,
   "id": "b41ac62a",
   "metadata": {
    "lines_to_next_cell": 2,
    "name": "chunk11"
   },
   "outputs": [],
   "source": [
    "prune.carseats <- prune.misclass(tree.carseats, best = 9)\n",
    "plot(prune.carseats)\n",
    "text(prune.carseats, pretty = 0)"
   ]
  },
  {
   "cell_type": "markdown",
   "id": "7f2737cd",
   "metadata": {},
   "source": [
    "How well does this pruned tree perform on the test data set? Once again, we apply the `predict()` function."
   ]
  },
  {
   "cell_type": "code",
   "execution_count": null,
   "id": "850042c1",
   "metadata": {
    "name": "chunk12"
   },
   "outputs": [],
   "source": [
    "tree.pred <- predict(prune.carseats, Carseats.test,\n",
    "    type = \"class\")\n",
    "table(tree.pred, High.test)\n",
    "(97 + 58) / 200"
   ]
  },
  {
   "cell_type": "markdown",
   "id": "ec15aca1",
   "metadata": {},
   "source": [
    "Now $77.5 \\%$ of the test observations are correctly classified, so not only has the pruning process produced a more interpretable tree, but it has also slightly improved the classification accuracy.\n",
    "\n",
    "If we increase the value of `best`, we obtain a larger pruned tree with lower classification accuracy:"
   ]
  },
  {
   "cell_type": "code",
   "execution_count": null,
   "id": "f3667ffa",
   "metadata": {
    "lines_to_next_cell": 0,
    "name": "chunk13"
   },
   "outputs": [],
   "source": [
    "prune.carseats <- prune.misclass(tree.carseats, best = 14)\n",
    "plot(prune.carseats)\n",
    "text(prune.carseats, pretty = 0)\n",
    "tree.pred <- predict(prune.carseats, Carseats.test,\n",
    "    type = \"class\")\n",
    "table(tree.pred, High.test)\n",
    "(102 + 52) / 200"
   ]
  },
  {
   "cell_type": "markdown",
   "id": "aeda85f9",
   "metadata": {},
   "source": [
    "\n",
    "\n",
    "\n"
   ]
  },
  {
   "cell_type": "markdown",
   "id": "880177f3",
   "metadata": {},
   "source": [
    "## Fitting Regression Trees\n",
    "\n",
    "Here we fit a regression tree to the `Boston`  data set. First, we create a training set, and fit the tree to the training data."
   ]
  },
  {
   "cell_type": "code",
   "execution_count": null,
   "id": "5e26e48e",
   "metadata": {
    "name": "chunk14"
   },
   "outputs": [],
   "source": [
    "set.seed(1)\n",
    "train <- sample(1:nrow(Boston), nrow(Boston) / 2)\n",
    "tree.boston <- tree(medv ~ ., Boston, subset = train)\n",
    "summary(tree.boston)"
   ]
  },
  {
   "cell_type": "markdown",
   "id": "42e299fc",
   "metadata": {},
   "source": [
    "Notice that the output of `summary()` indicates that only four of the variables have been used in constructing the tree. In the context of a regression tree, the deviance is simply the sum of squared errors for the tree. We now plot the tree."
   ]
  },
  {
   "cell_type": "code",
   "execution_count": null,
   "id": "5d9600b5",
   "metadata": {
    "name": "chunk15"
   },
   "outputs": [],
   "source": [
    "plot(tree.boston)\n",
    "text(tree.boston, pretty = 0)"
   ]
  },
  {
   "cell_type": "markdown",
   "id": "57854453",
   "metadata": {},
   "source": [
    "The variable `lstat` measures the percentage of individuals with {lower  socioeconomic status}, while the variable `rm` corresponds to the average number of rooms. The tree indicates that larger values of `rm`, or lower values of `lstat`, correspond to more expensive houses. For example, the tree predicts a median house price of $$45{,}400$ for homes in census tracts in which `rm >= 7.553`."
   ]
  },
  {
   "cell_type": "markdown",
   "id": "16ca895a",
   "metadata": {},
   "source": [
    "It is worth noting that we could have fit a much bigger tree, by\n",
    "passing `control = tree.control(nobs = length(train), mindev = 0)` into the `tree()` function.\n",
    "\n",
    "Now we use the `cv.tree()` function to see whether pruning the tree will improve performance."
   ]
  },
  {
   "cell_type": "code",
   "execution_count": null,
   "id": "49f782ea",
   "metadata": {
    "name": "chunk16"
   },
   "outputs": [],
   "source": [
    "cv.boston <- cv.tree(tree.boston)\n",
    "plot(cv.boston$size, cv.boston$dev, type = \"b\")"
   ]
  },
  {
   "cell_type": "markdown",
   "id": "0dd76ee6",
   "metadata": {},
   "source": [
    "In this case, the most complex tree  under consideration is selected by cross-validation. However, if we wish to prune the tree, we could do so as follows, using the `prune.tree()` function:"
   ]
  },
  {
   "cell_type": "code",
   "execution_count": null,
   "id": "6b424e32",
   "metadata": {
    "name": "chunk17"
   },
   "outputs": [],
   "source": [
    "prune.boston <- prune.tree(tree.boston, best = 5)\n",
    "plot(prune.boston)\n",
    "text(prune.boston, pretty = 0)"
   ]
  },
  {
   "cell_type": "markdown",
   "id": "511393f8",
   "metadata": {},
   "source": [
    "In keeping with the cross-validation results, we use the unpruned tree to make predictions on the test set."
   ]
  },
  {
   "cell_type": "code",
   "execution_count": null,
   "id": "749d76db",
   "metadata": {
    "name": "chunk18"
   },
   "outputs": [],
   "source": [
    "yhat <- predict(tree.boston, newdata = Boston[-train, ])\n",
    "boston.test <- Boston[-train, \"medv\"]\n",
    "plot(yhat, boston.test)\n",
    "abline(0, 1)\n",
    "mean((yhat - boston.test)^2)"
   ]
  },
  {
   "cell_type": "markdown",
   "id": "454d2c60",
   "metadata": {},
   "source": [
    "In other words, the  test set MSE associated with the regression tree is $35.29$.\n",
    "The square root of the MSE is therefore around $5.941$, indicating that this model leads to test predictions that are (on average) within approximately $$5{,}941$ of the true median home value for the census tract.\n"
   ]
  },
  {
   "cell_type": "markdown",
   "id": "de3c02e7",
   "metadata": {},
   "source": [
    "## Bagging and Random Forests\n",
    "\n"
   ]
  },
  {
   "cell_type": "markdown",
   "id": "3d24b2d2",
   "metadata": {},
   "source": [
    "Here we apply bagging and random forests to the `Boston` data, using the `randomForest` package in `R`. The exact results obtained in this section may depend on the version of `R` and the version of the `randomForest` package installed on your computer.\n",
    "Recall that bagging is simply a special case of a random forest with\n",
    "$m=p$. Therefore, the\n",
    "`randomForest()` function can be used to perform both random forests and bagging.\n",
    "We perform bagging as follows:"
   ]
  },
  {
   "cell_type": "code",
   "execution_count": null,
   "id": "f0988ee1",
   "metadata": {
    "name": "chunk19"
   },
   "outputs": [],
   "source": [
    "library(randomForest)\n",
    "set.seed(1)\n",
    "bag.boston <- randomForest(medv ~ ., data = Boston,\n",
    "    subset = train, mtry = 12, importance = TRUE)\n",
    "bag.boston"
   ]
  },
  {
   "cell_type": "markdown",
   "id": "af329b4a",
   "metadata": {},
   "source": [
    "The argument `mtry = 12` indicates that all $12$ predictors should be considered for each split of the tree---in other words, that bagging should be done.\n",
    "How well does this bagged model perform on the test set?"
   ]
  },
  {
   "cell_type": "code",
   "execution_count": null,
   "id": "8b0cf541",
   "metadata": {
    "name": "chunk20"
   },
   "outputs": [],
   "source": [
    "yhat.bag <- predict(bag.boston, newdata = Boston[-train, ])\n",
    "plot(yhat.bag, boston.test)\n",
    "abline(0, 1)\n",
    "mean((yhat.bag - boston.test)^2)"
   ]
  },
  {
   "cell_type": "markdown",
   "id": "fe908d76",
   "metadata": {},
   "source": [
    "The test set MSE associated with the bagged regression tree is $23.42$, about two-thirds of that obtained using an optimally-pruned single tree.\n",
    "We could change the number of trees grown by `randomForest()` using the `ntree` argument:"
   ]
  },
  {
   "cell_type": "code",
   "execution_count": null,
   "id": "e8ba34cf",
   "metadata": {
    "lines_to_next_cell": 2,
    "name": "chunk21"
   },
   "outputs": [],
   "source": [
    "bag.boston <- randomForest(medv ~ ., data = Boston,\n",
    "    subset = train, mtry = 12, ntree = 25)\n",
    "yhat.bag <- predict(bag.boston, newdata = Boston[-train, ])\n",
    "mean((yhat.bag - boston.test)^2)"
   ]
  },
  {
   "cell_type": "markdown",
   "id": "d49b3629",
   "metadata": {},
   "source": [
    "Growing a random forest proceeds in exactly the same way, except that we use a smaller value of the `mtry` argument. By default, `randomForest()` uses $p/3$ variables when building a random forest of regression trees, and $\\sqrt{p}$ variables when building a random forest of classification trees. Here we use `mtry = 6`."
   ]
  },
  {
   "cell_type": "code",
   "execution_count": null,
   "id": "f3812de5",
   "metadata": {
    "name": "chunk22"
   },
   "outputs": [],
   "source": [
    "set.seed(1)\n",
    "rf.boston <- randomForest(medv ~ ., data = Boston,\n",
    "    subset = train, mtry = 6, importance = TRUE)\n",
    "yhat.rf <- predict(rf.boston, newdata = Boston[-train, ])\n",
    "mean((yhat.rf - boston.test)^2)"
   ]
  },
  {
   "cell_type": "markdown",
   "id": "c50a3d8a",
   "metadata": {},
   "source": [
    "The test set MSE is $20.07$; this indicates that random forests yielded an improvement over bagging in this case.\n",
    "\n",
    "Using the `importance()` function, we can view the importance of each variable."
   ]
  },
  {
   "cell_type": "code",
   "execution_count": null,
   "id": "5eea4c83",
   "metadata": {
    "name": "chunk23"
   },
   "outputs": [],
   "source": [
    "importance(rf.boston)"
   ]
  },
  {
   "cell_type": "markdown",
   "id": "de40401b",
   "metadata": {},
   "source": [
    "Two measures of variable importance are reported. The first is based upon the mean decrease of accuracy in predictions on the out of bag samples when a given variable is permuted. The second is a measure of the total decrease in node impurity that results from splits over that variable, averaged over all trees (this was plotted in Figure 8.9). In the case of regression trees, the node impurity is measured by the training RSS, and for classification trees by the deviance. Plots of these importance measures can be produced using the `varImpPlot()` function."
   ]
  },
  {
   "cell_type": "code",
   "execution_count": null,
   "id": "ff36ffd5",
   "metadata": {
    "name": "chunk24"
   },
   "outputs": [],
   "source": [
    "varImpPlot(rf.boston)"
   ]
  },
  {
   "cell_type": "markdown",
   "id": "8676e4c3",
   "metadata": {},
   "source": [
    "The results indicate that across all of the trees considered in the random forest, the wealth of the community (`lstat`) and the house size (`rm`) are by far the two most important variables.\n",
    "\n"
   ]
  },
  {
   "cell_type": "markdown",
   "id": "5fb6a650",
   "metadata": {},
   "source": [
    "## Boosting"
   ]
  },
  {
   "cell_type": "markdown",
   "id": "c25b98ca",
   "metadata": {},
   "source": [
    "Here we use the `gbm` package, and within it the `gbm()` function, to fit boosted regression trees to the `Boston` data set. We run `gbm()` with the option `distribution = \"gaussian\"` since this is a regression problem; if it were a binary classification problem, we would use `distribution = \"bernoulli\"`.\n",
    "The argument `n.trees = 5000` indicates that we want $5000$ trees, and the option `interaction.depth = 4` limits the depth of each tree."
   ]
  },
  {
   "cell_type": "code",
   "execution_count": null,
   "id": "10bf0a53",
   "metadata": {
    "name": "chunk25"
   },
   "outputs": [],
   "source": [
    "library(gbm)\n",
    "set.seed(1)\n",
    "boost.boston <- gbm(medv ~ ., data = Boston[train, ],\n",
    "    distribution = \"gaussian\", n.trees = 5000,\n",
    "    interaction.depth = 4)"
   ]
  },
  {
   "cell_type": "markdown",
   "id": "3b778fdb",
   "metadata": {},
   "source": [
    "The `summary()` function produces a relative influence plot and also outputs the relative influence statistics."
   ]
  },
  {
   "cell_type": "code",
   "execution_count": null,
   "id": "b105e768",
   "metadata": {
    "name": "chunk26"
   },
   "outputs": [],
   "source": [
    "summary(boost.boston)"
   ]
  },
  {
   "cell_type": "markdown",
   "id": "c701a16c",
   "metadata": {},
   "source": [
    "We see that `lstat` and `rm` are by far the most important variables. We can also produce *partial dependence plots* for these two variables. These plots illustrate the marginal effect of the selected variables on the response after *integrating* out the other variables. In this case, as we might expect, median house prices are increasing with `rm` and decreasing with `lstat`."
   ]
  },
  {
   "cell_type": "code",
   "execution_count": null,
   "id": "9d6aa9e3",
   "metadata": {
    "lines_to_next_cell": 2,
    "name": "chunk27"
   },
   "outputs": [],
   "source": [
    "plot(boost.boston, i = \"rm\")\n",
    "plot(boost.boston, i = \"lstat\")"
   ]
  },
  {
   "cell_type": "markdown",
   "id": "fd873c70",
   "metadata": {},
   "source": [
    "We now use the boosted model to predict `medv` on the test set:"
   ]
  },
  {
   "cell_type": "code",
   "execution_count": null,
   "id": "3b66dc97",
   "metadata": {
    "name": "chunk28"
   },
   "outputs": [],
   "source": [
    "yhat.boost <- predict(boost.boston,\n",
    "    newdata = Boston[-train, ], n.trees = 5000)\n",
    "mean((yhat.boost - boston.test)^2)"
   ]
  },
  {
   "cell_type": "markdown",
   "id": "c1b2c4d4",
   "metadata": {},
   "source": [
    "The test MSE obtained is $18.39$: this is superior to the test MSE of random forests and bagging. If we want to, we can perform boosting with a different value of the shrinkage parameter $\\lambda$ in (8.10). The default value is $0.001$, but this is easily modified.\n",
    "Here we take $\\lambda=0.2$."
   ]
  },
  {
   "cell_type": "code",
   "execution_count": null,
   "id": "6c2bd161",
   "metadata": {
    "name": "chunk29"
   },
   "outputs": [],
   "source": [
    "boost.boston <- gbm(medv ~ ., data = Boston[train, ],\n",
    "    distribution = \"gaussian\", n.trees = 5000,\n",
    "    interaction.depth = 4, shrinkage = 0.2, verbose = F)\n",
    "yhat.boost <- predict(boost.boston,\n",
    "    newdata = Boston[-train, ], n.trees = 5000)\n",
    "mean((yhat.boost - boston.test)^2)"
   ]
  },
  {
   "cell_type": "markdown",
   "id": "1fa876a0",
   "metadata": {},
   "source": [
    "In this case, using $\\lambda=0.2$ leads to a lower test MSE than $\\lambda=0.001$.\n",
    "\n",
    "\n"
   ]
  },
  {
   "cell_type": "markdown",
   "id": "57e27edc",
   "metadata": {},
   "source": [
    "## Bayesian Additive Regression Trees\n"
   ]
  },
  {
   "cell_type": "markdown",
   "id": "376acf38",
   "metadata": {},
   "source": [
    "In this section  we use the `BART` package, and within it the `gbart()` function, to fit a Bayesian additive regression tree model to the `Boston` housing data set. The `gbart()` function  is\n",
    "designed for quantitative outcome variables. For binary outcomes,   `lbart()`  and  `pbart()`  are available.\n",
    "\n",
    "To run the `gbart()` function, we must first create matrices of predictors for the training and test data. We run BART with default settings."
   ]
  },
  {
   "cell_type": "code",
   "execution_count": null,
   "id": "7de2c089",
   "metadata": {
    "name": "chunk30"
   },
   "outputs": [],
   "source": [
    "library(BART)\n",
    "x <- Boston[, 1:12]\n",
    "y <- Boston[, \"medv\"]\n",
    "xtrain <- x[train, ]\n",
    "ytrain <- y[train]\n",
    "xtest <- x[-train, ]\n",
    "ytest <- y[-train]\n",
    "set.seed(1)\n",
    "bartfit <- gbart(xtrain, ytrain, x.test = xtest)"
   ]
  },
  {
   "cell_type": "markdown",
   "id": "c503136b",
   "metadata": {},
   "source": [
    "Next we compute the test error."
   ]
  },
  {
   "cell_type": "code",
   "execution_count": null,
   "id": "c7e7eb99",
   "metadata": {
    "lines_to_next_cell": 2,
    "name": "chunk31"
   },
   "outputs": [],
   "source": [
    "yhat.bart <- bartfit$yhat.test.mean\n",
    "mean((ytest - yhat.bart)^2)"
   ]
  },
  {
   "cell_type": "markdown",
   "id": "ae7f72f5",
   "metadata": {},
   "source": [
    "On this data set, the test error of BART is lower than the test error of random forests and boosting.\n",
    "\n",
    "Now we can check how many times each variable appeared in the collection of trees."
   ]
  },
  {
   "cell_type": "code",
   "execution_count": null,
   "id": "0b3133e5",
   "metadata": {
    "lines_to_next_cell": 0,
    "name": "chunk32"
   },
   "outputs": [],
   "source": [
    "ord <- order(bartfit$varcount.mean, decreasing = T)\n",
    "bartfit$varcount.mean[ord]"
   ]
  },
  {
   "cell_type": "markdown",
   "id": "ee05b79b",
   "metadata": {},
   "source": [
    "\n",
    "\n",
    "\n",
    "\n",
    "\n",
    "\n",
    "\n",
    "\n",
    "\n",
    "\n"
   ]
  }
 ],
 "metadata": {
  "jupytext": {
   "cell_metadata_filter": "tags,name,-all"
  },
  "kernelspec": {
   "display_name": "R",
   "language": "R",
   "name": "ir"
  }
 },
 "nbformat": 4,
 "nbformat_minor": 5
}
