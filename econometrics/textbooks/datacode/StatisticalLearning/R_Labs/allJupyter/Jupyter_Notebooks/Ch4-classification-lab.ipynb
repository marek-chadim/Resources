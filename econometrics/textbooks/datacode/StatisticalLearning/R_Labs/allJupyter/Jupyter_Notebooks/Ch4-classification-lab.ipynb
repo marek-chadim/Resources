{
 "cells": [
  {
   "cell_type": "code",
   "execution_count": null,
   "id": "7b2e3947",
   "metadata": {
    "name": "setup",
    "tags": [
     "remove_input"
    ]
   },
   "outputs": [],
   "source": [
    "knitr::opts_chunk$set(error = TRUE)"
   ]
  },
  {
   "cell_type": "markdown",
   "id": "ea5f21ae",
   "metadata": {},
   "source": [
    "# Classification Methods\n"
   ]
  },
  {
   "cell_type": "markdown",
   "id": "9b3dc338",
   "metadata": {},
   "source": [
    "## The Stock Market Data\n",
    "\n",
    "We will begin by examining some numerical and graphical summaries of\n",
    "the `Smarket` data, which is part of the `ISLR2` library. This\n",
    "data set consists of percentage returns for the S\\&P 500 stock index\n",
    "over $1,250$ days, from the beginning of 2001 until the end of\n",
    "2005. For each date, we have recorded the percentage returns for each\n",
    "of the five previous trading days, `lagone` through `lagfive`. We\n",
    "have also recorded `volume` (the number of shares traded on the previous day, in billions), `Today` (the percentage return on the date in question)  and `direction` (whether the market was `Up` or `Down` on this date). Our goal is to predict `direction` (a qualitative response) using the other features."
   ]
  },
  {
   "cell_type": "code",
   "execution_count": null,
   "id": "7528b9f9",
   "metadata": {
    "name": "chunk1"
   },
   "outputs": [],
   "source": [
    "library(ISLR2)\n",
    "names(Smarket)\n",
    "dim(Smarket)\n",
    "summary(Smarket)\n",
    "pairs(Smarket)"
   ]
  },
  {
   "cell_type": "markdown",
   "id": "bf8d0b10",
   "metadata": {},
   "source": [
    "The `cor()` function produces a matrix that contains all of the pairwise correlations among the predictors in a data set. The first command below gives an error message because the `direction` variable is qualitative."
   ]
  },
  {
   "cell_type": "code",
   "execution_count": null,
   "id": "537c426e",
   "metadata": {
    "name": "chunk2"
   },
   "outputs": [],
   "source": [
    "cor(Smarket)\n",
    "cor(Smarket[, -9])"
   ]
  },
  {
   "cell_type": "markdown",
   "id": "3e42fe8b",
   "metadata": {},
   "source": [
    "As one would expect, the correlations between the lag variables and today's returns are close to zero. In other words, there appears to be little correlation between today's returns and previous days' returns. The only substantial correlation is between `Year` and `volume`. By plotting the data, which is ordered chronologically, we see that `volume` is increasing over time. In other words, the average number of shares traded daily increased from 2001 to 2005."
   ]
  },
  {
   "cell_type": "code",
   "execution_count": null,
   "id": "2d3cd721",
   "metadata": {
    "lines_to_next_cell": 2,
    "name": "chunk3"
   },
   "outputs": [],
   "source": [
    "attach(Smarket)\n",
    "plot(Volume)"
   ]
  },
  {
   "cell_type": "markdown",
   "id": "2b77b07a",
   "metadata": {},
   "source": [
    "## Logistic Regression\n",
    "\n",
    "Next, we will fit a logistic regression model in order to predict `direction` using `lagone` through `lagfive` and `volume`. The `glm()` function  can be used to fit many types of generalized linear models, including logistic regression.\n",
    " The syntax of the `glm()` function is similar to that of  `lm()`,  except that we must pass in the argument `family = binomial` in order to tell `R` to run a logistic regression rather than some other type of generalized linear model.\n"
   ]
  },
  {
   "cell_type": "code",
   "execution_count": null,
   "id": "e73edec7",
   "metadata": {
    "name": "chunk4"
   },
   "outputs": [],
   "source": [
    "glm.fits <- glm(\n",
    "    Direction ~ Lag1 + Lag2 + Lag3 + Lag4 + Lag5 + Volume,\n",
    "    data = Smarket, family = binomial\n",
    "  )\n",
    "summary(glm.fits)"
   ]
  },
  {
   "cell_type": "markdown",
   "id": "59ee574e",
   "metadata": {},
   "source": [
    "The smallest $p$-value here is associated with `lagone`. The negative coefficient for this predictor suggests that if the market had a positive return yesterday, then it is less likely to go up today. However, at a value of $0.15$, the $p$-value is still relatively large, and so there is no clear evidence of a real association between `lagone` and `direction`. \n",
    "\n",
    " We use the `coef()` function in order to access just the coefficients for this fitted model. We can also use the `summary()` function to access  particular aspects of the fitted model, such as the $p$-values for the coefficients."
   ]
  },
  {
   "cell_type": "code",
   "execution_count": null,
   "id": "49907e28",
   "metadata": {
    "lines_to_next_cell": 0,
    "name": "chunk5"
   },
   "outputs": [],
   "source": [
    "coef(glm.fits)\n",
    "summary(glm.fits)$coef\n",
    "summary(glm.fits)$coef[, 4]"
   ]
  },
  {
   "cell_type": "markdown",
   "id": "dd8f7f6b",
   "metadata": {},
   "source": []
  },
  {
   "cell_type": "markdown",
   "id": "a7390614",
   "metadata": {},
   "source": [
    "The `predict()` function can be used to predict the probability that the market will go up, given values of the predictors. The `type = \"response\"` option tells `R` to output probabilities of the form $P(Y=1|X)$, as opposed to other information such as the logit. If no data set is supplied to the `predict()` function,\n",
    "then  the probabilities are computed for the training data that was used to fit the logistic regression model. Here we have printed only the first ten probabilities. We know that these values correspond to the probability of the market going up, rather than down, because the `contrasts()` function indicates that `R` has created a dummy variable with a 1 for `Up`."
   ]
  },
  {
   "cell_type": "code",
   "execution_count": null,
   "id": "16f3fd48",
   "metadata": {
    "name": "chunk6"
   },
   "outputs": [],
   "source": [
    "glm.probs <- predict(glm.fits, type = \"response\")\n",
    "glm.probs[1:10]\n",
    "contrasts(Direction)"
   ]
  },
  {
   "cell_type": "markdown",
   "id": "285d75d8",
   "metadata": {},
   "source": [
    "In order to make a prediction as to whether the market will go up or down on a particular day, we must convert these predicted probabilities into class labels, `Up` or `Down`.\n",
    "The following two commands create a vector of class predictions based on whether the predicted probability of a market increase is greater than or less than $0.5$."
   ]
  },
  {
   "cell_type": "code",
   "execution_count": null,
   "id": "069ffe01",
   "metadata": {
    "name": "chunk7"
   },
   "outputs": [],
   "source": [
    "glm.pred <- rep(\"Down\", 1250)\n",
    "glm.pred[glm.probs > .5] = \"Up\""
   ]
  },
  {
   "cell_type": "markdown",
   "id": "04122ea0",
   "metadata": {},
   "source": [
    "The first command creates a vector of 1,250  `Down` elements. The second line transforms to `Up` all of the elements for which the predicted probability of a market increase exceeds $0.5$. Given these predictions, the `table()` function can be used to produce a confusion matrix  in order to determine how many observations were correctly or incorrectly classified."
   ]
  },
  {
   "cell_type": "code",
   "execution_count": null,
   "id": "000e7a48",
   "metadata": {
    "name": "chunk8"
   },
   "outputs": [],
   "source": [
    "table(glm.pred, Direction)\n",
    "(507 + 145) / 1250\n",
    "mean(glm.pred == Direction)"
   ]
  },
  {
   "cell_type": "markdown",
   "id": "2e6dd730",
   "metadata": {},
   "source": [
    "The diagonal elements of the confusion matrix indicate correct predictions, while the off-diagonals represent incorrect predictions. Hence our model correctly predicted that the market would go up on $507$ days and that it would go down on $145$ days, for a total of $507+145 = 652$ correct predictions. The `mean()` function can be used to compute the fraction of days for which the prediction was correct. In this case, logistic regression correctly predicted the movement of the market  $52.2$ \\% of the time.\n",
    "\n",
    "At first glance, it appears that the logistic regression model is working a little better than random guessing. However, this result is misleading because we trained and tested the  model on the same set of $1,250$ observations. In other words,\n",
    " $100\\%-52.2\\%=47.8\\%$, is the *training* error  rate. As we have seen previously, the training error rate is often overly optimistic---it tends to underestimate the  test error rate.  In order to better assess the accuracy of the logistic regression model in this setting, we can fit the model using part of the data, and then examine how well it predicts the *held out* data.\n",
    "This will yield a more realistic error rate, in the sense that in practice we will be interested in our model's performance not on the data that we used to fit the model, but rather on days in the future for which the market's movements are unknown.\n",
    "\n",
    "To implement this strategy, we will first create a vector corresponding to the observations from 2001 through 2004. We will then use this vector to create a held out data set of observations from 2005."
   ]
  },
  {
   "cell_type": "code",
   "execution_count": null,
   "id": "c623540c",
   "metadata": {
    "name": "chunk9"
   },
   "outputs": [],
   "source": [
    "train <- (Year < 2005)\n",
    "Smarket.2005 <- Smarket[!train, ]\n",
    "dim(Smarket.2005)\n",
    "Direction.2005 <- Direction[!train]"
   ]
  },
  {
   "cell_type": "markdown",
   "id": "bb4debd3",
   "metadata": {},
   "source": [
    "The object `train` is a vector of $1{,}250$ elements, corresponding to the observations in our data set. The elements of the vector that correspond to observations that occurred before 2005 are set to `TRUE`, whereas those that correspond to observations  in 2005 are set to `FALSE`.\n",
    "The object `train` is a  *Boolean* vector, since its elements are `TRUE` and `FALSE`.\n",
    "Boolean vectors can be used to obtain a subset of the rows or columns of a matrix. For instance, the command `Smarket[train, ]` would pick out a submatrix of the stock market data set, corresponding only to the dates before 2005, since\n",
    "those are the ones for which the elements of `train` are `TRUE`.\n",
    "The `!` symbol can be used to reverse all of the elements of  a Boolean vector. That is, `!train` is a vector similar to `train`, except that  the elements that are `TRUE` in `train` get swapped to `FALSE` in `!train`, and the elements that are `FALSE`\n",
    "in `train` get swapped to `TRUE` in `!train`. Therefore, `Smarket[!train, ]` yields a submatrix of the stock market data containing only\n",
    "the observations for which `train` is `FALSE`---that is, the observations with dates in 2005. The output above indicates that there are 252 such observations.\n",
    "\n",
    "We now fit a logistic regression model using only the subset of the observations that correspond to dates before 2005, using the `subset` argument. We then obtain predicted probabilities of the stock market going up for each of the days in our test set---that is, for the days in 2005."
   ]
  },
  {
   "cell_type": "code",
   "execution_count": null,
   "id": "625f9057",
   "metadata": {
    "name": "chunk10"
   },
   "outputs": [],
   "source": [
    "glm.fits <- glm(\n",
    "    Direction ~ Lag1 + Lag2 + Lag3 + Lag4 + Lag5 + Volume,\n",
    "    data = Smarket, family = binomial, subset = train\n",
    "  )\n",
    "glm.probs <- predict(glm.fits, Smarket.2005,\n",
    "    type = \"response\")"
   ]
  },
  {
   "cell_type": "markdown",
   "id": "86706a5f",
   "metadata": {},
   "source": [
    "Notice that we have trained and tested our model on two completely separate data sets: training was performed using only the dates before 2005, and testing was performed using only the dates in 2005.\n",
    "Finally, we compute the predictions for 2005 and compare them to the actual movements of the market over that time period."
   ]
  },
  {
   "cell_type": "code",
   "execution_count": null,
   "id": "62b066cd",
   "metadata": {
    "name": "chunk11"
   },
   "outputs": [],
   "source": [
    "glm.pred <- rep(\"Down\", 252)\n",
    "glm.pred[glm.probs > .5] <- \"Up\"\n",
    "table(glm.pred, Direction.2005)\n",
    "mean(glm.pred == Direction.2005)\n",
    "mean(glm.pred != Direction.2005)"
   ]
  },
  {
   "cell_type": "markdown",
   "id": "07b795e5",
   "metadata": {},
   "source": [
    "The `!=` notation means *not equal to*, and  so the last command computes the  test set error rate. The results are rather disappointing: the test error rate is $52$ \\%, which is worse than random guessing! Of course this result is not all that surprising, given that one would not generally expect to be able to  use previous days' returns to predict future market performance. (After all, if it were possible to do so, then the authors of this book would be out striking it rich rather than writing a statistics textbook.)\n",
    "\n",
    "We recall that the logistic regression model had very underwhelming $p$-values associated with all of the predictors, and that the smallest $p$-value, though not very small, corresponded to `lagone`. Perhaps by removing the variables that appear not  to be helpful in\n",
    "predicting\n",
    "`direction`, we can obtain a more effective model. After all, using predictors that have no relationship with the response tends to cause a deterioration in the test error rate (since such predictors cause an increase in variance without a corresponding decrease in bias), and so removing such predictors may in turn yield an improvement.\n",
    " Below we have refit the logistic regression using just `lagone` and `lagtwo`, which seemed to have the highest predictive power in the original logistic regression model."
   ]
  },
  {
   "cell_type": "code",
   "execution_count": null,
   "id": "c5ff9e49",
   "metadata": {
    "name": "chunk12"
   },
   "outputs": [],
   "source": [
    "glm.fits <- glm(Direction ~ Lag1 + Lag2, data = Smarket,\n",
    "    family = binomial, subset = train)\n",
    "glm.probs <- predict(glm.fits, Smarket.2005,\n",
    "    type = \"response\")\n",
    "glm.pred <- rep(\"Down\", 252)\n",
    "glm.pred[glm.probs > .5] <- \"Up\"\n",
    "table(glm.pred, Direction.2005)\n",
    "mean(glm.pred == Direction.2005)\n",
    "106 / (106 + 76)"
   ]
  },
  {
   "cell_type": "markdown",
   "id": "78c1e261",
   "metadata": {},
   "source": [
    "Now the results appear to be a little better: $56\\%$ of the daily movements have been correctly predicted. It is worth noting that in this case, a much simpler strategy of predicting that the market will increase every day will also be correct $56\\%$ of the time! Hence, in terms of overall error rate, the logistic regression method is no better than the naive approach. However, the confusion matrix shows that on days when logistic regression predicts an increase in the market, it has a $58\\%$ accuracy rate. This suggests a possible trading strategy of buying on days when the model predicts an increasing market, and avoiding trades on days when a decrease is predicted. Of course one would need to investigate more carefully whether this small improvement was real or just due to random chance."
   ]
  },
  {
   "cell_type": "markdown",
   "id": "84e3fb2e",
   "metadata": {},
   "source": [
    "Suppose that we want to predict the returns associated with particular values of `lagone` and `lagtwo`. In particular, we want to predict `direction` on a day when `lagone` and `lagtwo` equal 1.2 and~1.1, respectively, and  on a day when they equal  1.5 and $-$0.8.\n",
    "We do this using the `predict()` function."
   ]
  },
  {
   "cell_type": "code",
   "execution_count": null,
   "id": "e23097c4",
   "metadata": {
    "lines_to_next_cell": 0,
    "name": "chunk13"
   },
   "outputs": [],
   "source": [
    "predict(glm.fits,\n",
    "    newdata =\n",
    "      data.frame(Lag1 = c(1.2, 1.5),  Lag2 = c(1.1, -0.8)),\n",
    "    type = \"response\"\n",
    "  )"
   ]
  },
  {
   "cell_type": "markdown",
   "id": "bd5c5627",
   "metadata": {},
   "source": []
  },
  {
   "cell_type": "markdown",
   "id": "b429ab1e",
   "metadata": {},
   "source": [
    "## Linear Discriminant Analysis\n",
    "\n",
    "Now we will perform LDA on the `Smarket` data. In `R`, we fit an LDA model using the  `lda()` function, which is part of the `MASS` library. Notice that the syntax for the `lda()` function is identical to that of `lm()`, and to that of `glm()` except for the absence of the `family` option. We fit the model using only the observations before 2005."
   ]
  },
  {
   "cell_type": "code",
   "execution_count": null,
   "id": "01c42135",
   "metadata": {
    "name": "chunk14"
   },
   "outputs": [],
   "source": [
    "library(MASS)\n",
    "lda.fit <- lda(Direction ~ Lag1 + Lag2, data = Smarket,\n",
    "    subset = train)\n",
    "lda.fit\n",
    "plot(lda.fit)"
   ]
  },
  {
   "cell_type": "markdown",
   "id": "4800e3a2",
   "metadata": {},
   "source": [
    "The LDA output indicates that $\\hat\\pi_1=0.492$ and $\\hat\\pi_2=0.508$; in other words, $49.2$ \\% of the training observations correspond to days during which the market went down.\n",
    " It also provides the group means; these are the average of each predictor within each class, and are used by LDA as estimates of $\\mu_k$.\n",
    " These suggest that there is a tendency for the previous 2~days' returns to be negative on days when the market increases, and a tendency for the previous days' returns to be positive on days when the market declines.\n",
    "  The *coefficients of linear discriminants* output provides the linear combination of `lagone` and `lagtwo` that are used to form the LDA decision rule. In other words, these are the multipliers of the elements of $X=x$ in (4.24).\n",
    "  If $-0.642 \\times $`lagone`$ - 0.514 \\times $`lagtwo` is large, then the LDA classifier will predict a market increase, and if it is small, then the LDA classifier will predict a market decline.\n",
    "\n",
    "  The `plot()` function produces plots of the *linear discriminants*, obtained by computing $-0.642 \\times $`lagone`$ - 0.514 \\times $`lagtwo` for each of the training observations. The `Up` and `Down` observations are displayed separately.\n",
    "\n"
   ]
  },
  {
   "cell_type": "markdown",
   "id": "e9a891bc",
   "metadata": {},
   "source": [
    "The `predict()` function returns a list with three elements. The first element,  `class`,  contains LDA's predictions about the movement of the market. The second element, `posterior`, is a matrix whose $k$th column contains the posterior probability that the corresponding observation belongs to the $k$th class, computed from (4.15). Finally, `x` contains the linear discriminants, described earlier."
   ]
  },
  {
   "cell_type": "code",
   "execution_count": null,
   "id": "6e6ec506",
   "metadata": {
    "name": "chunk15"
   },
   "outputs": [],
   "source": [
    "lda.pred <- predict(lda.fit, Smarket.2005)\n",
    "names(lda.pred)"
   ]
  },
  {
   "cell_type": "markdown",
   "id": "6a23f131",
   "metadata": {},
   "source": [
    "As we observed in Section 4.5, the LDA and logistic regression predictions are almost identical."
   ]
  },
  {
   "cell_type": "code",
   "execution_count": null,
   "id": "f0b640b9",
   "metadata": {
    "name": "chunk16"
   },
   "outputs": [],
   "source": [
    "lda.class <- lda.pred$class\n",
    "table(lda.class, Direction.2005)\n",
    "mean(lda.class == Direction.2005)"
   ]
  },
  {
   "cell_type": "markdown",
   "id": "3feb69a2",
   "metadata": {},
   "source": [
    "Applying a $50$ \\% threshold to the posterior probabilities allows us to recreate the predictions contained in `lda.pred$class`."
   ]
  },
  {
   "cell_type": "code",
   "execution_count": null,
   "id": "1fa96460",
   "metadata": {
    "name": "chunk17"
   },
   "outputs": [],
   "source": [
    "sum(lda.pred$posterior[, 1] >= .5)\n",
    "sum(lda.pred$posterior[, 1] < .5)"
   ]
  },
  {
   "cell_type": "markdown",
   "id": "ee5ce464",
   "metadata": {},
   "source": [
    "Notice that the posterior probability output by the model corresponds to the probability that the market will *decrease*:"
   ]
  },
  {
   "cell_type": "code",
   "execution_count": null,
   "id": "52e00a1a",
   "metadata": {
    "name": "chunk18"
   },
   "outputs": [],
   "source": [
    "lda.pred$posterior[1:20, 1]\n",
    "lda.class[1:20]"
   ]
  },
  {
   "cell_type": "markdown",
   "id": "90247859",
   "metadata": {},
   "source": [
    "If we wanted to use a posterior probability threshold other than $50$ \\% in order to make predictions, then we could easily do so. For instance, suppose that we wish to predict a market decrease only if we are very certain that the market will indeed decrease on that day---say, if the posterior probability\n",
    "is at least $90$ \\%."
   ]
  },
  {
   "cell_type": "code",
   "execution_count": null,
   "id": "c4fbd315",
   "metadata": {
    "name": "chunk19"
   },
   "outputs": [],
   "source": [
    "sum(lda.pred$posterior[, 1] > .9)"
   ]
  },
  {
   "cell_type": "markdown",
   "id": "1d28c1fa",
   "metadata": {},
   "source": [
    "No days in 2005 meet that threshold! In fact, the greatest posterior probability of decrease in all of 2005 was $52.02$ \\%.\n",
    "\n",
    "## Quadratic Discriminant Analysis\n",
    "\n",
    "We will now fit a QDA model to the `Smarket` data. QDA is  implemented in `R` using the `qda()` function, which is also part of the `MASS` library. The syntax is identical to that of `lda()`."
   ]
  },
  {
   "cell_type": "code",
   "execution_count": null,
   "id": "00dbfc67",
   "metadata": {
    "name": "chunk20"
   },
   "outputs": [],
   "source": [
    "qda.fit <- qda(Direction ~ Lag1 + Lag2, data = Smarket,\n",
    "    subset = train)\n",
    "qda.fit"
   ]
  },
  {
   "cell_type": "markdown",
   "id": "e33388a3",
   "metadata": {},
   "source": [
    "The output  contains the group means. But it does not contain the coefficients of the linear discriminants, because the QDA classifier involves  a quadratic, rather than a linear, function of the predictors. The `predict()` function works in exactly the same fashion as for LDA."
   ]
  },
  {
   "cell_type": "code",
   "execution_count": null,
   "id": "f5b20b2c",
   "metadata": {
    "name": "chunk21"
   },
   "outputs": [],
   "source": [
    "qda.class <- predict(qda.fit, Smarket.2005)$class\n",
    "table(qda.class, Direction.2005)\n",
    "mean(qda.class == Direction.2005)"
   ]
  },
  {
   "cell_type": "markdown",
   "id": "f807175e",
   "metadata": {},
   "source": [
    "Interestingly, the QDA predictions are accurate almost $60$ \\% of the time, even though the 2005 data was not used  to fit the model. This level of accuracy is quite impressive for stock market data, which is known to be quite hard to model accurately.\n",
    "This  suggests that the quadratic form assumed by QDA may capture the true relationship more accurately than the linear forms assumed by LDA and logistic regression.\n",
    " However, we recommend evaluating this method's performance on a larger test set  before betting  that this approach will consistently beat the market!\n",
    "\n",
    "## Naive Bayes\n",
    "\n",
    "Next, we fit a naive Bayes model to the `Smarket` data. Naive Bayes is implemented in `R` using the `naiveBayes()` function, which is part of the `e1071` library. The syntax is identical to that of `lda()` and `qda()`.\n",
    "By default, this implementation of the naive Bayes classifier models each quantitative feature using a Gaussian distribution. However, a kernel density method can also be used to estimate the distributions."
   ]
  },
  {
   "cell_type": "code",
   "execution_count": null,
   "id": "f5d0d120",
   "metadata": {
    "name": "chunk22"
   },
   "outputs": [],
   "source": [
    "library(e1071)\n",
    "nb.fit <- naiveBayes(Direction ~ Lag1 + Lag2, data = Smarket,\n",
    "    subset = train)\n",
    "nb.fit"
   ]
  },
  {
   "cell_type": "markdown",
   "id": "5dc5eb5b",
   "metadata": {},
   "source": [
    "The output  contains the estimated mean and standard deviation for each variable in each class. For example, the mean for `lagone` is $0.0428$ for \n",
    "\n",
    "  `Direction=Down`, and the standard deviation is $1.23$. We can easily verify this:"
   ]
  },
  {
   "cell_type": "code",
   "execution_count": null,
   "id": "50bc117c",
   "metadata": {
    "name": "chunk23"
   },
   "outputs": [],
   "source": [
    "mean(Lag1[train][Direction[train] == \"Down\"])\n",
    "sd(Lag1[train][Direction[train] == \"Down\"])"
   ]
  },
  {
   "cell_type": "markdown",
   "id": "3d972cf3",
   "metadata": {},
   "source": [
    "The `predict()` function is straightforward."
   ]
  },
  {
   "cell_type": "code",
   "execution_count": null,
   "id": "6fd52b3d",
   "metadata": {
    "name": "chunk24"
   },
   "outputs": [],
   "source": [
    "nb.class <- predict(nb.fit, Smarket.2005)\n",
    "table(nb.class, Direction.2005)\n",
    "mean(nb.class == Direction.2005)"
   ]
  },
  {
   "cell_type": "markdown",
   "id": "b96d9dc9",
   "metadata": {},
   "source": [
    "Naive Bayes performs very well on this data, with accurate predictions over $59\\%$ of the time. This is slightly worse than QDA, but much better than LDA.\n",
    "\n",
    "The `predict()` function can also generate estimates of the probability that each observation belongs to a particular class. %"
   ]
  },
  {
   "cell_type": "code",
   "execution_count": null,
   "id": "9041ac40",
   "metadata": {
    "lines_to_next_cell": 2,
    "name": "chunk25"
   },
   "outputs": [],
   "source": [
    "nb.preds <- predict(nb.fit, Smarket.2005, type = \"raw\")\n",
    "nb.preds[1:5, ]"
   ]
  },
  {
   "cell_type": "markdown",
   "id": "f7961e29",
   "metadata": {},
   "source": [
    "## $K$-Nearest Neighbors\n",
    "\n",
    "We will now perform KNN using the `knn()` function, which is part of the `class` library. This function works rather differently from the other model-fitting functions that we have encountered thus far.\n",
    "Rather than a two-step approach  in which we first fit the model and then we use the model to make predictions, `knn()` forms predictions using a single command. The function requires four inputs.\n",
    "\n",
    "* A matrix containing the predictors associated with the training data, labeled `train.X` below.\n",
    "* A matrix containing the predictors associated with the data for which we wish to make predictions, labeled `test.X` below.\n",
    "* A vector containing the class labels for the training observations, labeled `train.Direction` below.\n",
    "* A value for $K$, the number of nearest neighbors to be used by the classifier.\n",
    "\n",
    "We use the `cbind()` function, short for *column bind*, to bind the `lagone` and `lagtwo` variables together into two matrices, one for the training set and the other for the test set."
   ]
  },
  {
   "cell_type": "code",
   "execution_count": null,
   "id": "22674cb0",
   "metadata": {
    "name": "chunk26"
   },
   "outputs": [],
   "source": [
    "library(class)\n",
    "train.X <- cbind(Lag1, Lag2)[train, ]\n",
    "test.X <- cbind(Lag1, Lag2)[!train, ]\n",
    "train.Direction <- Direction[train]"
   ]
  },
  {
   "cell_type": "markdown",
   "id": "d8795be3",
   "metadata": {},
   "source": [
    "Now the `knn()` function can be used to predict the market's movement for the dates in 2005. We set a random seed before we apply `knn()` because if several observations are tied as nearest neighbors, then `R` will randomly break the tie. Therefore, a seed must be set in order to ensure reproducibility of results."
   ]
  },
  {
   "cell_type": "code",
   "execution_count": null,
   "id": "e87cb940",
   "metadata": {
    "name": "chunk27"
   },
   "outputs": [],
   "source": [
    "set.seed(1)\n",
    "knn.pred <- knn(train.X, test.X, train.Direction, k = 1)\n",
    "table(knn.pred, Direction.2005)\n",
    "(83 + 43) / 252"
   ]
  },
  {
   "cell_type": "markdown",
   "id": "bf0a6fc6",
   "metadata": {},
   "source": [
    "The results using $K=1$ are not very good,  since only $50$ \\% of the observations are correctly predicted. Of course, it may be that $K=1$ results in  an overly flexible fit to the data. Below, we repeat the analysis using $K=3$."
   ]
  },
  {
   "cell_type": "code",
   "execution_count": null,
   "id": "8c8776ae",
   "metadata": {
    "name": "chunk28"
   },
   "outputs": [],
   "source": [
    "knn.pred <- knn(train.X, test.X, train.Direction, k = 3)\n",
    "table(knn.pred, Direction.2005)\n",
    "mean(knn.pred == Direction.2005)"
   ]
  },
  {
   "cell_type": "markdown",
   "id": "78c4e039",
   "metadata": {},
   "source": [
    "The results have improved slightly. But increasing $K$ further turns out to provide no further improvements. It appears that for this data, QDA provides the best results of the methods that we have examined so far.\n",
    "\n"
   ]
  },
  {
   "cell_type": "markdown",
   "id": "dd1a4fea",
   "metadata": {},
   "source": [
    "KNN does not perform well on the `Smarket` data but it does often provide impressive results. As an example we will apply the KNN approach to the `Insurance` data set, which is part of the `ISLR2` library. This data set includes $85$ predictors that measure\n",
    " demographic characteristics for 5,822 individuals. The response variable is `Purchase`, which indicates whether or not a given individual purchases a caravan insurance policy. In this data set, only $6$ \\% of people purchased caravan  insurance.\n"
   ]
  },
  {
   "cell_type": "code",
   "execution_count": null,
   "id": "3f456b7c",
   "metadata": {
    "name": "chunk29"
   },
   "outputs": [],
   "source": [
    "dim(Caravan)\n",
    "attach(Caravan)\n",
    "summary(Purchase)\n",
    "348 / 5822"
   ]
  },
  {
   "cell_type": "markdown",
   "id": "136195d4",
   "metadata": {},
   "source": [
    "Because the KNN classifier predicts the class of a given test observation by identifying the observations that are nearest to it, the scale of the variables matters. Variables that are on a large scale will have a much larger effect\n",
    " on the *distance* between the observations, and hence\n",
    "on the KNN classifier, than variables that are on a small scale. For instance, imagine a data set that contains two variables, `salary` and `age` (measured in dollars and years, respectively). As far as KNN is concerned, a difference of $$1{,}000$ in salary is enormous compared to a difference of $50$ years in age. Consequently, `salary` will drive the KNN classification results, and `age` will have almost no effect. This is contrary to our intuition  that a salary difference of $$1{,}000$ is quite small compared to an age difference of $50$ years.\n",
    "Furthermore, the importance of scale to the KNN classifier leads to another issue: if we measured `salary` in Japanese yen, or if we measured `age` in minutes, then we'd get quite different classification results from what we get\n",
    " if these two variables are measured in dollars and years."
   ]
  },
  {
   "cell_type": "markdown",
   "id": "944b104a",
   "metadata": {},
   "source": [
    "A good way to handle this problem is to *standardize* the data so that all variables are given a mean of  zero and  a standard deviation of one. Then all variables will be on a comparable scale. The `scale()` function does just this.\n",
    " In standardizing the data, we exclude column $86$, because that is the qualitative `Purchase` variable."
   ]
  },
  {
   "cell_type": "code",
   "execution_count": null,
   "id": "a09e1cdc",
   "metadata": {
    "name": "chunk30"
   },
   "outputs": [],
   "source": [
    "standardized.X <- scale(Caravan[, -86])\n",
    "var(Caravan[, 1])\n",
    "var(Caravan[, 2])\n",
    "var(standardized.X[, 1])\n",
    "var(standardized.X[, 2])"
   ]
  },
  {
   "cell_type": "markdown",
   "id": "315dd547",
   "metadata": {},
   "source": [
    "Now every column of `standardized.X` has a standard deviation of one and a mean of zero.\n",
    "\n",
    "We now split the observations into a test set, containing the first 1,000 observations, and a training set, containing the remaining observations.\n",
    "We fit  a KNN model on the training data using $K=1$, and evaluate its performance on the test data.%"
   ]
  },
  {
   "cell_type": "code",
   "execution_count": null,
   "id": "270e4ca5",
   "metadata": {
    "name": "chunk31"
   },
   "outputs": [],
   "source": [
    "test <- 1:1000\n",
    "train.X <- standardized.X[-test, ]\n",
    "test.X <- standardized.X[test, ]\n",
    "train.Y <- Purchase[-test]\n",
    "test.Y <- Purchase[test]\n",
    "set.seed(1)\n",
    "knn.pred <- knn(train.X, test.X, train.Y, k = 1)\n",
    "mean(test.Y != knn.pred)\n",
    "mean(test.Y != \"No\")"
   ]
  },
  {
   "cell_type": "markdown",
   "id": "9f2e6e3f",
   "metadata": {},
   "source": [
    "The vector `test` is numeric, with values\n",
    "from  $1$ through $1,000$. Typing `standardized.X[test, ]` yields the submatrix of the data containing the observations whose indices range from $1$ to $1,000$, whereas typing \n",
    "\n",
    "`standardized.X[-test, ]` yields the submatrix containing the observations whose indices do\n",
    "*not* range from $1$ to $1,000$.\n",
    "The KNN error rate on the 1,000 test observations is just under $12$ \\%. At first glance, this may appear to be fairly good. However, since only $6$ \\% of customers purchased insurance, we could get the error rate down to $6$ \\% by always predicting `No` regardless of\n",
    "the values of the predictors!\n",
    "\n",
    "Suppose that there is some non-trivial cost to trying to sell insurance to a given individual. For instance, perhaps a salesperson must  visit each potential customer.\n",
    "If the company tries to sell insurance to a random selection of customers, then the success rate will be only $6$ \\%, which may be far too low given the costs involved.\n",
    "Instead, the company would like to try to sell insurance only to customers who are likely to buy it. So the  overall error rate is not of interest. Instead,  the fraction of individuals that are correctly predicted to buy insurance is of interest.\n",
    "\n",
    " It turns out that KNN with $K=1$ does far better than random guessing among the customers that are predicted to buy insurance. Among  $77$ such customers, $9$, or $11.7$ \\%, actually do purchase insurance.\n",
    " This is  double the rate that one would obtain from random guessing."
   ]
  },
  {
   "cell_type": "code",
   "execution_count": null,
   "id": "9983bdd0",
   "metadata": {
    "name": "chunk32"
   },
   "outputs": [],
   "source": [
    "table(knn.pred, test.Y)\n",
    "9 / (68 + 9)"
   ]
  },
  {
   "cell_type": "markdown",
   "id": "ee2b7f18",
   "metadata": {},
   "source": [
    "Using $K=3$, the success rate increases to $19$ \\%, and with $K=5$ the rate is $26.7$ \\%. This is  over four times the rate that results from random guessing. It appears that KNN is finding some real patterns in a difficult data set!"
   ]
  },
  {
   "cell_type": "code",
   "execution_count": null,
   "id": "5766d880",
   "metadata": {
    "name": "chunk33"
   },
   "outputs": [],
   "source": [
    "knn.pred <- knn(train.X, test.X, train.Y, k = 3)\n",
    "table(knn.pred, test.Y)\n",
    "5 / 26\n",
    "knn.pred <- knn(train.X, test.X, train.Y, k = 5)\n",
    "table(knn.pred, test.Y)\n",
    "4 / 15"
   ]
  },
  {
   "cell_type": "markdown",
   "id": "04b29322",
   "metadata": {},
   "source": [
    "However, while this strategy is cost-effective, it is worth noting that only 15 customers are predicted to purchase insurance using KNN with $K=5$. In practice, the insurance company may wish to expend resources on convincing more than just 15 potential customers to buy insurance.\n",
    "\n",
    "As a comparison, we can also fit a logistic regression model to the data. If we use $0.5$ as the predicted probability cut-off for the classifier, then we have a problem: only seven of the test observations are predicted to purchase insurance. Even worse, we are wrong about all of these!\n",
    " However, we are not required to use a cut-off of  $0.5$. If we instead predict a purchase any time the predicted probability of purchase exceeds  $0.25$, we get much better results: we predict that 33 people will purchase insurance, and\n",
    " we are correct for about $33$ \\% of these people. This is  over five times better than random guessing!"
   ]
  },
  {
   "cell_type": "code",
   "execution_count": null,
   "id": "43d4fb2e",
   "metadata": {
    "lines_to_next_cell": 0,
    "name": "chunk34"
   },
   "outputs": [],
   "source": [
    "glm.fits <- glm(Purchase ~ ., data = Caravan,\n",
    "    family = binomial, subset = -test)\n",
    "glm.probs <- predict(glm.fits, Caravan[test, ],\n",
    "    type = \"response\")\n",
    "glm.pred <- rep(\"No\", 1000)\n",
    "glm.pred[glm.probs > .5] <- \"Yes\"\n",
    "table(glm.pred, test.Y)\n",
    "glm.pred <- rep(\"No\", 1000)\n",
    "glm.pred[glm.probs > .25] <- \"Yes\"\n",
    "table(glm.pred, test.Y)\n",
    "11 / (22 + 11)"
   ]
  },
  {
   "cell_type": "markdown",
   "id": "35521c81",
   "metadata": {},
   "source": []
  },
  {
   "cell_type": "markdown",
   "id": "bc7ef8a1",
   "metadata": {},
   "source": [
    "## Poisson Regression\n",
    "\n",
    "Finally, we fit a  Poisson regression model to the `Bikeshare` data set, which measures the number of bike rentals (`bikers`) per hour in Washington, DC. The data can be found in the `ISLR2` library.\n"
   ]
  },
  {
   "cell_type": "code",
   "execution_count": null,
   "id": "6e998c48",
   "metadata": {
    "lines_to_next_cell": 2,
    "name": "chunk35"
   },
   "outputs": [],
   "source": [
    "attach(Bikeshare)\n",
    "dim(Bikeshare)\n",
    "names(Bikeshare)"
   ]
  },
  {
   "cell_type": "markdown",
   "id": "4206ae92",
   "metadata": {},
   "source": [
    "We begin by fitting a least squares linear regression model to the data."
   ]
  },
  {
   "cell_type": "code",
   "execution_count": null,
   "id": "b2ebc864",
   "metadata": {
    "name": "chunk36"
   },
   "outputs": [],
   "source": [
    "mod.lm <- lm(\n",
    "    bikers ~ mnth + hr + workingday + temp + weathersit,\n",
    "    data = Bikeshare\n",
    "  )\n",
    "summary(mod.lm)"
   ]
  },
  {
   "cell_type": "markdown",
   "id": "3745ea9c",
   "metadata": {},
   "source": [
    "Due to space constraints, we truncate the output of `summary(mod.lm)`.\n",
    "In `mod.lm`, the first level of `hr` (0) and `mnth` (Jan) are treated as the baseline values, and so no coefficient estimates are provided for them: implicitly, their coefficient estimates are zero, and all other levels are measured relative to these baselines. For example, the Feb coefficient of $6.845$ signifies that, holding all other variables constant, there are on average about 7 more riders in February than in January. Similarly there are about 16.5 more riders in March than in January.\n",
    "\n",
    "The results seen in Section 4.6.1 used a slightly different coding of the variables `hr` and `mnth`, as follows:"
   ]
  },
  {
   "cell_type": "code",
   "execution_count": null,
   "id": "23392872",
   "metadata": {
    "name": "chunk37"
   },
   "outputs": [],
   "source": [
    "contrasts(Bikeshare$hr) = contr.sum(24)\n",
    "contrasts(Bikeshare$mnth) = contr.sum(12)\n",
    "mod.lm2 <- lm(\n",
    "    bikers ~ mnth + hr + workingday + temp + weathersit,\n",
    "    data = Bikeshare\n",
    "  )\n",
    "summary(mod.lm2)"
   ]
  },
  {
   "cell_type": "markdown",
   "id": "39d5a864",
   "metadata": {},
   "source": [
    "What is the difference between the two codings?  In `mod.lm2`,  a coefficient estimate is reported for all but the last level of `hr` and `mnth`. Importantly, in `mod.lm2`, the coefficient estimate for the last level of `mnth` is not zero: instead, it equals the *negative of the sum of the coefficient estimates for all of the other levels*. Similarly, in `mod.lm2`, the coefficient estimate for the last level of `hr` is the negative of the sum of the coefficient estimates for all of the other levels. This means that the coefficients of `hr` and `mnth` in `mod.lm2` will always sum to zero, and can be interpreted as the difference from the mean level. For example, the coefficient for January of $-46.087$ indicates that, holding all other variables constant, there are typically 46 fewer riders in January relative to the yearly average.\n",
    "\n",
    "It is important to realize that the choice of coding really does not matter, provided that we interpret the model output correctly in light of the coding used. For example, we see   that the predictions from the linear model are the same regardless of coding:"
   ]
  },
  {
   "cell_type": "code",
   "execution_count": null,
   "id": "0befd19d",
   "metadata": {
    "name": "chunk38"
   },
   "outputs": [],
   "source": [
    "sum((predict(mod.lm) - predict(mod.lm2))^2)"
   ]
  },
  {
   "cell_type": "markdown",
   "id": "0f8cb359",
   "metadata": {},
   "source": [
    "The sum of squared differences is zero. We can also see this using the `all.equal()` function:"
   ]
  },
  {
   "cell_type": "code",
   "execution_count": null,
   "id": "296407c6",
   "metadata": {
    "lines_to_next_cell": 2,
    "name": "chunk39"
   },
   "outputs": [],
   "source": [
    "all.equal(predict(mod.lm), predict(mod.lm2))"
   ]
  },
  {
   "cell_type": "markdown",
   "id": "a436fdd6",
   "metadata": {},
   "source": [
    "To reproduce the left-hand side of Figure 4.13, we must first obtain the coefficient estimates associated with `mnth`. The coefficients for January through November can be obtained directly from the `mod.lm2` object. The coefficient for December must be explicitly computed as the negative sum of all the other months."
   ]
  },
  {
   "cell_type": "code",
   "execution_count": null,
   "id": "cbe713c4",
   "metadata": {
    "name": "chunk40"
   },
   "outputs": [],
   "source": [
    "coef.months <- c(coef(mod.lm2)[2:12],\n",
    "    -sum(coef(mod.lm2)[2:12]))"
   ]
  },
  {
   "cell_type": "markdown",
   "id": "e7de85f2",
   "metadata": {},
   "source": [
    "To make the plot, we manually label the $x$-axis with the names of the months."
   ]
  },
  {
   "cell_type": "code",
   "execution_count": null,
   "id": "3627aca7",
   "metadata": {
    "name": "chunk41"
   },
   "outputs": [],
   "source": [
    "plot(coef.months, xlab = \"Month\", ylab = \"Coefficient\",\n",
    "    xaxt = \"n\", col = \"blue\", pch = 19, type = \"o\")\n",
    "axis(side = 1, at = 1:12, labels = c(\"J\", \"F\", \"M\", \"A\",\n",
    "    \"M\", \"J\", \"J\", \"A\", \"S\", \"O\", \"N\", \"D\"))"
   ]
  },
  {
   "cell_type": "markdown",
   "id": "3a508795",
   "metadata": {},
   "source": [
    "Reproducing the right-hand side of Figure 4.13 follows a similar process."
   ]
  },
  {
   "cell_type": "code",
   "execution_count": null,
   "id": "7aa468a8",
   "metadata": {
    "lines_to_next_cell": 0,
    "name": "chunk42"
   },
   "outputs": [],
   "source": [
    "coef.hours <- c(coef(mod.lm2)[13:35],\n",
    "    -sum(coef(mod.lm2)[13:35]))\n",
    "plot(coef.hours, xlab = \"Hour\", ylab = \"Coefficient\",\n",
    "    col = \"blue\", pch = 19, type = \"o\")"
   ]
  },
  {
   "cell_type": "markdown",
   "id": "e41c6267",
   "metadata": {},
   "source": []
  },
  {
   "cell_type": "markdown",
   "id": "5eb249b6",
   "metadata": {},
   "source": [
    "Now, we consider instead fitting a Poisson regression model to the `Bikeshare` data. Very little changes, except that we now use the function `glm()` with the argument `family = poisson` to specify that we wish to  fit a Poisson regression model:"
   ]
  },
  {
   "cell_type": "code",
   "execution_count": null,
   "id": "6bb7e7ff",
   "metadata": {
    "name": "chunk43"
   },
   "outputs": [],
   "source": [
    "mod.pois <- glm(\n",
    "    bikers ~ mnth + hr + workingday + temp + weathersit,\n",
    "    data = Bikeshare, family = poisson\n",
    "  )\n",
    "summary(mod.pois)"
   ]
  },
  {
   "cell_type": "markdown",
   "id": "31d01bb2",
   "metadata": {},
   "source": [
    "We can plot the coefficients associated with `mnth` and `hr`, in order to reproduce Figure 4.15:"
   ]
  },
  {
   "cell_type": "code",
   "execution_count": null,
   "id": "c3b6955f",
   "metadata": {
    "name": "chunk44"
   },
   "outputs": [],
   "source": [
    "coef.mnth <- c(coef(mod.pois)[2:12],\n",
    "    -sum(coef(mod.pois)[2:12]))\n",
    "plot(coef.mnth, xlab = \"Month\", ylab = \"Coefficient\",\n",
    "     xaxt = \"n\", col = \"blue\", pch = 19, type = \"o\")\n",
    "axis(side = 1, at = 1:12, labels = c(\"J\", \"F\", \"M\", \"A\", \"M\", \"J\", \"J\", \"A\", \"S\", \"O\", \"N\", \"D\"))\n",
    "coef.hours <- c(coef(mod.pois)[13:35],\n",
    "     -sum(coef(mod.pois)[13:35]))\n",
    "plot(coef.hours, xlab = \"Hour\", ylab = \"Coefficient\",\n",
    "    col = \"blue\", pch = 19, type = \"o\")"
   ]
  },
  {
   "cell_type": "markdown",
   "id": "6595a4c7",
   "metadata": {},
   "source": [
    "We can once again use the `predict()` function to obtain the fitted values (predictions) from this Poisson regression model. However, we must use the argument `type = \"response\"` to specify that we want `R` to output $\\exp(\\hat\\beta_0 + \\hat\\beta_1 X_1 + \\ldots +\\hat\\beta_p X_p)$ rather than $\\hat\\beta_0 + \\hat\\beta_1 X_1 + \\ldots + \\hat\\beta_p X_p$, which it will output by default."
   ]
  },
  {
   "cell_type": "code",
   "execution_count": null,
   "id": "7d8a4718",
   "metadata": {
    "name": "chunk45"
   },
   "outputs": [],
   "source": [
    "plot(predict(mod.lm2), predict(mod.pois, type = \"response\"))\n",
    "abline(0, 1, col = 2, lwd = 3)"
   ]
  },
  {
   "cell_type": "markdown",
   "id": "690f7ec5",
   "metadata": {},
   "source": [
    "The predictions from the Poisson regression model are correlated with those from the linear model; however, the former are non-negative. As a result the Poisson regression predictions tend to be larger than those from the linear model for either very low or very high levels of ridership.\n",
    "\n",
    "In this section, we used the `glm()` function with the argument `family = poisson` in order to perform Poisson regression. Earlier in this lab we used the `glm()` function with `family = binomial` to perform logistic regression. Other choices for the `family` argument can be used to fit other types of GLMs. For instance, `family = Gamma` fits a gamma regression model.\n",
    "\n"
   ]
  }
 ],
 "metadata": {
  "jupytext": {
   "cell_metadata_filter": "name,tags,-all"
  },
  "kernelspec": {
   "display_name": "R",
   "language": "R",
   "name": "ir"
  }
 },
 "nbformat": 4,
 "nbformat_minor": 5
}
